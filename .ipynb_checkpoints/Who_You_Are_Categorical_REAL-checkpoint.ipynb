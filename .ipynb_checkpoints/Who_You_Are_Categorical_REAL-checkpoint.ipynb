{
 "cells": [
  {
   "cell_type": "code",
   "execution_count": 145,
   "metadata": {},
   "outputs": [],
   "source": [
    "import numpy as np\n",
    "import random\n",
    "import time\n",
    "import pandas\n",
    "\n",
    "from keras.callbacks import LambdaCallback\n",
    "\n",
    "from keras import optimizers\n",
    "from keras.layers import Activation, Input, LSTM, Dense, Dropout, BatchNormalization, GRU, Flatten, TimeDistributed\n",
    "from keras.models import Model\n",
    "from keras.utils import plot_model\n",
    "from keras.layers.merge import concatenate\n",
    "\n",
    "from pandas import read_csv\n",
    "from socketIO_client import SocketIO, LoggingNamespace\n",
    "\n",
    "from sklearn.preprocessing import MinMaxScaler\n",
    "\n",
    "from keras.utils.vis_utils import model_to_dot\n",
    "from matplotlib import pyplot\n",
    "from IPython.display import SVG\n",
    "import pydot\n",
    "import graphviz"
   ]
  },
  {
   "cell_type": "code",
   "execution_count": 146,
   "metadata": {
    "collapsed": true
   },
   "outputs": [],
   "source": [
    "# socket = SocketIO('localhost', 9876, LoggingNamespace)\n",
    "from MidiPlayer import MidiPlayer\n",
    "player = MidiPlayer()"
   ]
  },
  {
   "cell_type": "code",
   "execution_count": 147,
   "metadata": {
    "collapsed": true
   },
   "outputs": [],
   "source": [
    "dropout = 0.02\n",
    "n_time_steps = 2\n",
    "semi_redundancy_step = 3"
   ]
  },
  {
   "cell_type": "code",
   "execution_count": 148,
   "metadata": {},
   "outputs": [
    {
     "name": "stdout",
     "output_type": "stream",
     "text": [
      "['0', ' 0.92', ' 18']\n",
      "corpus length: 16\n"
     ]
    }
   ],
   "source": [
    "corpus = read_csv('Audio/data/output.csv', header=1)\n",
    "print(list(corpus))\n",
    "print('corpus length:', len(corpus))"
   ]
  },
  {
   "cell_type": "code",
   "execution_count": 149,
   "metadata": {},
   "outputs": [
    {
     "name": "stdout",
     "output_type": "stream",
     "text": [
      "{0: 0, 1: 1, 2: 2, 3: 3, 4: 4, 5: 5, 6: 6, 7: 7, 8: 8, 9: 9, 10: 10, 11: 11, 12: 12, 13: 13, 14: 14, 15: 15, 16: 16, 17: 17, 18: 18, 19: 19, 20: 20, 21: 21, 22: 22, 23: 23, 24: 24, 25: 25, 26: 26, 27: 27, 28: 28, 29: 29, 30: 30, 31: 31, 32: 32, 33: 33, 34: 34, 35: 35, 36: 36, 37: 37, 38: 38, 39: 39, 40: 40, 41: 41, 42: 42, 43: 43, 44: 44, 45: 45, 46: 46, 47: 47, 48: 48, 49: 49, 50: 50, 51: 51, 52: 52, 53: 53, 54: 54, 55: 55, 56: 56, 57: 57, 58: 58, 59: 59, 60: 60, 61: 61, 62: 62, 63: 63, 64: 64, 65: 65, 66: 66, 67: 67, 68: 68, 69: 69, 70: 70, 71: 71, 72: 72, 73: 73, 74: 74, 75: 75, 76: 76, 77: 77, 78: 78, 79: 79, 80: 80, 81: 81, 82: 82, 83: 83, 84: 84, 85: 85, 86: 86, 87: 87, 88: 88, 89: 89, 90: 90, 91: 91, 92: 92, 93: 93, 94: 94, 95: 95, 96: 96, 97: 97, 98: 98, 99: 99, 100: 100, 101: 101, 102: 102, 103: 103, 104: 104, 105: 105, 106: 106, 107: 107, 108: 108, 109: 109, 110: 110, 111: 111, 112: 112, 113: 113, 114: 114, 115: 115, 116: 116, 117: 117, 118: 118, 119: 119, 120: 120, 121: 121, 122: 122, 123: 123, 124: 124, 125: 125, 126: 126, 127: 127}\n",
      "[0.65 0.51 1.3  1.4  0.05 0.93 0.6  0.33 0.33 0.09 0.98 1.3  1.3  0.51\n",
      " 1.3  0.84]\n"
     ]
    }
   ],
   "source": [
    "notes_index = corpus.values[:, 0]\n",
    "length_index = corpus.values[:, 1]\n",
    "print(note_index)\n",
    "print(length_index)"
   ]
  },
  {
   "cell_type": "code",
   "execution_count": null,
   "metadata": {},
   "outputs": [],
   "source": []
  },
  {
   "cell_type": "code",
   "execution_count": 150,
   "metadata": {},
   "outputs": [
    {
     "name": "stdout",
     "output_type": "stream",
     "text": [
      "num_events: 128\n",
      "{0.05: 0, 0.09: 1, 0.33: 2, 0.51: 3, 0.6: 4, 0.65: 5, 0.84: 6, 0.93: 7, 0.98: 8, 1.3: 9, 1.4: 10}\n",
      "{0: 0.05, 1: 0.09, 2: 0.33, 3: 0.51, 4: 0.6, 5: 0.65, 6: 0.84, 7: 0.93, 8: 0.98, 9: 1.3, 10: 1.4}\n"
     ]
    }
   ],
   "source": [
    "# notes = sorted(list(set(notes_index)))\n",
    "lengths = sorted(list(set(length_index)))\n",
    "notes = []\n",
    "for i in range(0, 128):\n",
    "    notes.append(i)\n",
    "    \n",
    "print('num_events:', len(notes))\n",
    "# print(notes)\n",
    "note_index = dict((c, i) for i, c in enumerate(notes))\n",
    "index_note = dict((i, c) for i, c in enumerate(notes))\n",
    "\n",
    "lengths_index = dict((c, i) for i, c in enumerate(lengths))\n",
    "index_lengths = dict((i, c) for i, c in enumerate(lengths))\n",
    "print(lengths_index)\n",
    "print(index_lengths)"
   ]
  },
  {
   "cell_type": "code",
   "execution_count": 151,
   "metadata": {},
   "outputs": [],
   "source": [
    "# scaler = MinMaxScaler(feature_range=(0, 1))\n",
    "# scaler.fit(length_index[:].reshape(-1,1))\n",
    "# length_index = scaler.transform(length_index[:].reshape(-1,1))\n",
    "# print(length_index[0:3])"
   ]
  },
  {
   "cell_type": "code",
   "execution_count": null,
   "metadata": {
    "collapsed": true
   },
   "outputs": [],
   "source": []
  },
  {
   "cell_type": "code",
   "execution_count": 152,
   "metadata": {},
   "outputs": [
    {
     "name": "stdout",
     "output_type": "stream",
     "text": [
      "nb sequences: 5\n",
      "[array([0.65, 0.51]), array([1.4 , 0.05]), array([0.6 , 0.33]), array([0.09, 0.98]), array([1.3 , 0.51])]\n",
      "[1.3, 0.93, 0.33, 1.3, 1.3]\n"
     ]
    }
   ],
   "source": [
    "length_phrases = []\n",
    "next_length = []\n",
    "note_phrases = []\n",
    "next_note = []\n",
    "for i in range(0, len(notes_index) - n_time_steps, semi_redundancy_step):\n",
    "    note_phrases.append(notes_index[i: i + n_time_steps])\n",
    "    length_phrases.append(length_index[i: i + n_time_steps])\n",
    "    \n",
    "    next_note.append(notes_index[i + n_time_steps])\n",
    "    next_length.append(length_index[i + n_time_steps])\n",
    "print('nb sequences:', len(note_phrases))\n",
    "# for i in range(2):\n",
    "#     print('______________')\n",
    "#     print('note_x', note_phrases[i])\n",
    "#     print('note_y', next_note[i])\n",
    "#     print('length_x', length_phrases[i])\n",
    "#     print('length_y', next_length[i])\n",
    "print(length_phrases)\n",
    "print(next_length)"
   ]
  },
  {
   "cell_type": "code",
   "execution_count": 153,
   "metadata": {},
   "outputs": [
    {
     "name": "stdout",
     "output_type": "stream",
     "text": [
      "Vectorization...\n",
      "0 0 58.0\n",
      "0 1 57.0\n",
      "1 0 52.0\n",
      "1 1 61.0\n",
      "2 0 0.0\n",
      "2 1 50.0\n",
      "3 0 53.0\n",
      "3 1 52.0\n",
      "4 0 55.0\n",
      "4 1 52.0\n",
      "0 0 0.65\n",
      "0 1 0.51\n",
      "1 0 1.4\n",
      "1 1 0.05\n",
      "2 0 0.6\n",
      "2 1 0.33\n",
      "3 0 0.09\n",
      "3 1 0.98\n",
      "4 0 1.3\n",
      "4 1 0.51\n"
     ]
    }
   ],
   "source": [
    "print('Vectorization...')\n",
    "\n",
    "note_x = np.zeros((len(note_phrases), n_time_steps, len(notes)), dtype=np.bool)\n",
    "note_y = np.zeros((len(note_phrases), len(notes)), dtype=np.bool)\n",
    "\n",
    "length_x = np.zeros((len(length_phrases), n_time_steps, len(lengths)), dtype=np.bool)\n",
    "length_y = np.zeros((len(length_phrases), len(lengths)), dtype=np.bool)\n",
    "\n",
    "for i, phrase in enumerate(note_phrases):\n",
    "    for t, note in enumerate(phrase):\n",
    "        print(i, t, note)\n",
    "        note_x[i, t, note_index[note]] = 1\n",
    "    note_y[i, note_index[next_note[i]]] = 1\n",
    "\n",
    "for i, phrase in enumerate(length_phrases):\n",
    "    for t, length in enumerate(phrase):\n",
    "        print(i, t, length)\n",
    "        length_x[i, t, lengths_index[length]] = 1\n",
    "    length_y[i, lengths_index[next_length[i]]] = 1\n",
    "    \n",
    "# print('______________')\n",
    "# print('length_x', length_x[0])\n",
    "# print('length_y', length_y[0])\n",
    "# print('note_x', note_x[0])\n",
    "# print('note_y', note_y[0])"
   ]
  },
  {
   "cell_type": "code",
   "execution_count": 154,
   "metadata": {},
   "outputs": [
    {
     "name": "stdout",
     "output_type": "stream",
     "text": [
      "(5, 2, 128)\n",
      "(5, 2, 11)\n",
      "(5, 128)\n",
      "(5, 11)\n"
     ]
    }
   ],
   "source": [
    "print(note_x.shape)\n",
    "print(length_x.shape)\n",
    "print(note_y.shape)\n",
    "print(length_y.shape)"
   ]
  },
  {
   "cell_type": "code",
   "execution_count": 172,
   "metadata": {},
   "outputs": [],
   "source": [
    "lstm_size = 64\n",
    "\n",
    "note_input = Input(name='note_input', shape=(n_time_steps, len(notes)))\n",
    "length_input = Input(name='length_input', shape=(n_time_steps, len(lengths)))\n",
    "\n",
    "# input_merge = concatenate([note_input, length_input])\n",
    "\n",
    "# nn = LSTM(lstm_size, return_sequences=True)(input_merge)\n",
    "# # nn = Dropout(dropout)(nn)\n",
    "# nn = LSTM(lstm_size, return_sequences=True)(nn)\n",
    "\n",
    "note_branch = LSTM(lstm_size, return_sequences=True)(note_input)\n",
    "note_share = LSTM(int(lstm_size/4), return_sequences=True)(note_branch)\n",
    "\n",
    "length_branch = LSTM(lstm_size, return_sequences=True)(length_input)\n",
    "length_share = LSTM(int(lstm_size/4), return_sequences=True)(length_branch)\n",
    "\n",
    "length_merge = concatenate([length_branch, note_share])\n",
    "note_merge = concatenate([note_branch, length_share])\n",
    "\n",
    "length_lstm = LSTM(lstm_size, return_sequences=False)(length_merge)\n",
    "note_lstm = LSTM(lstm_size, return_sequences=False)(note_merge)\n",
    "                    \n",
    "output_notes = Dense(len(notes), activation='softmax', name='note_output')(note_lstm)\n",
    "length_output = Dense(len(lengths), activation='softmax', name='length_output')(length_lstm)\n",
    "\n",
    "optimizer = optimizers.RMSprop(lr=0.001)\n",
    "model = Model(inputs=[note_input, length_input], outputs=[output_notes, length_output])\n",
    "model.compile(loss=['categorical_crossentropy', 'categorical_crossentropy'], optimizer=optimizer)"
   ]
  },
  {
   "cell_type": "code",
   "execution_count": 173,
   "metadata": {},
   "outputs": [
    {
     "name": "stdout",
     "output_type": "stream",
     "text": [
      "__________________________________________________________________________________________________\n",
      "Layer (type)                    Output Shape         Param #     Connected to                     \n",
      "==================================================================================================\n",
      "note_input (InputLayer)         (None, 2, 128)       0                                            \n",
      "__________________________________________________________________________________________________\n",
      "length_input (InputLayer)       (None, 2, 11)        0                                            \n",
      "__________________________________________________________________________________________________\n",
      "lstm_13 (LSTM)                  (None, 2, 64)        49408       note_input[0][0]                 \n",
      "__________________________________________________________________________________________________\n",
      "lstm_15 (LSTM)                  (None, 2, 64)        19456       length_input[0][0]               \n",
      "__________________________________________________________________________________________________\n",
      "lstm_16 (LSTM)                  (None, 2, 16)        5184        lstm_15[0][0]                    \n",
      "__________________________________________________________________________________________________\n",
      "lstm_14 (LSTM)                  (None, 2, 16)        5184        lstm_13[0][0]                    \n",
      "__________________________________________________________________________________________________\n",
      "concatenate_6 (Concatenate)     (None, 2, 80)        0           lstm_13[0][0]                    \n",
      "                                                                 lstm_16[0][0]                    \n",
      "__________________________________________________________________________________________________\n",
      "concatenate_5 (Concatenate)     (None, 2, 80)        0           lstm_15[0][0]                    \n",
      "                                                                 lstm_14[0][0]                    \n",
      "__________________________________________________________________________________________________\n",
      "lstm_18 (LSTM)                  (None, 64)           37120       concatenate_6[0][0]              \n",
      "__________________________________________________________________________________________________\n",
      "lstm_17 (LSTM)                  (None, 64)           37120       concatenate_5[0][0]              \n",
      "__________________________________________________________________________________________________\n",
      "note_output (Dense)             (None, 128)          8320        lstm_18[0][0]                    \n",
      "__________________________________________________________________________________________________\n",
      "length_output (Dense)           (None, 11)           715         lstm_17[0][0]                    \n",
      "==================================================================================================\n",
      "Total params: 162,507\n",
      "Trainable params: 162,507\n",
      "Non-trainable params: 0\n",
      "__________________________________________________________________________________________________\n"
     ]
    }
   ],
   "source": [
    "model.summary()"
   ]
  },
  {
   "cell_type": "code",
   "execution_count": 174,
   "metadata": {},
   "outputs": [
    {
     "data": {
      "image/svg+xml": [
       "<svg height=\"483pt\" viewBox=\"0.00 0.00 367.50 483.00\" width=\"367pt\" xmlns=\"http://www.w3.org/2000/svg\" xmlns:xlink=\"http://www.w3.org/1999/xlink\">\n",
       "<g class=\"graph\" id=\"graph0\" transform=\"scale(1 1) rotate(0) translate(4 479)\">\n",
       "<title>G</title>\n",
       "<polygon fill=\"#ffffff\" points=\"-4,4 -4,-479 363.4971,-479 363.4971,4 -4,4\" stroke=\"transparent\"/>\n",
       "<!-- 112228275984 -->\n",
       "<g class=\"node\" id=\"node1\">\n",
       "<title>112228275984</title>\n",
       "<polygon fill=\"none\" points=\"160.4448,-438.5 160.4448,-474.5 305.9106,-474.5 305.9106,-438.5 160.4448,-438.5\" stroke=\"#000000\"/>\n",
       "<text fill=\"#000000\" font-family=\"Times,serif\" font-size=\"14.00\" text-anchor=\"middle\" x=\"233.1777\" y=\"-452.3\">note_input: InputLayer</text>\n",
       "</g>\n",
       "<!-- 112228276208 -->\n",
       "<g class=\"node\" id=\"node3\">\n",
       "<title>112228276208</title>\n",
       "<polygon fill=\"none\" points=\"180.2554,-365.5 180.2554,-401.5 286.1001,-401.5 286.1001,-365.5 180.2554,-365.5\" stroke=\"#000000\"/>\n",
       "<text fill=\"#000000\" font-family=\"Times,serif\" font-size=\"14.00\" text-anchor=\"middle\" x=\"233.1777\" y=\"-379.3\">lstm_13: LSTM</text>\n",
       "</g>\n",
       "<!-- 112228275984&#45;&gt;112228276208 -->\n",
       "<g class=\"edge\" id=\"edge1\">\n",
       "<title>112228275984-&gt;112228276208</title>\n",
       "<path d=\"M233.1777,-438.4551C233.1777,-430.3828 233.1777,-420.6764 233.1777,-411.6817\" fill=\"none\" stroke=\"#000000\"/>\n",
       "<polygon fill=\"#000000\" points=\"236.6778,-411.5903 233.1777,-401.5904 229.6778,-411.5904 236.6778,-411.5903\" stroke=\"#000000\"/>\n",
       "</g>\n",
       "<!-- 112228276096 -->\n",
       "<g class=\"node\" id=\"node2\">\n",
       "<title>112228276096</title>\n",
       "<polygon fill=\"none\" points=\"0,-365.5 0,-401.5 156.3555,-401.5 156.3555,-365.5 0,-365.5\" stroke=\"#000000\"/>\n",
       "<text fill=\"#000000\" font-family=\"Times,serif\" font-size=\"14.00\" text-anchor=\"middle\" x=\"78.1777\" y=\"-379.3\">length_input: InputLayer</text>\n",
       "</g>\n",
       "<!-- 112228385904 -->\n",
       "<g class=\"node\" id=\"node4\">\n",
       "<title>112228385904</title>\n",
       "<polygon fill=\"none\" points=\"25.2554,-292.5 25.2554,-328.5 131.1001,-328.5 131.1001,-292.5 25.2554,-292.5\" stroke=\"#000000\"/>\n",
       "<text fill=\"#000000\" font-family=\"Times,serif\" font-size=\"14.00\" text-anchor=\"middle\" x=\"78.1777\" y=\"-306.3\">lstm_15: LSTM</text>\n",
       "</g>\n",
       "<!-- 112228276096&#45;&gt;112228385904 -->\n",
       "<g class=\"edge\" id=\"edge2\">\n",
       "<title>112228276096-&gt;112228385904</title>\n",
       "<path d=\"M78.1777,-365.4551C78.1777,-357.3828 78.1777,-347.6764 78.1777,-338.6817\" fill=\"none\" stroke=\"#000000\"/>\n",
       "<polygon fill=\"#000000\" points=\"81.6778,-338.5903 78.1777,-328.5904 74.6778,-338.5904 81.6778,-338.5903\" stroke=\"#000000\"/>\n",
       "</g>\n",
       "<!-- 112226469144 -->\n",
       "<g class=\"node\" id=\"node6\">\n",
       "<title>112226469144</title>\n",
       "<polygon fill=\"none\" points=\"203.2554,-292.5 203.2554,-328.5 309.1001,-328.5 309.1001,-292.5 203.2554,-292.5\" stroke=\"#000000\"/>\n",
       "<text fill=\"#000000\" font-family=\"Times,serif\" font-size=\"14.00\" text-anchor=\"middle\" x=\"256.1777\" y=\"-306.3\">lstm_14: LSTM</text>\n",
       "</g>\n",
       "<!-- 112228276208&#45;&gt;112226469144 -->\n",
       "<g class=\"edge\" id=\"edge4\">\n",
       "<title>112228276208-&gt;112226469144</title>\n",
       "<path d=\"M238.8631,-365.4551C241.4341,-357.2951 244.5312,-347.4652 247.3909,-338.3887\" fill=\"none\" stroke=\"#000000\"/>\n",
       "<polygon fill=\"#000000\" points=\"250.8111,-339.18 250.478,-328.5904 244.1347,-337.0764 250.8111,-339.18\" stroke=\"#000000\"/>\n",
       "</g>\n",
       "<!-- 112233666320 -->\n",
       "<g class=\"node\" id=\"node7\">\n",
       "<title>112233666320</title>\n",
       "<polygon fill=\"none\" points=\"10.8584,-146.5 10.8584,-182.5 183.4971,-182.5 183.4971,-146.5 10.8584,-146.5\" stroke=\"#000000\"/>\n",
       "<text fill=\"#000000\" font-family=\"Times,serif\" font-size=\"14.00\" text-anchor=\"middle\" x=\"97.1777\" y=\"-160.3\">concatenate_6: Concatenate</text>\n",
       "</g>\n",
       "<!-- 112228276208&#45;&gt;112233666320 -->\n",
       "<g class=\"edge\" id=\"edge5\">\n",
       "<title>112228276208-&gt;112233666320</title>\n",
       "<path d=\"M219.0393,-365.3462C211.2642,-354.9826 201.699,-341.5835 194.1777,-329 166.236,-282.2519 169.2073,-265.0804 140.1777,-219 134.1411,-209.4176 126.7424,-199.5268 119.795,-190.8451\" fill=\"none\" stroke=\"#000000\"/>\n",
       "<polygon fill=\"#000000\" points=\"122.3715,-188.4668 113.3315,-182.9414 116.9527,-192.8982 122.3715,-188.4668\" stroke=\"#000000\"/>\n",
       "</g>\n",
       "<!-- 112229114040 -->\n",
       "<g class=\"node\" id=\"node5\">\n",
       "<title>112229114040</title>\n",
       "<polygon fill=\"none\" points=\"25.2554,-219.5 25.2554,-255.5 131.1001,-255.5 131.1001,-219.5 25.2554,-219.5\" stroke=\"#000000\"/>\n",
       "<text fill=\"#000000\" font-family=\"Times,serif\" font-size=\"14.00\" text-anchor=\"middle\" x=\"78.1777\" y=\"-233.3\">lstm_16: LSTM</text>\n",
       "</g>\n",
       "<!-- 112228385904&#45;&gt;112229114040 -->\n",
       "<g class=\"edge\" id=\"edge3\">\n",
       "<title>112228385904-&gt;112229114040</title>\n",
       "<path d=\"M78.1777,-292.4551C78.1777,-284.3828 78.1777,-274.6764 78.1777,-265.6817\" fill=\"none\" stroke=\"#000000\"/>\n",
       "<polygon fill=\"#000000\" points=\"81.6778,-265.5903 78.1777,-255.5904 74.6778,-265.5904 81.6778,-265.5903\" stroke=\"#000000\"/>\n",
       "</g>\n",
       "<!-- 112232373608 -->\n",
       "<g class=\"node\" id=\"node8\">\n",
       "<title>112232373608</title>\n",
       "<polygon fill=\"none\" points=\"186.8584,-219.5 186.8584,-255.5 359.4971,-255.5 359.4971,-219.5 186.8584,-219.5\" stroke=\"#000000\"/>\n",
       "<text fill=\"#000000\" font-family=\"Times,serif\" font-size=\"14.00\" text-anchor=\"middle\" x=\"273.1777\" y=\"-233.3\">concatenate_5: Concatenate</text>\n",
       "</g>\n",
       "<!-- 112228385904&#45;&gt;112232373608 -->\n",
       "<g class=\"edge\" id=\"edge7\">\n",
       "<title>112228385904-&gt;112232373608</title>\n",
       "<path d=\"M126.38,-292.4551C153.3335,-282.3648 187.1079,-269.721 215.4634,-259.1059\" fill=\"none\" stroke=\"#000000\"/>\n",
       "<polygon fill=\"#000000\" points=\"216.716,-262.3742 224.8542,-255.5904 214.2618,-255.8186 216.716,-262.3742\" stroke=\"#000000\"/>\n",
       "</g>\n",
       "<!-- 112229114040&#45;&gt;112233666320 -->\n",
       "<g class=\"edge\" id=\"edge6\">\n",
       "<title>112229114040-&gt;112233666320</title>\n",
       "<path d=\"M82.8744,-219.4551C84.9982,-211.2951 87.5567,-201.4652 89.919,-192.3887\" fill=\"none\" stroke=\"#000000\"/>\n",
       "<polygon fill=\"#000000\" points=\"93.3375,-193.1496 92.4693,-182.5904 86.5632,-191.3863 93.3375,-193.1496\" stroke=\"#000000\"/>\n",
       "</g>\n",
       "<!-- 112226469144&#45;&gt;112232373608 -->\n",
       "<g class=\"edge\" id=\"edge8\">\n",
       "<title>112226469144-&gt;112232373608</title>\n",
       "<path d=\"M260.38,-292.4551C262.2802,-284.2951 264.5694,-274.4652 266.6831,-265.3887\" fill=\"none\" stroke=\"#000000\"/>\n",
       "<polygon fill=\"#000000\" points=\"270.1055,-266.1236 268.9649,-255.5904 263.288,-264.5359 270.1055,-266.1236\" stroke=\"#000000\"/>\n",
       "</g>\n",
       "<!-- 112236080824 -->\n",
       "<g class=\"node\" id=\"node9\">\n",
       "<title>112236080824</title>\n",
       "<polygon fill=\"none\" points=\"44.2554,-73.5 44.2554,-109.5 150.1001,-109.5 150.1001,-73.5 44.2554,-73.5\" stroke=\"#000000\"/>\n",
       "<text fill=\"#000000\" font-family=\"Times,serif\" font-size=\"14.00\" text-anchor=\"middle\" x=\"97.1777\" y=\"-87.3\">lstm_18: LSTM</text>\n",
       "</g>\n",
       "<!-- 112233666320&#45;&gt;112236080824 -->\n",
       "<g class=\"edge\" id=\"edge9\">\n",
       "<title>112233666320-&gt;112236080824</title>\n",
       "<path d=\"M97.1777,-146.4551C97.1777,-138.3828 97.1777,-128.6764 97.1777,-119.6817\" fill=\"none\" stroke=\"#000000\"/>\n",
       "<polygon fill=\"#000000\" points=\"100.6778,-119.5903 97.1777,-109.5904 93.6778,-119.5904 100.6778,-119.5903\" stroke=\"#000000\"/>\n",
       "</g>\n",
       "<!-- 112236080152 -->\n",
       "<g class=\"node\" id=\"node10\">\n",
       "<title>112236080152</title>\n",
       "<polygon fill=\"none\" points=\"220.2554,-146.5 220.2554,-182.5 326.1001,-182.5 326.1001,-146.5 220.2554,-146.5\" stroke=\"#000000\"/>\n",
       "<text fill=\"#000000\" font-family=\"Times,serif\" font-size=\"14.00\" text-anchor=\"middle\" x=\"273.1777\" y=\"-160.3\">lstm_17: LSTM</text>\n",
       "</g>\n",
       "<!-- 112232373608&#45;&gt;112236080152 -->\n",
       "<g class=\"edge\" id=\"edge10\">\n",
       "<title>112232373608-&gt;112236080152</title>\n",
       "<path d=\"M273.1777,-219.4551C273.1777,-211.3828 273.1777,-201.6764 273.1777,-192.6817\" fill=\"none\" stroke=\"#000000\"/>\n",
       "<polygon fill=\"#000000\" points=\"276.6778,-192.5903 273.1777,-182.5904 269.6778,-192.5904 276.6778,-192.5903\" stroke=\"#000000\"/>\n",
       "</g>\n",
       "<!-- 112237091976 -->\n",
       "<g class=\"node\" id=\"node11\">\n",
       "<title>112237091976</title>\n",
       "<polygon fill=\"none\" points=\"34.5483,-.5 34.5483,-36.5 159.8071,-36.5 159.8071,-.5 34.5483,-.5\" stroke=\"#000000\"/>\n",
       "<text fill=\"#000000\" font-family=\"Times,serif\" font-size=\"14.00\" text-anchor=\"middle\" x=\"97.1777\" y=\"-14.3\">note_output: Dense</text>\n",
       "</g>\n",
       "<!-- 112236080824&#45;&gt;112237091976 -->\n",
       "<g class=\"edge\" id=\"edge11\">\n",
       "<title>112236080824-&gt;112237091976</title>\n",
       "<path d=\"M97.1777,-73.4551C97.1777,-65.3828 97.1777,-55.6764 97.1777,-46.6817\" fill=\"none\" stroke=\"#000000\"/>\n",
       "<polygon fill=\"#000000\" points=\"100.6778,-46.5903 97.1777,-36.5904 93.6778,-46.5904 100.6778,-46.5903\" stroke=\"#000000\"/>\n",
       "</g>\n",
       "<!-- 112239357512 -->\n",
       "<g class=\"node\" id=\"node12\">\n",
       "<title>112239357512</title>\n",
       "<polygon fill=\"none\" points=\"205.1035,-73.5 205.1035,-109.5 341.252,-109.5 341.252,-73.5 205.1035,-73.5\" stroke=\"#000000\"/>\n",
       "<text fill=\"#000000\" font-family=\"Times,serif\" font-size=\"14.00\" text-anchor=\"middle\" x=\"273.1777\" y=\"-87.3\">length_output: Dense</text>\n",
       "</g>\n",
       "<!-- 112236080152&#45;&gt;112239357512 -->\n",
       "<g class=\"edge\" id=\"edge12\">\n",
       "<title>112236080152-&gt;112239357512</title>\n",
       "<path d=\"M273.1777,-146.4551C273.1777,-138.3828 273.1777,-128.6764 273.1777,-119.6817\" fill=\"none\" stroke=\"#000000\"/>\n",
       "<polygon fill=\"#000000\" points=\"276.6778,-119.5903 273.1777,-109.5904 269.6778,-119.5904 276.6778,-119.5903\" stroke=\"#000000\"/>\n",
       "</g>\n",
       "</g>\n",
       "</svg>"
      ],
      "text/plain": [
       "<IPython.core.display.SVG object>"
      ]
     },
     "execution_count": 174,
     "metadata": {},
     "output_type": "execute_result"
    }
   ],
   "source": [
    "SVG(model_to_dot(model).create(prog='dot', format='svg'))"
   ]
  },
  {
   "cell_type": "code",
   "execution_count": null,
   "metadata": {
    "collapsed": true
   },
   "outputs": [],
   "source": []
  },
  {
   "cell_type": "code",
   "execution_count": 175,
   "metadata": {
    "collapsed": true
   },
   "outputs": [],
   "source": [
    "def sample(preds, temperature=1.0):\n",
    "    # helper function to sample an index from a probability array\n",
    "    preds = np.asarray(preds).astype('float64')\n",
    "    preds = np.log(preds) / temperature\n",
    "    exp_preds = np.exp(preds)\n",
    "    preds = exp_preds / np.sum(exp_preds)\n",
    "    probas = np.random.multinomial(1, preds, 1)\n",
    "    return np.argmax(probas)"
   ]
  },
  {
   "cell_type": "code",
   "execution_count": 176,
   "metadata": {
    "collapsed": true
   },
   "outputs": [],
   "source": [
    "def midi_to_hertz(midi):\n",
    "    if midi == 0:\n",
    "        return 0\n",
    "    g = 2**(1/12)\n",
    "    return 440*g**(midi-69)"
   ]
  },
  {
   "cell_type": "code",
   "execution_count": 197,
   "metadata": {
    "collapsed": true
   },
   "outputs": [],
   "source": [
    "def on_epoch_end(epoch, logs):\n",
    "    # Function invoked at end of each epoch. Prints generated text.\n",
    "    if epoch:\n",
    "        print('----- Generating text after Epoch: %d' % epoch)\n",
    "\n",
    "        start_index = 0\n",
    "        for diversity in [1]:\n",
    "            print('----- diversity:', diversity)\n",
    "\n",
    "            generated_notes = []\n",
    "            generated_length = []\n",
    "            current_note_phrase = notes_index[start_index: start_index + n_time_steps]\n",
    "            current_length_phrase = length_index[start_index: start_index + n_time_steps]\n",
    "            generated_notes.extend(current_note_phrase)\n",
    "            generated_length.extend(current_length_phrase)\n",
    "    \n",
    "            n_generated = 20\n",
    "            start_time = time.time()\n",
    "            for i in range(n_generated):\n",
    "                x_pred = np.zeros((1, n_time_steps, len(notes)))\n",
    "                length_x_pred = np.zeros((1, n_time_steps, len(lengths)))\n",
    "\n",
    "                for t, event in enumerate(current_note_phrase):\n",
    "                    x_pred[0, t, note_index[event]] = 1.\n",
    "\n",
    "                for t, event in enumerate(current_length_phrase):\n",
    "                    length_x_pred[0, t, lengths_index[event]] = 1\n",
    "\n",
    "                pred = model.predict([x_pred, length_x_pred], verbose=0)\n",
    "                note_pred = pred[0][0]\n",
    "                length_pred = pred[1][0]\n",
    "                \n",
    "                note_index_from_sample = sample(note_pred, diversity)\n",
    "                note_prediction = index_note[note_index_from_sample]\n",
    "                \n",
    "                length_index_from_sample = sample(length_pred, diversity)\n",
    "                length_prediction = index_lengths[length_index_from_sample]\n",
    "                \n",
    "#                 print(note_prediction)\n",
    "#                 print(length_prediction)\n",
    "                \n",
    "                generated_notes.append(note_prediction)\n",
    "                generated_length.append(length_prediction)\n",
    "                \n",
    "                current_note_phrase = np.append(current_note_phrase[1:], note_prediction)\n",
    "                current_length_phrase = np.append(current_length_phrase[1:], length_prediction)\n",
    "                \n",
    "                end_time = time.time()\n",
    "            counter = 0\n",
    "            for i in range(len(generated_notes)):\n",
    "                note = generated_notes[i]\n",
    "                length = generated_length[i]\n",
    "#                 freq = midi_to_hertz(note)\n",
    "                print(note, '|', length)\n",
    "                if i == n_time_steps:\n",
    "                    print('generated')\n",
    "                    socket.emit('freq_change', {'freq': 4000, 'vol': 100})\n",
    "                    time.sleep(0.03)\n",
    "                \n",
    "                socket.emit('freq_change', {'freq': freq, 'vol': 100})\n",
    "                time.sleep(length * .5)\n",
    "\n",
    "\n",
    "            socket.emit('freq_change', {'freq': 0, 'vol': 100})"
   ]
  },
  {
   "cell_type": "code",
   "execution_count": null,
   "metadata": {
    "collapsed": true
   },
   "outputs": [],
   "source": []
  },
  {
   "cell_type": "code",
   "execution_count": 198,
   "metadata": {},
   "outputs": [
    {
     "name": "stdout",
     "output_type": "stream",
     "text": [
      "Epoch 1/1000\n",
      "5/5 [==============================] - 0s 4ms/step - loss: 2.3842e-07 - note_output_loss: 1.1921e-07 - length_output_loss: 1.1921e-07\n",
      "Epoch 2/1000\n",
      "----- Generating text after Epoch: 1\n",
      "----- diversity: 1\n",
      "55\n",
      "1.3\n",
      "55\n",
      "1.3\n",
      "53\n",
      "1.3\n",
      "53\n",
      "1.3\n",
      "54\n",
      "1.3\n",
      "54\n",
      "1.3\n",
      "53\n",
      "1.3\n",
      "53\n",
      "1.3\n",
      "54\n",
      "1.3\n",
      "54\n",
      "1.3\n",
      "53\n",
      "1.3\n",
      "53\n",
      "1.3\n",
      "54\n",
      "1.3\n",
      "54\n",
      "1.3\n",
      "53\n",
      "1.3\n",
      "53\n",
      "1.3\n",
      "54\n",
      "1.3\n",
      "54\n",
      "1.3\n",
      "53\n",
      "1.3\n",
      "53\n",
      "1.3\n",
      "233.08188075904488 | 0.65\n"
     ]
    },
    {
     "ename": "NameError",
     "evalue": "name 'socket' is not defined",
     "output_type": "error",
     "traceback": [
      "\u001b[0;31m-------------------------------------------------------------\u001b[0m",
      "\u001b[0;31mNameError\u001b[0m                   Traceback (most recent call last)",
      "\u001b[0;32m<ipython-input-198-6111cf9d2e50>\u001b[0m in \u001b[0;36m<module>\u001b[0;34m()\u001b[0m\n\u001b[1;32m      4\u001b[0m           \u001b[0mbatch_size\u001b[0m\u001b[0;34m=\u001b[0m\u001b[0;36m256\u001b[0m\u001b[0;34m,\u001b[0m\u001b[0;34m\u001b[0m\u001b[0m\n\u001b[1;32m      5\u001b[0m           \u001b[0mepochs\u001b[0m\u001b[0;34m=\u001b[0m\u001b[0;36m1000\u001b[0m\u001b[0;34m,\u001b[0m\u001b[0;34m\u001b[0m\u001b[0m\n\u001b[0;32m----> 6\u001b[0;31m           \u001b[0mcallbacks\u001b[0m\u001b[0;34m=\u001b[0m\u001b[0;34m[\u001b[0m\u001b[0mprint_callback\u001b[0m\u001b[0;34m]\u001b[0m\u001b[0;34m\u001b[0m\u001b[0m\n\u001b[0m\u001b[1;32m      7\u001b[0m         )\n",
      "\u001b[0;32m~/anaconda3/lib/python3.6/site-packages/keras/engine/training.py\u001b[0m in \u001b[0;36mfit\u001b[0;34m(self, x, y, batch_size, epochs, verbose, callbacks, validation_split, validation_data, shuffle, class_weight, sample_weight, initial_epoch, steps_per_epoch, validation_steps, **kwargs)\u001b[0m\n\u001b[1;32m   1667\u001b[0m                               \u001b[0minitial_epoch\u001b[0m\u001b[0;34m=\u001b[0m\u001b[0minitial_epoch\u001b[0m\u001b[0;34m,\u001b[0m\u001b[0;34m\u001b[0m\u001b[0m\n\u001b[1;32m   1668\u001b[0m                               \u001b[0msteps_per_epoch\u001b[0m\u001b[0;34m=\u001b[0m\u001b[0msteps_per_epoch\u001b[0m\u001b[0;34m,\u001b[0m\u001b[0;34m\u001b[0m\u001b[0m\n\u001b[0;32m-> 1669\u001b[0;31m                               validation_steps=validation_steps)\n\u001b[0m\u001b[1;32m   1670\u001b[0m \u001b[0;34m\u001b[0m\u001b[0m\n\u001b[1;32m   1671\u001b[0m     def evaluate(self, x=None, y=None,\n",
      "\u001b[0;32m~/anaconda3/lib/python3.6/site-packages/keras/engine/training.py\u001b[0m in \u001b[0;36m_fit_loop\u001b[0;34m(self, f, ins, out_labels, batch_size, epochs, verbose, callbacks, val_f, val_ins, shuffle, callback_metrics, initial_epoch, steps_per_epoch, validation_steps)\u001b[0m\n\u001b[1;32m   1224\u001b[0m                             \u001b[0;32mfor\u001b[0m \u001b[0ml\u001b[0m\u001b[0;34m,\u001b[0m \u001b[0mo\u001b[0m \u001b[0;32min\u001b[0m \u001b[0mzip\u001b[0m\u001b[0;34m(\u001b[0m\u001b[0mout_labels\u001b[0m\u001b[0;34m,\u001b[0m \u001b[0mval_outs\u001b[0m\u001b[0;34m)\u001b[0m\u001b[0;34m:\u001b[0m\u001b[0;34m\u001b[0m\u001b[0m\n\u001b[1;32m   1225\u001b[0m                                 \u001b[0mepoch_logs\u001b[0m\u001b[0;34m[\u001b[0m\u001b[0;34m'val_'\u001b[0m \u001b[0;34m+\u001b[0m \u001b[0ml\u001b[0m\u001b[0;34m]\u001b[0m \u001b[0;34m=\u001b[0m \u001b[0mo\u001b[0m\u001b[0;34m\u001b[0m\u001b[0m\n\u001b[0;32m-> 1226\u001b[0;31m             \u001b[0mcallbacks\u001b[0m\u001b[0;34m.\u001b[0m\u001b[0mon_epoch_end\u001b[0m\u001b[0;34m(\u001b[0m\u001b[0mepoch\u001b[0m\u001b[0;34m,\u001b[0m \u001b[0mepoch_logs\u001b[0m\u001b[0;34m)\u001b[0m\u001b[0;34m\u001b[0m\u001b[0m\n\u001b[0m\u001b[1;32m   1227\u001b[0m             \u001b[0;32mif\u001b[0m \u001b[0mcallback_model\u001b[0m\u001b[0;34m.\u001b[0m\u001b[0mstop_training\u001b[0m\u001b[0;34m:\u001b[0m\u001b[0;34m\u001b[0m\u001b[0m\n\u001b[1;32m   1228\u001b[0m                 \u001b[0;32mbreak\u001b[0m\u001b[0;34m\u001b[0m\u001b[0m\n",
      "\u001b[0;32m~/anaconda3/lib/python3.6/site-packages/keras/callbacks.py\u001b[0m in \u001b[0;36mon_epoch_end\u001b[0;34m(self, epoch, logs)\u001b[0m\n\u001b[1;32m     74\u001b[0m         \u001b[0mlogs\u001b[0m \u001b[0;34m=\u001b[0m \u001b[0mlogs\u001b[0m \u001b[0;32mor\u001b[0m \u001b[0;34m{\u001b[0m\u001b[0;34m}\u001b[0m\u001b[0;34m\u001b[0m\u001b[0m\n\u001b[1;32m     75\u001b[0m         \u001b[0;32mfor\u001b[0m \u001b[0mcallback\u001b[0m \u001b[0;32min\u001b[0m \u001b[0mself\u001b[0m\u001b[0;34m.\u001b[0m\u001b[0mcallbacks\u001b[0m\u001b[0;34m:\u001b[0m\u001b[0;34m\u001b[0m\u001b[0m\n\u001b[0;32m---> 76\u001b[0;31m             \u001b[0mcallback\u001b[0m\u001b[0;34m.\u001b[0m\u001b[0mon_epoch_end\u001b[0m\u001b[0;34m(\u001b[0m\u001b[0mepoch\u001b[0m\u001b[0;34m,\u001b[0m \u001b[0mlogs\u001b[0m\u001b[0;34m)\u001b[0m\u001b[0;34m\u001b[0m\u001b[0m\n\u001b[0m\u001b[1;32m     77\u001b[0m \u001b[0;34m\u001b[0m\u001b[0m\n\u001b[1;32m     78\u001b[0m     \u001b[0;32mdef\u001b[0m \u001b[0mon_batch_begin\u001b[0m\u001b[0;34m(\u001b[0m\u001b[0mself\u001b[0m\u001b[0;34m,\u001b[0m \u001b[0mbatch\u001b[0m\u001b[0;34m,\u001b[0m \u001b[0mlogs\u001b[0m\u001b[0;34m=\u001b[0m\u001b[0;32mNone\u001b[0m\u001b[0;34m)\u001b[0m\u001b[0;34m:\u001b[0m\u001b[0;34m\u001b[0m\u001b[0m\n",
      "\u001b[0;32m<ipython-input-197-ee994f225f00>\u001b[0m in \u001b[0;36mon_epoch_end\u001b[0;34m(epoch, logs)\u001b[0m\n\u001b[1;32m     58\u001b[0m                     \u001b[0mtime\u001b[0m\u001b[0;34m.\u001b[0m\u001b[0msleep\u001b[0m\u001b[0;34m(\u001b[0m\u001b[0;36m0.03\u001b[0m\u001b[0;34m)\u001b[0m\u001b[0;34m\u001b[0m\u001b[0m\n\u001b[1;32m     59\u001b[0m \u001b[0;34m\u001b[0m\u001b[0m\n\u001b[0;32m---> 60\u001b[0;31m                 \u001b[0msocket\u001b[0m\u001b[0;34m.\u001b[0m\u001b[0memit\u001b[0m\u001b[0;34m(\u001b[0m\u001b[0;34m'freq_change'\u001b[0m\u001b[0;34m,\u001b[0m \u001b[0;34m{\u001b[0m\u001b[0;34m'freq'\u001b[0m\u001b[0;34m:\u001b[0m \u001b[0mfreq\u001b[0m\u001b[0;34m,\u001b[0m \u001b[0;34m'vol'\u001b[0m\u001b[0;34m:\u001b[0m \u001b[0;36m100\u001b[0m\u001b[0;34m}\u001b[0m\u001b[0;34m)\u001b[0m\u001b[0;34m\u001b[0m\u001b[0m\n\u001b[0m\u001b[1;32m     61\u001b[0m                 \u001b[0mtime\u001b[0m\u001b[0;34m.\u001b[0m\u001b[0msleep\u001b[0m\u001b[0;34m(\u001b[0m\u001b[0mlength\u001b[0m \u001b[0;34m*\u001b[0m \u001b[0;36m.5\u001b[0m\u001b[0;34m)\u001b[0m\u001b[0;34m\u001b[0m\u001b[0m\n\u001b[1;32m     62\u001b[0m \u001b[0;34m\u001b[0m\u001b[0m\n",
      "\u001b[0;31mNameError\u001b[0m: name 'socket' is not defined"
     ]
    }
   ],
   "source": [
    "print_callback = LambdaCallback(on_epoch_end=on_epoch_end)\n",
    "\n",
    "model.fit([note_x, length_x], [note_y, length_y],\n",
    "          batch_size=256,\n",
    "          epochs=1000,\n",
    "          callbacks=[print_callback]\n",
    "        )"
   ]
  },
  {
   "cell_type": "code",
   "execution_count": null,
   "metadata": {
    "collapsed": true
   },
   "outputs": [],
   "source": [
    "joblib.dump(scaler, 'scaler.pkl')\n",
    "print('Saved scaler to disk.')"
   ]
  },
  {
   "cell_type": "code",
   "execution_count": null,
   "metadata": {
    "collapsed": true
   },
   "outputs": [],
   "source": []
  }
 ],
 "metadata": {
  "kernelspec": {
   "display_name": "Python 3",
   "language": "python",
   "name": "python3"
  },
  "language_info": {
   "codemirror_mode": {
    "name": "ipython",
    "version": 3
   },
   "file_extension": ".py",
   "mimetype": "text/x-python",
   "name": "python",
   "nbconvert_exporter": "python",
   "pygments_lexer": "ipython3",
   "version": "3.6.4"
  }
 },
 "nbformat": 4,
 "nbformat_minor": 1
}
