{
 "cells": [
  {
   "cell_type": "markdown",
   "metadata": {},
   "source": [
    "## Import dependent libraries"
   ]
  },
  {
   "cell_type": "code",
   "execution_count": 1,
   "metadata": {},
   "outputs": [
    {
     "name": "stderr",
     "output_type": "stream",
     "text": [
      "Using TensorFlow backend.\n"
     ]
    }
   ],
   "source": [
    "import time\n",
    "import os\n",
    "import sys\n",
    "import math\n",
    "import random\n",
    "from numpy import concatenate, array, asarray\n",
    "\n",
    "from pandas import read_csv\n",
    "from pandas import DataFrame\n",
    "from pandas import concat\n",
    "\n",
    "from sklearn.preprocessing import MinMaxScaler\n",
    "from sklearn.preprocessing import LabelEncoder\n",
    "from sklearn.preprocessing import OneHotEncoder\n",
    "from sklearn.metrics import mean_squared_error\n",
    "\n",
    "from matplotlib import pyplot\n",
    "from IPython.display import SVG\n",
    "import pydot\n",
    "import graphviz\n",
    "\n",
    "import tensorflow as tf\n",
    "\n",
    "import keras\n",
    "import keras.backend as K\n",
    "from keras.utils import np_utils\n",
    "from keras import optimizers\n",
    "from keras.models import Model, model_from_json\n",
    "from keras.layers import Input, Dense, Dropout, BatchNormalization\n",
    "from keras.layers.recurrent import LSTM\n",
    "from keras.utils import to_categorical\n",
    "from keras.models import model_from_json\n",
    "from keras.layers.core import Activation\n",
    "from keras.callbacks import ReduceLROnPlateau, LambdaCallback\n",
    "from keras.utils import plot_model\n",
    "from sklearn.externals import joblib\n",
    "\n",
    "from keras.utils.vis_utils import model_to_dot\n",
    "\n",
    "from NN.ConvolutionalRNN import ConvolutionalRNN\n",
    "from NN.jan_17_Model import SimpleModel\n",
    "from Audio.MidiPlayer import MidiPlayer"
   ]
  },
  {
   "cell_type": "markdown",
   "metadata": {},
   "source": [
    "## Parameters"
   ]
  },
  {
   "cell_type": "code",
   "execution_count": 2,
   "metadata": {
    "collapsed": true
   },
   "outputs": [],
   "source": [
    "# specify the number of lag hours\n",
    "n_hours = 64\n",
    "n_features = 2\n",
    "n_train_hours = None\n",
    "n_divisions = 4\n",
    "batch_size = n_hours\n",
    "epochs = 150\n",
    "player = MidiPlayer()"
   ]
  },
  {
   "cell_type": "markdown",
   "metadata": {},
   "source": [
    "## Load dataset"
   ]
  },
  {
   "cell_type": "code",
   "execution_count": 3,
   "metadata": {
    "collapsed": true
   },
   "outputs": [],
   "source": [
    "dataset = read_csv('music_data.csv', header=0)\n",
    "values = dataset.values\n",
    "values = values.astype('float32')"
   ]
  },
  {
   "cell_type": "markdown",
   "metadata": {},
   "source": [
    "## Specify columns to plot"
   ]
  },
  {
   "cell_type": "code",
   "execution_count": 4,
   "metadata": {},
   "outputs": [
    {
     "data": {
      "image/png": "[encoded data removed]",
      "text/plain": [
       "<matplotlib.figure.Figure at 0x1039c2b38>"
      ]
     },
     "metadata": {},
     "output_type": "display_data"
    }
   ],
   "source": [
    "groups = [0, 1]\n",
    "i = 1\n",
    "# plot each column\n",
    "pyplot.figure()\n",
    "for group in groups:\n",
    "    pyplot.subplot(len(groups), 1, i)\n",
    "    pyplot.plot(values[:, group])\n",
    "    pyplot.title(dataset.columns[group], y=0.5, loc='right')\n",
    "    i += 1\n",
    "\n",
    "\n",
    "pyplot.show()"
   ]
  },
  {
   "cell_type": "markdown",
   "metadata": {
    "collapsed": true
   },
   "source": [
    "## Convert series to supervised learning"
   ]
  },
  {
   "cell_type": "code",
   "execution_count": 5,
   "metadata": {
    "collapsed": true
   },
   "outputs": [],
   "source": [
    "dataset = read_csv('music_data.csv', header=1)\n",
    "n_train_hours = int(len(dataset) * 1)\n",
    "values = dataset.values\n",
    "# values = values.astype('float32')"
   ]
  },
  {
   "cell_type": "code",
   "execution_count": 6,
   "metadata": {
    "collapsed": true
   },
   "outputs": [],
   "source": [
    "def series_to_supervised(data, n_in=1, n_out=1, dropnan=True):\n",
    "    start = time.time()\n",
    "    n_vars = 1 if type(data) is list else data.shape[1]\n",
    "    df = DataFrame(data)\n",
    "    cols, names = list(), list()\n",
    "    # input sequence (t-n, ... t-1)\n",
    "    for i in range(n_in, 0, -1):\n",
    "        cols.append(df.shift(i))\n",
    "        names += [('var%d(t-%d)' % (j + 1, i)) for j in range(n_vars)]\n",
    "    # forecast sequence (t, t+1, ... t+n)\n",
    "    for i in range(0, n_out):\n",
    "        cols.append(df.shift(-i))\n",
    "        if i == 0:\n",
    "            names += [('var%d(t)' % (j + 1)) for j in range(n_vars)]\n",
    "        else:\n",
    "            names += [('var%d(t+%d)' % (j + 1, i)) for j in range(n_vars)]\n",
    "    # put it all together\n",
    "    agg = concat(cols, axis=1)\n",
    "    agg.columns = names\n",
    "    # drop rows with NaN values\n",
    "    if dropnan:\n",
    "        agg.dropna(inplace=True)\n",
    "    end = time.time()\n",
    "    print(end - start)\n",
    "    return agg"
   ]
  },
  {
   "cell_type": "code",
   "execution_count": null,
   "metadata": {
    "collapsed": true
   },
   "outputs": [],
   "source": []
  },
  {
   "cell_type": "markdown",
   "metadata": {},
   "source": [
    "## Scale Data"
   ]
  },
  {
   "cell_type": "code",
   "execution_count": 7,
   "metadata": {
    "collapsed": true,
    "scrolled": false
   },
   "outputs": [],
   "source": [
    "# scaler = MinMaxScaler(feature_range=(0, 1))\n",
    "# scaler.fit(values)\n",
    "# scaled = scaler.transform(values)\n",
    "# print(scaled[20:21])"
   ]
  },
  {
   "cell_type": "code",
   "execution_count": 8,
   "metadata": {},
   "outputs": [
    {
     "name": "stdout",
     "output_type": "stream",
     "text": [
      "0.0541529655456543\n"
     ]
    }
   ],
   "source": [
    "# frame as supervised learning\n",
    "reframed = series_to_supervised(values, n_hours, 1)"
   ]
  },
  {
   "cell_type": "code",
   "execution_count": 9,
   "metadata": {
    "collapsed": true
   },
   "outputs": [],
   "source": [
    "values = reframed.values\n",
    "train = values[:, :]\n",
    "test = values[:, :]\n",
    "# split into input and outputs\n",
    "n_obs = n_hours * n_features"
   ]
  },
  {
   "cell_type": "code",
   "execution_count": 10,
   "metadata": {
    "collapsed": true
   },
   "outputs": [],
   "source": [
    "le = LabelEncoder()\n",
    "ohe = OneHotEncoder(\n",
    "#     categorical_features = [0]\n",
    ")"
   ]
  },
  {
   "cell_type": "code",
   "execution_count": 11,
   "metadata": {},
   "outputs": [
    {
     "name": "stdout",
     "output_type": "stream",
     "text": [
      "[[ 0.12068966]\n",
      " [ 0.12068966]\n",
      " [ 0.06034483]\n",
      " [ 0.03448276]\n",
      " [ 0.06034483]\n",
      " [ 0.        ]\n",
      " [ 0.04310345]\n",
      " [ 0.01724138]\n",
      " [ 0.        ]\n",
      " [ 0.        ]]\n",
      "(2027,)\n",
      "(2027, 45)\n",
      "[[ 69.  58.]\n",
      " [ 81.  63.]\n",
      " [ 81.   0.]\n",
      " [ 80.  54.]\n",
      " [ 81.  45.]\n",
      " [ 65.  79.]\n",
      " [ 65.   0.]\n",
      " [ 84.  88.]\n",
      " [ 84.  80.]\n",
      " [ 83.  73.]\n",
      " [ 83.   0.]\n",
      " [ 53.  65.]\n",
      " [ 81.  62.]\n",
      " [ 53.  53.]\n",
      " [ 53.   0.]\n",
      " [ 53.  55.]\n",
      " [ 57.  56.]\n",
      " [ 57.  57.]\n",
      " [ 57.  57.]\n",
      " [ 57.  53.]\n",
      " [ 57.  50.]\n",
      " [ 57.  53.]\n",
      " [ 57.  53.]\n",
      " [ 56.  53.]\n",
      " [ 57.  50.]\n",
      " [ 57.   0.]\n",
      " [ 69.  45.]\n",
      " [ 57.  35.]\n",
      " [ 57.  45.]\n",
      " [ 57.  45.]\n",
      " [ 76.  55.]\n",
      " [ 76.  66.]\n",
      " [ 57.  48.]\n",
      " [ 57.   0.]\n",
      " [ 57.  51.]\n",
      " [ 81.  57.]\n",
      " [ 57.  40.]\n",
      " [ 57.   0.]\n",
      " [ 57.  40.]\n",
      " [ 80.  53.]\n",
      " [ 80.   0.]\n",
      " [ 80.  64.]\n",
      " [ 80.  48.]\n",
      " [ 69.  47.]\n",
      " [ 69.   0.]\n",
      " [ 81.  58.]\n",
      " [ 80.  43.]\n",
      " [ 80.  21.]\n",
      " [ 80.  21.]\n",
      " [ 84.  40.]\n",
      " [ 84.  61.]\n",
      " [ 84.  61.]\n",
      " [ 84.  60.]\n",
      " [ 83.  55.]\n",
      " [ 53.  38.]\n",
      " [ 53.   0.]\n",
      " [ 69.  27.]\n",
      " [ 53.   2.]\n",
      " [ 50.  13.]\n",
      " [ 50.   0.]\n",
      " [ 57.  15.]\n",
      " [ 57.  14.]\n",
      " [ 57.  14.]\n",
      " [ 57.   7.]]\n",
      "[ 0.  0.  0.  0.  0.  0.  0.  0.  0.  0.  0.  0.  0.  0.  0.  0.  0.  0.\n",
      "  0.  0.  0.  0.  0.  0.  0.  0.  0.  0.  0.  1.  0.  0.  0.  0.  0.  0.\n",
      "  0.  0.  0.  0.  0.  0.  0.  0.  0.]\n",
      "[ 0.]\n"
     ]
    }
   ],
   "source": [
    "train_X = train[:, :n_obs]\n",
    "test_X = test[:, :n_obs]\n",
    "\n",
    "train_y_volume = test[:, -n_features -1]\n",
    "train_y_notes = test[:, -n_features]\n",
    "\n",
    "scaler = MinMaxScaler(feature_range=(0, 1))\n",
    "train_y_volume = scaler.fit_transform(train_y_volume.reshape(-1,1))\n",
    "\n",
    "\n",
    "print(train_y_volume[0:10])\n",
    "# print(train_y_notes[0:20])\n",
    "\n",
    "test_y_notes = le.fit_transform(train_y_notes)\n",
    "# test_y_notes = ohe.fit_transform(train_y_notes.reshape(-1, 1)).toarray()\n",
    "test_y_notes = np_utils.to_categorical(test_y_notes)\n",
    "# print(test_y_notes[0:10])\n",
    "\n",
    "# reshape input to be 3D [samples, timesteps, features]\n",
    "train_X = train_X.reshape((train_X.shape[0], n_hours, n_features))\n",
    "# print(train_X[0:10])\n",
    "\n",
    "test_X = test_X.reshape((test_X.shape[0], n_hours, n_features))\n",
    "# print(train_X.shape, train_y_notes.shape, test_X.shape, test_y_notes.shape)\n",
    "print(train_y_notes.shape)\n",
    "print(test_y_notes.shape)\n",
    "# test_y_notes = test_y_notes.reshape(n_hours, 45)\n",
    "print(train_X[2])\n",
    "print(test_y_notes[12])\n",
    "print(train_y_volume[12])"
   ]
  },
  {
   "cell_type": "code",
   "execution_count": 12,
   "metadata": {
    "collapsed": true
   },
   "outputs": [],
   "source": [
    "visible = Input(name='input', shape=(n_hours, n_features))\n",
    "conv_rnn = ConvolutionalRNN(visible, n_hours, n_features, n_divisions)\n",
    "simple = SimpleModel(visible, 128)"
   ]
  },
  {
   "cell_type": "code",
   "execution_count": 13,
   "metadata": {},
   "outputs": [
    {
     "name": "stdout",
     "output_type": "stream",
     "text": [
      "Tensor(\"input:0\", shape=(?, 64, 2), dtype=float32)\n",
      "num 0\n",
      "0 16\n",
      "Tensor(\"lstm_2/transpose_1:0\", shape=(?, ?, 4), dtype=float32)\n",
      "num 1\n",
      "16 32\n",
      "Tensor(\"lstm_4/transpose_1:0\", shape=(?, ?, 4), dtype=float32)\n",
      "num 2\n",
      "32 48\n",
      "Tensor(\"lstm_6/transpose_1:0\", shape=(?, ?, 4), dtype=float32)\n",
      "num 3\n",
      "48 64\n",
      "Tensor(\"lstm_8/transpose_1:0\", shape=(?, ?, 4), dtype=float32)\n"
     ]
    }
   ],
   "source": [
    "model = conv_rnn.model()\n",
    "# model = simple.model()\n",
    "\n",
    "output_notes = Dense(45, activation='softmax', name='output_notes')(model)\n",
    "output_volume = Dense(1, activation='sigmoid', name='output_volume')(model)\n",
    "\n",
    "model = Model(inputs=[visible], outputs=[\n",
    "                                         output_notes, \n",
    "                                         output_volume, \n",
    "                                        ])"
   ]
  },
  {
   "cell_type": "code",
   "execution_count": 14,
   "metadata": {
    "collapsed": true
   },
   "outputs": [],
   "source": [
    "optimizer = optimizers.Adam(lr=0.001, beta_1=0.9, beta_2=0.999, epsilon=1e-08, decay=0.0)\n",
    "model.compile(loss={'output_notes':'categorical_crossentropy', 'output_volume':'mae'}, optimizer=optimizer)\n",
    "# model.summary()"
   ]
  },
  {
   "cell_type": "code",
   "execution_count": 15,
   "metadata": {
    "collapsed": true
   },
   "outputs": [],
   "source": [
    "# plot_model(model, to_file='model.png')"
   ]
  },
  {
   "cell_type": "code",
   "execution_count": 16,
   "metadata": {
    "collapsed": true
   },
   "outputs": [],
   "source": [
    "# SVG(model_to_dot(model).create(prog='dot', format='svg'))"
   ]
  },
  {
   "cell_type": "code",
   "execution_count": null,
   "metadata": {
    "collapsed": true
   },
   "outputs": [],
   "source": []
  },
  {
   "cell_type": "code",
   "execution_count": 17,
   "metadata": {
    "collapsed": true
   },
   "outputs": [],
   "source": [
    "test_cache = dataset.values[30:n_hours + 30].tolist()\n",
    "test_data = test_cache.copy()\n",
    "array_to_play = test_cache.copy()"
   ]
  },
  {
   "cell_type": "code",
   "execution_count": 18,
   "metadata": {},
   "outputs": [
    {
     "name": "stdout",
     "output_type": "stream",
     "text": [
      "[[57, 45], [57, 45], [76, 55], [76, 66], [57, 48], [57, 0], [57, 51], [81, 57], [57, 40], [57, 0], [57, 40], [80, 53], [80, 0], [80, 64], [80, 48], [69, 47], [69, 0], [81, 58], [80, 43], [80, 21], [80, 21], [84, 40], [84, 61], [84, 61], [84, 60], [83, 55], [53, 38], [53, 0], [69, 27], [53, 2], [50, 13], [50, 0], [57, 15], [57, 14], [57, 14], [57, 7], [57, 4], [69, 7], [69, 0], [69, 5], [57, 2], [57, 0], [57, 0], [57, 0], [72, 2], [72, 0], [72, 7], [72, 4], [72, 3], [72, 3], [64, 3], [76, 15], [64, 0], [64, 0], [64, 0], [77, 11], [77, 0], [77, 17], [76, 8], [76, 0], [76, 0], [67, 3], [67, 0], [67, 0]]\n"
     ]
    }
   ],
   "source": [
    "print(test_data)"
   ]
  },
  {
   "cell_type": "code",
   "execution_count": 19,
   "metadata": {
    "collapsed": true
   },
   "outputs": [],
   "source": [
    "def process_data(testx):\n",
    "    testx = DataFrame(data = testx)\n",
    "    testx = testx.values\n",
    "    testx = testx.astype('float32')\n",
    "    testx = scaler.transform(testx)\n",
    "    return(testx)"
   ]
  },
  {
   "cell_type": "code",
   "execution_count": null,
   "metadata": {},
   "outputs": [
    {
     "name": "stdout",
     "output_type": "stream",
     "text": [
      "[ 57.  57.  57.  69.  69.  69.  57.  57.  57.  57.]\n",
      "[[ 0.  0.  0.  0.  0.  0.  0.  0.  0.  0.  0.  0.  0.  0.  1.  0.  0.  0.\n",
      "   0.  0.  0.  0.  0.  0.  0.  0.  0.  0.  0.  0.  0.  0.  0.  0.  0.  0.\n",
      "   0.  0.  0.  0.  0.  0.  0.  0.  0.]\n",
      " [ 0.  0.  0.  0.  0.  0.  0.  0.  0.  0.  0.  0.  0.  0.  1.  0.  0.  0.\n",
      "   0.  0.  0.  0.  0.  0.  0.  0.  0.  0.  0.  0.  0.  0.  0.  0.  0.  0.\n",
      "   0.  0.  0.  0.  0.  0.  0.  0.  0.]]\n",
      "[[ 0.12068966]\n",
      " [ 0.12068966]\n",
      " [ 0.06034483]\n",
      " [ 0.03448276]\n",
      " [ 0.06034483]\n",
      " [ 0.        ]\n",
      " [ 0.04310345]\n",
      " [ 0.01724138]\n",
      " [ 0.        ]\n",
      " [ 0.        ]]\n",
      "(2027,)\n",
      "(2027, 45)\n"
     ]
    }
   ],
   "source": [
    "def on_epoch_end(epoch, logs):\n",
    "    global test_cache\n",
    "    global test_data\n",
    "    global array_to_play\n",
    "#     if epoch % 5 == 0:\n",
    "    start = time.time()\n",
    "    print('----- Generating sound after: %d' % epoch)\n",
    "    for i in range(650):\n",
    "        if i == 0:\n",
    "            to_add = [100, 80]\n",
    "            array_to_play.append(to_add)\n",
    "        if i == 100 or i == 500:  \n",
    "            rand = random.randint(10, 15)\n",
    "            for i in range(rand):\n",
    "                to_add = [0, 0]\n",
    "                array_to_play.append(to_add)\n",
    "                test_data.append(to_add)\n",
    "            for i in range(rand):\n",
    "                test_data.pop(0)\n",
    "                \n",
    "        if i == 300:    \n",
    "            for i in range(15):\n",
    "                rand = random.randint(45, 65)\n",
    "                to_add = [rand, 45]\n",
    "                array_to_play.append(to_add)\n",
    "                test_data.append(to_add)\n",
    "            for i in range(15):\n",
    "                test_data.pop(0)\n",
    "        \n",
    "        data = process_data(test_data)\n",
    "        data = data.reshape(1,n_hours,2)\n",
    "        prediction = model.predict(data)\n",
    "        prediction = asarray(prediction).ravel().reshape(-1,n_features)\n",
    "        prediction = scaler.inverse_transform(prediction)\n",
    "        prediction = prediction.astype('int')\n",
    "        prediction = prediction[0].tolist()\n",
    "        test_data.append(prediction)\n",
    "        test_data.pop(0)\n",
    "        array_to_play.append(prediction)\n",
    "    end = time.time()\n",
    "    print('time:', end - start)\n",
    "    print('len array_to_play', len(array_to_play))\n",
    "    for value in array_to_play:\n",
    "        player.play(value[0], .03, value[1])\n",
    "    test_data = test_cache.copy()\n",
    "    array_to_play = test_cache.copy()\n",
    "\n",
    "    \n",
    "play_callback = LambdaCallback(on_epoch_end=on_epoch_end)\n",
    "print(train_y_notes[0:10])\n",
    "print(test_y_notes[0:2])\n",
    "print(train_y_volume[0:10])\n",
    "print(train_y_notes.shape)\n",
    "print(test_y_notes.shape)"
   ]
  },
  {
   "cell_type": "code",
   "execution_count": null,
   "metadata": {
    "scrolled": false
   },
   "outputs": [
    {
     "name": "stdout",
     "output_type": "stream",
     "text": [
      "Epoch 1/150\n",
      " 768/2027 [==========>...................] - ETA: 14s - loss: 4.1045 - output_notes_loss: 3.8149 - output_volume_loss: 0.2896"
     ]
    }
   ],
   "source": [
    "history = model.fit(\n",
    "            {'input': train_X},\n",
    "            {\n",
    "                'output_notes': test_y_notes, \n",
    "                'output_volume': train_y_volume, \n",
    "            },\n",
    "            verbose=1,\n",
    "            shuffle=False,\n",
    "            epochs=epochs, \n",
    "            batch_size=batch_size,\n",
    "#             callbacks=[play_callback]\n",
    ")"
   ]
  },
  {
   "cell_type": "code",
   "execution_count": null,
   "metadata": {
    "collapsed": true
   },
   "outputs": [],
   "source": [
    "# serialize model to JSON\n",
    "model_json = model.to_json()\n",
    "with open(\"model.json\", \"w\") as json_file:\n",
    "    json_file.write(model_json)\n",
    "# serialize weights to HDF5\n",
    "model.save_weights(\"model.h5\")\n",
    "print(\"Saved model to disk\")"
   ]
  },
  {
   "cell_type": "code",
   "execution_count": null,
   "metadata": {
    "collapsed": true
   },
   "outputs": [],
   "source": [
    "# plot history\n",
    "pyplot.plot(history.history['loss'], label='train')\n",
    "# pyplot.plot(history.history['val_loss'], label='test')\n",
    "pyplot.legend()\n",
    "pyplot.show()"
   ]
  },
  {
   "cell_type": "code",
   "execution_count": null,
   "metadata": {
    "collapsed": true
   },
   "outputs": [],
   "source": [
    "joblib.dump(scaler, 'scaler.pkl')\n",
    "print('Saved scaler to disk.')"
   ]
  },
  {
   "cell_type": "code",
   "execution_count": null,
   "metadata": {
    "collapsed": true
   },
   "outputs": [],
   "source": [
    "test_data = test_cache.copy()\n",
    "array_to_play = test_cache.copy()"
   ]
  },
  {
   "cell_type": "code",
   "execution_count": null,
   "metadata": {
    "collapsed": true
   },
   "outputs": [],
   "source": [
    "for i in range(500):\n",
    "    if i == 0:\n",
    "        to_add = [100, 80]\n",
    "        array_to_play.append(to_add)\n",
    "    if i == 100:    \n",
    "        for i in range(15):\n",
    "            to_add = [0, 0]\n",
    "            array_to_play.append(to_add)\n",
    "            test_data.append(to_add)\n",
    "        for i in range(15):\n",
    "            test_data.pop(0)\n",
    "\n",
    "    if i == 300:    \n",
    "        for i in range(15):\n",
    "            rand = random.randint(40, 65)\n",
    "            to_add = [rand, 45]\n",
    "            array_to_play.append(to_add)\n",
    "            test_data.append(to_add)\n",
    "        for i in range(15):\n",
    "            test_data.pop(0)\n",
    "\n",
    "    data = process_data(test_data)\n",
    "    data = data.reshape(1,n_hours,2)\n",
    "    prediction = model.predict(data)\n",
    "    prediction = asarray(prediction).ravel().reshape(-1,n_features)\n",
    "    prediction = scaler.inverse_transform(prediction)\n",
    "    prediction = prediction.astype('int')\n",
    "    prediction = prediction[0].tolist()\n",
    "    test_data.append(prediction)\n",
    "    test_data.pop(0)\n",
    "    array_to_play.append(prediction)\n",
    "end = time.time()\n",
    "print('time:', end - start)\n",
    "print('len array_to_play', len(array_to_play))\n",
    "for value in array_to_play:\n",
    "    player.play(value[0], .03, value[1])"
   ]
  },
  {
   "cell_type": "code",
   "execution_count": null,
   "metadata": {
    "collapsed": true
   },
   "outputs": [],
   "source": []
  },
  {
   "cell_type": "code",
   "execution_count": null,
   "metadata": {
    "collapsed": true
   },
   "outputs": [],
   "source": []
  }
 ],
 "metadata": {
  "kernelspec": {
   "display_name": "Python 3",
   "language": "python",
   "name": "python3"
  },
  "language_info": {
   "codemirror_mode": {
    "name": "ipython",
    "version": 3
   },
   "file_extension": ".py",
   "mimetype": "text/x-python",
   "name": "python",
   "nbconvert_exporter": "python",
   "pygments_lexer": "ipython3",
   "version": "3.6.4"
  }
 },
 "nbformat": 4,
 "nbformat_minor": 1
}
