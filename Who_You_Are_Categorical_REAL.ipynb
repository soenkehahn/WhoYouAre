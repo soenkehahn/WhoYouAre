{
 "cells": [
  {
   "cell_type": "code",
   "execution_count": 7,
   "metadata": {},
   "outputs": [],
   "source": [
    "import numpy as np\n",
    "import random\n",
    "import time\n",
    "import pandas\n",
    "\n",
    "from keras.callbacks import LambdaCallback\n",
    "\n",
    "from keras import optimizers\n",
    "from keras.layers import Activation, Input, LSTM, Dense, Dropout, BatchNormalization, GRU, Flatten, TimeDistributed\n",
    "from keras.models import Model\n",
    "from keras.utils import plot_model\n",
    "from keras.layers.merge import concatenate\n",
    "\n",
    "from pandas import read_csv\n",
    "from socketIO_client import SocketIO, LoggingNamespace\n",
    "from Audio.Components.MidiPlayer import MidiPlayer\n",
    "\n",
    "from sklearn.preprocessing import MinMaxScaler\n",
    "\n",
    "from keras.utils.vis_utils import model_to_dot\n",
    "from matplotlib import pyplot\n",
    "from IPython.display import SVG\n",
    "import pydot\n",
    "import graphviz"
   ]
  },
  {
   "cell_type": "code",
   "execution_count": 8,
   "metadata": {},
   "outputs": [
    {
     "name": "stdout",
     "output_type": "stream",
     "text": [
      "['IAC Driver Bus 1', 'IAC Driver LocalMidi']\n"
     ]
    }
   ],
   "source": [
    "# socket = SocketIO('localhost', 9876, LoggingNamespace)\n",
    "# from MidiPlayer import MidiPlayer\n",
    "player = MidiPlayer()"
   ]
  },
  {
   "cell_type": "code",
   "execution_count": 9,
   "metadata": {
    "collapsed": true
   },
   "outputs": [],
   "source": [
    "dropout = 0.02\n",
    "n_time_steps = 2\n",
    "semi_redundancy_step = 3"
   ]
  },
  {
   "cell_type": "code",
   "execution_count": 10,
   "metadata": {},
   "outputs": [
    {
     "name": "stdout",
     "output_type": "stream",
     "text": [
      "['0', ' 0.92', ' 18']\n",
      "corpus length: 16\n"
     ]
    }
   ],
   "source": [
    "corpus = read_csv('Audio/data/output.csv', header=1)\n",
    "print(list(corpus))\n",
    "print('corpus length:', len(corpus))"
   ]
  },
  {
   "cell_type": "code",
   "execution_count": 11,
   "metadata": {},
   "outputs": [
    {
     "ename": "NameError",
     "evalue": "name 'note_index' is not defined",
     "traceback": [
      "\u001b[0;31m-------------------------------------------------------------\u001b[0m",
      "\u001b[0;31mNameError\u001b[0m                   Traceback (most recent call last)",
      "\u001b[0;32m<ipython-input-11-83466d215384>\u001b[0m in \u001b[0;36m<module>\u001b[0;34m()\u001b[0m\n\u001b[1;32m      1\u001b[0m \u001b[0mnotes_index\u001b[0m \u001b[0;34m=\u001b[0m \u001b[0mcorpus\u001b[0m\u001b[0;34m.\u001b[0m\u001b[0mvalues\u001b[0m\u001b[0;34m[\u001b[0m\u001b[0;34m:\u001b[0m\u001b[0;34m,\u001b[0m \u001b[0;36m0\u001b[0m\u001b[0;34m]\u001b[0m\u001b[0;34m\u001b[0m\u001b[0m\n\u001b[1;32m      2\u001b[0m \u001b[0mlength_index\u001b[0m \u001b[0;34m=\u001b[0m \u001b[0mcorpus\u001b[0m\u001b[0;34m.\u001b[0m\u001b[0mvalues\u001b[0m\u001b[0;34m[\u001b[0m\u001b[0;34m:\u001b[0m\u001b[0;34m,\u001b[0m \u001b[0;36m1\u001b[0m\u001b[0;34m]\u001b[0m\u001b[0;34m\u001b[0m\u001b[0m\n\u001b[0;32m----> 3\u001b[0;31m \u001b[0mprint\u001b[0m\u001b[0;34m(\u001b[0m\u001b[0mnote_index\u001b[0m\u001b[0;34m)\u001b[0m\u001b[0;34m\u001b[0m\u001b[0m\n\u001b[0m\u001b[1;32m      4\u001b[0m \u001b[0mprint\u001b[0m\u001b[0;34m(\u001b[0m\u001b[0mlength_index\u001b[0m\u001b[0;34m)\u001b[0m\u001b[0;34m\u001b[0m\u001b[0m\n",
      "\u001b[0;31mNameError\u001b[0m: name 'note_index' is not defined"
     ],
     "output_type": "error"
    }
   ],
   "source": [
    "notes_index = corpus.values[:, 0]\n",
    "length_index = corpus.values[:, 1]\n",
    "print(note_index)\n",
    "print(length_index)"
   ]
  },
  {
   "cell_type": "code",
   "execution_count": 12,
   "metadata": {},
   "outputs": [
    {
     "name": "stdout",
     "output_type": "stream",
     "text": [
      "[0.0, 0.01, 0.02, 0.03, 0.04, 0.05, 0.06, 0.07, 0.08, 0.09, 0.1, 0.11, 0.12, 0.13, 0.14, 0.15, 0.16, 0.17, 0.18, 0.19, 0.2, 0.21, 0.22, 0.23, 0.24, 0.25, 0.26, 0.27, 0.28, 0.29, 0.3, 0.31, 0.32, 0.33, 0.34, 0.35, 0.36, 0.37, 0.38, 0.39, 0.4, 0.41, 0.42, 0.43, 0.44, 0.45, 0.46, 0.47, 0.48, 0.49, 0.5, 0.51, 0.52, 0.53, 0.54, 0.55, 0.56, 0.57, 0.58, 0.59, 0.6, 0.61, 0.62, 0.63, 0.64, 0.65, 0.66, 0.67, 0.68, 0.69, 0.7, 0.71, 0.72, 0.73, 0.74, 0.75, 0.76, 0.77, 0.78, 0.79, 0.8, 0.81, 0.82, 0.83, 0.84, 0.85, 0.86, 0.87, 0.88, 0.89, 0.9, 0.91, 0.92, 0.93, 0.94, 0.95, 0.96, 0.97, 0.98, 0.99, 1.0, 1.1, 1.2, 1.3, 1.4, 1.5, 1.6, 1.7, 1.8, 1.9, 2.0, 2.1, 2.2, 2.3, 2.4, 2.5, 2.6, 2.7, 2.8, 2.9, 3.0, 3.1, 3.2, 3.3, 3.4, 3.5, 3.6, 3.7, 3.8, 3.9, 4.0, 4.1, 4.2, 4.3, 4.4, 4.5, 4.6, 4.7, 4.8, 4.9, 5.0]\n"
     ]
    }
   ],
   "source": [
    "lengths = []\n",
    "first_field = np.arange(0.0, 1., 0.01)\n",
    "for value in list(first_field):\n",
    "    lengths.append(round(value, 2))\n",
    "    \n",
    "second_field = np.arange(1.0, 5.1, 0.1)\n",
    "for value in list(second_field):\n",
    "    lengths.append(round(value, 1))\n",
    "    \n",
    "print(lengths)"
   ]
  },
  {
   "cell_type": "code",
   "execution_count": 13,
   "metadata": {},
   "outputs": [
    {
     "name": "stdout",
     "output_type": "stream",
     "text": [
      "num_events: 128\n",
      "{0.0: 0, 0.01: 1, 0.02: 2, 0.03: 3, 0.04: 4, 0.05: 5, 0.06: 6, 0.07: 7, 0.08: 8, 0.09: 9, 0.1: 10, 0.11: 11, 0.12: 12, 0.13: 13, 0.14: 14, 0.15: 15, 0.16: 16, 0.17: 17, 0.18: 18, 0.19: 19, 0.2: 20, 0.21: 21, 0.22: 22, 0.23: 23, 0.24: 24, 0.25: 25, 0.26: 26, 0.27: 27, 0.28: 28, 0.29: 29, 0.3: 30, 0.31: 31, 0.32: 32, 0.33: 33, 0.34: 34, 0.35: 35, 0.36: 36, 0.37: 37, 0.38: 38, 0.39: 39, 0.4: 40, 0.41: 41, 0.42: 42, 0.43: 43, 0.44: 44, 0.45: 45, 0.46: 46, 0.47: 47, 0.48: 48, 0.49: 49, 0.5: 50, 0.51: 51, 0.52: 52, 0.53: 53, 0.54: 54, 0.55: 55, 0.56: 56, 0.57: 57, 0.58: 58, 0.59: 59, 0.6: 60, 0.61: 61, 0.62: 62, 0.63: 63, 0.64: 64, 0.65: 65, 0.66: 66, 0.67: 67, 0.68: 68, 0.69: 69, 0.7: 70, 0.71: 71, 0.72: 72, 0.73: 73, 0.74: 74, 0.75: 75, 0.76: 76, 0.77: 77, 0.78: 78, 0.79: 79, 0.8: 80, 0.81: 81, 0.82: 82, 0.83: 83, 0.84: 84, 0.85: 85, 0.86: 86, 0.87: 87, 0.88: 88, 0.89: 89, 0.9: 90, 0.91: 91, 0.92: 92, 0.93: 93, 0.94: 94, 0.95: 95, 0.96: 96, 0.97: 97, 0.98: 98, 0.99: 99, 1.0: 100, 1.1: 101, 1.2: 102, 1.3: 103, 1.4: 104, 1.5: 105, 1.6: 106, 1.7: 107, 1.8: 108, 1.9: 109, 2.0: 110, 2.1: 111, 2.2: 112, 2.3: 113, 2.4: 114, 2.5: 115, 2.6: 116, 2.7: 117, 2.8: 118, 2.9: 119, 3.0: 120, 3.1: 121, 3.2: 122, 3.3: 123, 3.4: 124, 3.5: 125, 3.6: 126, 3.7: 127, 3.8: 128, 3.9: 129, 4.0: 130, 4.1: 131, 4.2: 132, 4.3: 133, 4.4: 134, 4.5: 135, 4.6: 136, 4.7: 137, 4.8: 138, 4.9: 139, 5.0: 140}\n",
      "{0: 0.0, 1: 0.01, 2: 0.02, 3: 0.03, 4: 0.04, 5: 0.05, 6: 0.06, 7: 0.07, 8: 0.08, 9: 0.09, 10: 0.1, 11: 0.11, 12: 0.12, 13: 0.13, 14: 0.14, 15: 0.15, 16: 0.16, 17: 0.17, 18: 0.18, 19: 0.19, 20: 0.2, 21: 0.21, 22: 0.22, 23: 0.23, 24: 0.24, 25: 0.25, 26: 0.26, 27: 0.27, 28: 0.28, 29: 0.29, 30: 0.3, 31: 0.31, 32: 0.32, 33: 0.33, 34: 0.34, 35: 0.35, 36: 0.36, 37: 0.37, 38: 0.38, 39: 0.39, 40: 0.4, 41: 0.41, 42: 0.42, 43: 0.43, 44: 0.44, 45: 0.45, 46: 0.46, 47: 0.47, 48: 0.48, 49: 0.49, 50: 0.5, 51: 0.51, 52: 0.52, 53: 0.53, 54: 0.54, 55: 0.55, 56: 0.56, 57: 0.57, 58: 0.58, 59: 0.59, 60: 0.6, 61: 0.61, 62: 0.62, 63: 0.63, 64: 0.64, 65: 0.65, 66: 0.66, 67: 0.67, 68: 0.68, 69: 0.69, 70: 0.7, 71: 0.71, 72: 0.72, 73: 0.73, 74: 0.74, 75: 0.75, 76: 0.76, 77: 0.77, 78: 0.78, 79: 0.79, 80: 0.8, 81: 0.81, 82: 0.82, 83: 0.83, 84: 0.84, 85: 0.85, 86: 0.86, 87: 0.87, 88: 0.88, 89: 0.89, 90: 0.9, 91: 0.91, 92: 0.92, 93: 0.93, 94: 0.94, 95: 0.95, 96: 0.96, 97: 0.97, 98: 0.98, 99: 0.99, 100: 1.0, 101: 1.1, 102: 1.2, 103: 1.3, 104: 1.4, 105: 1.5, 106: 1.6, 107: 1.7, 108: 1.8, 109: 1.9, 110: 2.0, 111: 2.1, 112: 2.2, 113: 2.3, 114: 2.4, 115: 2.5, 116: 2.6, 117: 2.7, 118: 2.8, 119: 2.9, 120: 3.0, 121: 3.1, 122: 3.2, 123: 3.3, 124: 3.4, 125: 3.5, 126: 3.6, 127: 3.7, 128: 3.8, 129: 3.9, 130: 4.0, 131: 4.1, 132: 4.2, 133: 4.3, 134: 4.4, 135: 4.5, 136: 4.6, 137: 4.7, 138: 4.8, 139: 4.9, 140: 5.0}\n"
     ]
    }
   ],
   "source": [
    "# notes = sorted(list(set(notes_index)))\n",
    "# lengths = sorted(list(set(length_index)))\n",
    "notes = []\n",
    "for i in range(0, 128):\n",
    "    notes.append(i)\n",
    "\n",
    "\n",
    "    \n",
    "print('num_events:', len(notes))\n",
    "# print(notes)\n",
    "note_index = dict((c, i) for i, c in enumerate(notes))\n",
    "index_note = dict((i, c) for i, c in enumerate(notes))\n",
    "\n",
    "lengths_index = dict((c, i) for i, c in enumerate(lengths))\n",
    "index_lengths = dict((i, c) for i, c in enumerate(lengths))\n",
    "print(lengths_index)\n",
    "print(index_lengths)"
   ]
  },
  {
   "cell_type": "code",
   "execution_count": 14,
   "metadata": {
    "collapsed": true
   },
   "outputs": [],
   "source": [
    "# scaler = MinMaxScaler(feature_range=(0, 1))\n",
    "# scaler.fit(length_index[:].reshape(-1,1))\n",
    "# length_index = scaler.transform(length_index[:].reshape(-1,1))\n",
    "# print(length_index[0:3])"
   ]
  },
  {
   "cell_type": "code",
   "execution_count": null,
   "metadata": {
    "collapsed": true
   },
   "outputs": [],
   "source": [
    ""
   ]
  },
  {
   "cell_type": "code",
   "execution_count": 15,
   "metadata": {},
   "outputs": [
    {
     "name": "stdout",
     "output_type": "stream",
     "text": [
      "nb sequences: 5\n",
      "[array([0.65, 0.51]), array([1.4 , 0.05]), array([0.6 , 0.33]), array([0.09, 0.98]), array([1.3 , 0.51])]\n",
      "[1.3, 0.93, 0.33, 1.3, 1.3]\n"
     ]
    }
   ],
   "source": [
    "length_phrases = []\n",
    "next_length = []\n",
    "note_phrases = []\n",
    "next_note = []\n",
    "for i in range(0, len(notes_index) - n_time_steps, semi_redundancy_step):\n",
    "    note_phrases.append(notes_index[i: i + n_time_steps])\n",
    "    length_phrases.append(length_index[i: i + n_time_steps])\n",
    "    \n",
    "    next_note.append(notes_index[i + n_time_steps])\n",
    "    next_length.append(length_index[i + n_time_steps])\n",
    "print('nb sequences:', len(note_phrases))\n",
    "# for i in range(2):\n",
    "#     print('______________')\n",
    "#     print('note_x', note_phrases[i])\n",
    "#     print('note_y', next_note[i])\n",
    "#     print('length_x', length_phrases[i])\n",
    "#     print('length_y', next_length[i])\n",
    "print(length_phrases)\n",
    "print(next_length)"
   ]
  },
  {
   "cell_type": "code",
   "execution_count": 16,
   "metadata": {},
   "outputs": [
    {
     "name": "stdout",
     "output_type": "stream",
     "text": [
      "Vectorization...\n",
      "0 0 58.0\n",
      "0 1 57.0\n",
      "1 0 52.0\n",
      "1 1 61.0\n",
      "2 0 0.0\n",
      "2 1 50.0\n",
      "3 0 53.0\n",
      "3 1 52.0\n",
      "4 0 55.0\n",
      "4 1 52.0\n",
      "0 0 0.65\n",
      "0 1 0.51\n",
      "1 0 1.4\n",
      "1 1 0.05\n",
      "2 0 0.6\n",
      "2 1 0.33\n",
      "3 0 0.09\n",
      "3 1 0.98\n",
      "4 0 1.3\n",
      "4 1 0.51\n"
     ]
    }
   ],
   "source": [
    "print('Vectorization...')\n",
    "\n",
    "note_x = np.zeros((len(note_phrases), n_time_steps, len(notes)), dtype=np.bool)\n",
    "note_y = np.zeros((len(note_phrases), len(notes)), dtype=np.bool)\n",
    "\n",
    "length_x = np.zeros((len(length_phrases), n_time_steps, len(lengths)), dtype=np.bool)\n",
    "length_y = np.zeros((len(length_phrases), len(lengths)), dtype=np.bool)\n",
    "\n",
    "for i, phrase in enumerate(note_phrases):\n",
    "    for t, note in enumerate(phrase):\n",
    "        print(i, t, note)\n",
    "        note_x[i, t, note_index[note]] = 1\n",
    "    note_y[i, note_index[next_note[i]]] = 1\n",
    "\n",
    "for i, phrase in enumerate(length_phrases):\n",
    "    for t, length in enumerate(phrase):\n",
    "        print(i, t, length)\n",
    "        length_x[i, t, lengths_index[length]] = 1\n",
    "    length_y[i, lengths_index[next_length[i]]] = 1\n",
    "    \n",
    "# print('______________')\n",
    "# print('length_x', length_x[0])\n",
    "# print('length_y', length_y[0])\n",
    "# print('note_x', note_x[0])\n",
    "# print('note_y', note_y[0])"
   ]
  },
  {
   "cell_type": "code",
   "execution_count": 17,
   "metadata": {},
   "outputs": [
    {
     "name": "stdout",
     "output_type": "stream",
     "text": [
      "(5, 2, 128)\n",
      "(5, 2, 141)\n",
      "(5, 128)\n",
      "(5, 141)\n"
     ]
    }
   ],
   "source": [
    "print(note_x.shape)\n",
    "print(length_x.shape)\n",
    "print(note_y.shape)\n",
    "print(length_y.shape)"
   ]
  },
  {
   "cell_type": "code",
   "execution_count": 18,
   "metadata": {
    "collapsed": true
   },
   "outputs": [],
   "source": [
    "lstm_size = 64\n",
    "\n",
    "note_input = Input(name='note_input', shape=(n_time_steps, len(notes)))\n",
    "length_input = Input(name='length_input', shape=(n_time_steps, len(lengths)))\n",
    "\n",
    "# input_merge = concatenate([note_input, length_input])\n",
    "\n",
    "# nn = LSTM(lstm_size, return_sequences=True)(input_merge)\n",
    "# # nn = Dropout(dropout)(nn)\n",
    "# nn = LSTM(lstm_size, return_sequences=True)(nn)\n",
    "\n",
    "note_branch = LSTM(lstm_size, return_sequences=True)(note_input)\n",
    "note_share = LSTM(int(lstm_size/4), return_sequences=True)(note_branch)\n",
    "\n",
    "length_branch = LSTM(lstm_size, return_sequences=True)(length_input)\n",
    "length_share = LSTM(int(lstm_size/4), return_sequences=True)(length_branch)\n",
    "\n",
    "length_merge = concatenate([length_branch, note_share])\n",
    "note_merge = concatenate([note_branch, length_share])\n",
    "\n",
    "length_lstm = LSTM(lstm_size, return_sequences=False)(length_merge)\n",
    "note_lstm = LSTM(lstm_size, return_sequences=False)(note_merge)\n",
    "                    \n",
    "output_notes = Dense(len(notes), activation='softmax', name='note_output')(note_lstm)\n",
    "length_output = Dense(len(lengths), activation='softmax', name='length_output')(length_lstm)\n",
    "\n",
    "optimizer = optimizers.RMSprop(lr=0.001)\n",
    "model = Model(inputs=[note_input, length_input], outputs=[output_notes, length_output])\n",
    "model.compile(loss=['categorical_crossentropy', 'categorical_crossentropy'], optimizer=optimizer)"
   ]
  },
  {
   "cell_type": "code",
   "execution_count": 19,
   "metadata": {},
   "outputs": [
    {
     "name": "stdout",
     "output_type": "stream",
     "text": [
      "__________________________________________________________________________________________________\n",
      "Layer (type)                    Output Shape         Param #     Connected to                     \n",
      "==================================================================================================\n",
      "note_input (InputLayer)         (None, 2, 128)       0                                            \n",
      "__________________________________________________________________________________________________\n",
      "length_input (InputLayer)       (None, 2, 141)       0                                            \n",
      "__________________________________________________________________________________________________\n",
      "lstm_1 (LSTM)                   (None, 2, 64)        49408       note_input[0][0]                 \n",
      "__________________________________________________________________________________________________\n",
      "lstm_3 (LSTM)                   (None, 2, 64)        52736       length_input[0][0]               \n",
      "__________________________________________________________________________________________________\n",
      "lstm_4 (LSTM)                   (None, 2, 16)        5184        lstm_3[0][0]                     \n",
      "__________________________________________________________________________________________________\n",
      "lstm_2 (LSTM)                   (None, 2, 16)        5184        lstm_1[0][0]                     \n",
      "__________________________________________________________________________________________________\n",
      "concatenate_2 (Concatenate)     (None, 2, 80)        0           lstm_1[0][0]                     \n",
      "                                                                 lstm_4[0][0]                     \n",
      "__________________________________________________________________________________________________\n",
      "concatenate_1 (Concatenate)     (None, 2, 80)        0           lstm_3[0][0]                     \n",
      "                                                                 lstm_2[0][0]                     \n",
      "__________________________________________________________________________________________________\n",
      "lstm_6 (LSTM)                   (None, 64)           37120       concatenate_2[0][0]              \n",
      "__________________________________________________________________________________________________\n",
      "lstm_5 (LSTM)                   (None, 64)           37120       concatenate_1[0][0]              \n",
      "__________________________________________________________________________________________________\n",
      "note_output (Dense)             (None, 128)          8320        lstm_6[0][0]                     \n",
      "__________________________________________________________________________________________________\n",
      "length_output (Dense)           (None, 141)          9165        lstm_5[0][0]                     \n",
      "==================================================================================================\n",
      "Total params: 204,237\n",
      "Trainable params: 204,237\n",
      "Non-trainable params: 0\n",
      "__________________________________________________________________________________________________\n"
     ]
    }
   ],
   "source": [
    "model.summary()"
   ]
  },
  {
   "cell_type": "code",
   "execution_count": 20,
   "metadata": {},
   "outputs": [
    {
     "data": {
      "image/svg+xml": [
       "<svg height=\"483pt\" viewBox=\"0.00 0.00 363.50 483.00\" width=\"363pt\" xmlns=\"http://www.w3.org/2000/svg\" xmlns:xlink=\"http://www.w3.org/1999/xlink\">\n",
       "<g class=\"graph\" id=\"graph0\" transform=\"scale(1 1) rotate(0) translate(4 479)\">\n",
       "<title>G</title>\n",
       "<polygon fill=\"#ffffff\" points=\"-4,4 -4,-479 359.4971,-479 359.4971,4 -4,4\" stroke=\"transparent\"/>\n",
       "<!-- 112276001288 -->\n",
       "<g class=\"node\" id=\"node1\">\n",
       "<title>112276001288</title>\n",
       "<polygon fill=\"none\" points=\"155.4448,-438.5 155.4448,-474.5 300.9106,-474.5 300.9106,-438.5 155.4448,-438.5\" stroke=\"#000000\"/>\n",
       "<text fill=\"#000000\" font-family=\"Times,serif\" font-size=\"14.00\" text-anchor=\"middle\" x=\"228.1777\" y=\"-452.3\">note_input: InputLayer</text>\n",
       "</g>\n",
       "<!-- 112276004704 -->\n",
       "<g class=\"node\" id=\"node3\">\n",
       "<title>112276004704</title>\n",
       "<polygon fill=\"none\" points=\"178.7554,-365.5 178.7554,-401.5 277.6001,-401.5 277.6001,-365.5 178.7554,-365.5\" stroke=\"#000000\"/>\n",
       "<text fill=\"#000000\" font-family=\"Times,serif\" font-size=\"14.00\" text-anchor=\"middle\" x=\"228.1777\" y=\"-379.3\">lstm_1: LSTM</text>\n",
       "</g>\n",
       "<!-- 112276001288&#45;&gt;112276004704 -->\n",
       "<g class=\"edge\" id=\"edge1\">\n",
       "<title>112276001288-&gt;112276004704</title>\n",
       "<path d=\"M228.1777,-438.4551C228.1777,-430.3828 228.1777,-420.6764 228.1777,-411.6817\" fill=\"none\" stroke=\"#000000\"/>\n",
       "<polygon fill=\"#000000\" points=\"231.6778,-411.5903 228.1777,-401.5904 224.6778,-411.5904 231.6778,-411.5903\" stroke=\"#000000\"/>\n",
       "</g>\n",
       "<!-- 112276001232 -->\n",
       "<g class=\"node\" id=\"node2\">\n",
       "<title>112276001232</title>\n",
       "<polygon fill=\"none\" points=\"0,-365.5 0,-401.5 156.3555,-401.5 156.3555,-365.5 0,-365.5\" stroke=\"#000000\"/>\n",
       "<text fill=\"#000000\" font-family=\"Times,serif\" font-size=\"14.00\" text-anchor=\"middle\" x=\"78.1777\" y=\"-379.3\">length_input: InputLayer</text>\n",
       "</g>\n",
       "<!-- 112276027824 -->\n",
       "<g class=\"node\" id=\"node4\">\n",
       "<title>112276027824</title>\n",
       "<polygon fill=\"none\" points=\"28.7554,-292.5 28.7554,-328.5 127.6001,-328.5 127.6001,-292.5 28.7554,-292.5\" stroke=\"#000000\"/>\n",
       "<text fill=\"#000000\" font-family=\"Times,serif\" font-size=\"14.00\" text-anchor=\"middle\" x=\"78.1777\" y=\"-306.3\">lstm_3: LSTM</text>\n",
       "</g>\n",
       "<!-- 112276001232&#45;&gt;112276027824 -->\n",
       "<g class=\"edge\" id=\"edge2\">\n",
       "<title>112276001232-&gt;112276027824</title>\n",
       "<path d=\"M78.1777,-365.4551C78.1777,-357.3828 78.1777,-347.6764 78.1777,-338.6817\" fill=\"none\" stroke=\"#000000\"/>\n",
       "<polygon fill=\"#000000\" points=\"81.6778,-338.5903 78.1777,-328.5904 74.6778,-338.5904 81.6778,-338.5903\" stroke=\"#000000\"/>\n",
       "</g>\n",
       "<!-- 112276001960 -->\n",
       "<g class=\"node\" id=\"node6\">\n",
       "<title>112276001960</title>\n",
       "<polygon fill=\"none\" points=\"200.7554,-292.5 200.7554,-328.5 299.6001,-328.5 299.6001,-292.5 200.7554,-292.5\" stroke=\"#000000\"/>\n",
       "<text fill=\"#000000\" font-family=\"Times,serif\" font-size=\"14.00\" text-anchor=\"middle\" x=\"250.1777\" y=\"-306.3\">lstm_2: LSTM</text>\n",
       "</g>\n",
       "<!-- 112276004704&#45;&gt;112276001960 -->\n",
       "<g class=\"edge\" id=\"edge4\">\n",
       "<title>112276004704-&gt;112276001960</title>\n",
       "<path d=\"M233.6159,-365.4551C236.0751,-357.2951 239.0375,-347.4652 241.7729,-338.3887\" fill=\"none\" stroke=\"#000000\"/>\n",
       "<polygon fill=\"#000000\" points=\"245.1914,-339.175 244.7258,-328.5904 238.4891,-337.1551 245.1914,-339.175\" stroke=\"#000000\"/>\n",
       "</g>\n",
       "<!-- 112290614576 -->\n",
       "<g class=\"node\" id=\"node7\">\n",
       "<title>112290614576</title>\n",
       "<polygon fill=\"none\" points=\"10.8584,-146.5 10.8584,-182.5 183.4971,-182.5 183.4971,-146.5 10.8584,-146.5\" stroke=\"#000000\"/>\n",
       "<text fill=\"#000000\" font-family=\"Times,serif\" font-size=\"14.00\" text-anchor=\"middle\" x=\"97.1777\" y=\"-160.3\">concatenate_2: Concatenate</text>\n",
       "</g>\n",
       "<!-- 112276004704&#45;&gt;112290614576 -->\n",
       "<g class=\"edge\" id=\"edge5\">\n",
       "<title>112276004704-&gt;112290614576</title>\n",
       "<path d=\"M215.3183,-365.1633C208.2011,-354.7425 199.3678,-341.3471 192.1777,-329 164.5711,-281.5927 164.6651,-265.8834 136.1777,-219 130.4683,-209.6037 123.6597,-199.718 117.3414,-190.9847\" fill=\"none\" stroke=\"#000000\"/>\n",
       "<polygon fill=\"#000000\" points=\"119.9899,-188.6784 111.2455,-182.6964 114.3509,-192.8259 119.9899,-188.6784\" stroke=\"#000000\"/>\n",
       "</g>\n",
       "<!-- 112286944672 -->\n",
       "<g class=\"node\" id=\"node5\">\n",
       "<title>112286944672</title>\n",
       "<polygon fill=\"none\" points=\"28.7554,-219.5 28.7554,-255.5 127.6001,-255.5 127.6001,-219.5 28.7554,-219.5\" stroke=\"#000000\"/>\n",
       "<text fill=\"#000000\" font-family=\"Times,serif\" font-size=\"14.00\" text-anchor=\"middle\" x=\"78.1777\" y=\"-233.3\">lstm_4: LSTM</text>\n",
       "</g>\n",
       "<!-- 112276027824&#45;&gt;112286944672 -->\n",
       "<g class=\"edge\" id=\"edge3\">\n",
       "<title>112276027824-&gt;112286944672</title>\n",
       "<path d=\"M78.1777,-292.4551C78.1777,-284.3828 78.1777,-274.6764 78.1777,-265.6817\" fill=\"none\" stroke=\"#000000\"/>\n",
       "<polygon fill=\"#000000\" points=\"81.6778,-265.5903 78.1777,-255.5904 74.6778,-265.5904 81.6778,-265.5903\" stroke=\"#000000\"/>\n",
       "</g>\n",
       "<!-- 112289275800 -->\n",
       "<g class=\"node\" id=\"node8\">\n",
       "<title>112289275800</title>\n",
       "<polygon fill=\"none\" points=\"182.8584,-219.5 182.8584,-255.5 355.4971,-255.5 355.4971,-219.5 182.8584,-219.5\" stroke=\"#000000\"/>\n",
       "<text fill=\"#000000\" font-family=\"Times,serif\" font-size=\"14.00\" text-anchor=\"middle\" x=\"269.1777\" y=\"-233.3\">concatenate_1: Concatenate</text>\n",
       "</g>\n",
       "<!-- 112276027824&#45;&gt;112289275800 -->\n",
       "<g class=\"edge\" id=\"edge7\">\n",
       "<title>112276027824-&gt;112289275800</title>\n",
       "<path d=\"M125.3912,-292.4551C151.677,-282.4087 184.5859,-269.8309 212.2847,-259.2445\" fill=\"none\" stroke=\"#000000\"/>\n",
       "<polygon fill=\"#000000\" points=\"213.754,-262.4299 221.8454,-255.5904 211.2549,-255.8912 213.754,-262.4299\" stroke=\"#000000\"/>\n",
       "</g>\n",
       "<!-- 112286944672&#45;&gt;112290614576 -->\n",
       "<g class=\"edge\" id=\"edge6\">\n",
       "<title>112286944672-&gt;112290614576</title>\n",
       "<path d=\"M82.8744,-219.4551C84.9982,-211.2951 87.5567,-201.4652 89.919,-192.3887\" fill=\"none\" stroke=\"#000000\"/>\n",
       "<polygon fill=\"#000000\" points=\"93.3375,-193.1496 92.4693,-182.5904 86.5632,-191.3863 93.3375,-193.1496\" stroke=\"#000000\"/>\n",
       "</g>\n",
       "<!-- 112276001960&#45;&gt;112289275800 -->\n",
       "<g class=\"edge\" id=\"edge8\">\n",
       "<title>112276001960-&gt;112289275800</title>\n",
       "<path d=\"M254.8744,-292.4551C256.9982,-284.2951 259.5567,-274.4652 261.919,-265.3887\" fill=\"none\" stroke=\"#000000\"/>\n",
       "<polygon fill=\"#000000\" points=\"265.3375,-266.1496 264.4693,-255.5904 258.5632,-264.3863 265.3375,-266.1496\" stroke=\"#000000\"/>\n",
       "</g>\n",
       "<!-- 112292768904 -->\n",
       "<g class=\"node\" id=\"node9\">\n",
       "<title>112292768904</title>\n",
       "<polygon fill=\"none\" points=\"47.7554,-73.5 47.7554,-109.5 146.6001,-109.5 146.6001,-73.5 47.7554,-73.5\" stroke=\"#000000\"/>\n",
       "<text fill=\"#000000\" font-family=\"Times,serif\" font-size=\"14.00\" text-anchor=\"middle\" x=\"97.1777\" y=\"-87.3\">lstm_6: LSTM</text>\n",
       "</g>\n",
       "<!-- 112290614576&#45;&gt;112292768904 -->\n",
       "<g class=\"edge\" id=\"edge9\">\n",
       "<title>112290614576-&gt;112292768904</title>\n",
       "<path d=\"M97.1777,-146.4551C97.1777,-138.3828 97.1777,-128.6764 97.1777,-119.6817\" fill=\"none\" stroke=\"#000000\"/>\n",
       "<polygon fill=\"#000000\" points=\"100.6778,-119.5903 97.1777,-109.5904 93.6778,-119.5904 100.6778,-119.5903\" stroke=\"#000000\"/>\n",
       "</g>\n",
       "<!-- 112292650624 -->\n",
       "<g class=\"node\" id=\"node10\">\n",
       "<title>112292650624</title>\n",
       "<polygon fill=\"none\" points=\"219.7554,-146.5 219.7554,-182.5 318.6001,-182.5 318.6001,-146.5 219.7554,-146.5\" stroke=\"#000000\"/>\n",
       "<text fill=\"#000000\" font-family=\"Times,serif\" font-size=\"14.00\" text-anchor=\"middle\" x=\"269.1777\" y=\"-160.3\">lstm_5: LSTM</text>\n",
       "</g>\n",
       "<!-- 112289275800&#45;&gt;112292650624 -->\n",
       "<g class=\"edge\" id=\"edge10\">\n",
       "<title>112289275800-&gt;112292650624</title>\n",
       "<path d=\"M269.1777,-219.4551C269.1777,-211.3828 269.1777,-201.6764 269.1777,-192.6817\" fill=\"none\" stroke=\"#000000\"/>\n",
       "<polygon fill=\"#000000\" points=\"272.6778,-192.5903 269.1777,-182.5904 265.6778,-192.5904 272.6778,-192.5903\" stroke=\"#000000\"/>\n",
       "</g>\n",
       "<!-- 112293780504 -->\n",
       "<g class=\"node\" id=\"node11\">\n",
       "<title>112293780504</title>\n",
       "<polygon fill=\"none\" points=\"34.5483,-.5 34.5483,-36.5 159.8071,-36.5 159.8071,-.5 34.5483,-.5\" stroke=\"#000000\"/>\n",
       "<text fill=\"#000000\" font-family=\"Times,serif\" font-size=\"14.00\" text-anchor=\"middle\" x=\"97.1777\" y=\"-14.3\">note_output: Dense</text>\n",
       "</g>\n",
       "<!-- 112292768904&#45;&gt;112293780504 -->\n",
       "<g class=\"edge\" id=\"edge11\">\n",
       "<title>112292768904-&gt;112293780504</title>\n",
       "<path d=\"M97.1777,-73.4551C97.1777,-65.3828 97.1777,-55.6764 97.1777,-46.6817\" fill=\"none\" stroke=\"#000000\"/>\n",
       "<polygon fill=\"#000000\" points=\"100.6778,-46.5903 97.1777,-36.5904 93.6778,-46.5904 100.6778,-46.5903\" stroke=\"#000000\"/>\n",
       "</g>\n",
       "<!-- 112296089080 -->\n",
       "<g class=\"node\" id=\"node12\">\n",
       "<title>112296089080</title>\n",
       "<polygon fill=\"none\" points=\"201.1035,-73.5 201.1035,-109.5 337.252,-109.5 337.252,-73.5 201.1035,-73.5\" stroke=\"#000000\"/>\n",
       "<text fill=\"#000000\" font-family=\"Times,serif\" font-size=\"14.00\" text-anchor=\"middle\" x=\"269.1777\" y=\"-87.3\">length_output: Dense</text>\n",
       "</g>\n",
       "<!-- 112292650624&#45;&gt;112296089080 -->\n",
       "<g class=\"edge\" id=\"edge12\">\n",
       "<title>112292650624-&gt;112296089080</title>\n",
       "<path d=\"M269.1777,-146.4551C269.1777,-138.3828 269.1777,-128.6764 269.1777,-119.6817\" fill=\"none\" stroke=\"#000000\"/>\n",
       "<polygon fill=\"#000000\" points=\"272.6778,-119.5903 269.1777,-109.5904 265.6778,-119.5904 272.6778,-119.5903\" stroke=\"#000000\"/>\n",
       "</g>\n",
       "</g>\n",
       "</svg>"
      ],
      "text/plain": [
       "<IPython.core.display.SVG object>"
      ]
     },
     "execution_count": 20,
     "metadata": {},
     "output_type": "execute_result"
    }
   ],
   "source": [
    "SVG(model_to_dot(model).create(prog='dot', format='svg'))"
   ]
  },
  {
   "cell_type": "code",
   "execution_count": null,
   "metadata": {
    "collapsed": true
   },
   "outputs": [],
   "source": [
    ""
   ]
  },
  {
   "cell_type": "code",
   "execution_count": 21,
   "metadata": {
    "collapsed": true
   },
   "outputs": [],
   "source": [
    "def sample(preds, temperature=1.0):\n",
    "    # helper function to sample an index from a probability array\n",
    "    preds = np.asarray(preds).astype('float64')\n",
    "    preds = np.log(preds) / temperature\n",
    "    exp_preds = np.exp(preds)\n",
    "    preds = exp_preds / np.sum(exp_preds)\n",
    "    probas = np.random.multinomial(1, preds, 1)\n",
    "    return np.argmax(probas)"
   ]
  },
  {
   "cell_type": "code",
   "execution_count": 22,
   "metadata": {
    "collapsed": true
   },
   "outputs": [],
   "source": [
    "def midi_to_hertz(midi):\n",
    "    if midi == 0:\n",
    "        return 0\n",
    "    g = 2**(1/12)\n",
    "    return 440*g**(midi-69)"
   ]
  },
  {
   "cell_type": "code",
   "execution_count": 23,
   "metadata": {
    "collapsed": true
   },
   "outputs": [],
   "source": [
    "def on_epoch_end(epoch, logs):\n",
    "    # Function invoked at end of each epoch. Prints generated text.\n",
    "    if epoch % 10 == 0 and epoch > 60:\n",
    "        print('----- Generating text after Epoch: %d' % epoch)\n",
    "\n",
    "        start_index = 0\n",
    "        for diversity in [1]:\n",
    "            print('----- diversity:', diversity)\n",
    "\n",
    "            generated_notes = []\n",
    "            generated_length = []\n",
    "            current_note_phrase = notes_index[start_index: start_index + n_time_steps]\n",
    "            current_length_phrase = length_index[start_index: start_index + n_time_steps]\n",
    "            generated_notes.extend(current_note_phrase)\n",
    "            generated_length.extend(current_length_phrase)\n",
    "    \n",
    "            n_generated = 20\n",
    "            start_time = time.time()\n",
    "            for i in range(n_generated):\n",
    "                x_pred = np.zeros((1, n_time_steps, len(notes)))\n",
    "                length_x_pred = np.zeros((1, n_time_steps, len(lengths)))\n",
    "\n",
    "                for t, event in enumerate(current_note_phrase):\n",
    "                    x_pred[0, t, note_index[event]] = 1.\n",
    "\n",
    "                for t, event in enumerate(current_length_phrase):\n",
    "                    length_x_pred[0, t, lengths_index[event]] = 1\n",
    "\n",
    "                pred = model.predict([x_pred, length_x_pred], verbose=0)\n",
    "                note_pred = pred[0][0]\n",
    "                length_pred = pred[1][0]\n",
    "                \n",
    "                note_index_from_sample = sample(note_pred, diversity)\n",
    "                note_prediction = index_note[note_index_from_sample]\n",
    "                \n",
    "                length_index_from_sample = sample(length_pred, diversity)\n",
    "                length_prediction = index_lengths[length_index_from_sample]\n",
    "                \n",
    "#                 print(note_prediction)\n",
    "#                 print(length_prediction)\n",
    "                \n",
    "                generated_notes.append(note_prediction)\n",
    "                generated_length.append(length_prediction)\n",
    "                \n",
    "                current_note_phrase = np.append(current_note_phrase[1:], note_prediction)\n",
    "                current_length_phrase = np.append(current_length_phrase[1:], length_prediction)\n",
    "                \n",
    "                end_time = time.time()\n",
    "            counter = 0\n",
    "            for i in range(len(generated_notes)):\n",
    "                note = generated_notes[i]\n",
    "                length = generated_length[i]\n",
    "#                 freq = midi_to_hertz(note)\n",
    "                print(note, '|', length)\n",
    "                player.play(note, length, 100)\n",
    "#                     socket.emit('freq_change', {'freq': 4000, 'vol': 100})\n",
    "                time.sleep(0.03)\n",
    "\n",
    "                #socket.emit('freq_change', {'freq': freq, 'vol': 100})\n",
    "                time.sleep(length * .5)\n",
    "\n",
    "\n",
    "            #socket.emit('freq_change', {'freq': 0, 'vol': 100})"
   ]
  },
  {
   "cell_type": "code",
   "execution_count": null,
   "metadata": {
    "collapsed": true
   },
   "outputs": [],
   "source": [
    ""
   ]
  },
  {
   "cell_type": "code",
   "execution_count": 24,
   "metadata": {},
   "outputs": [
    {
     "name": "stdout",
     "output_type": "stream",
     "text": [
      "Epoch 1/50\n",
      "5/5 [==============================] - 2s 380ms/step - loss: 9.8009 - note_output_loss: 4.8509 - length_output_loss: 4.9500\n",
      "Epoch 2/50\n",
      "5/5 [==============================] - 0s 3ms/step - loss: 9.7635 - note_output_loss: 4.8330 - length_output_loss: 4.9305\n",
      "Epoch 3/50\n",
      "5/5 [==============================] - 0s 3ms/step - loss: 9.7332 - note_output_loss: 4.8187 - length_output_loss: 4.9145\n",
      "Epoch 4/50\n",
      "5/5 [==============================] - 0s 5ms/step - loss: 9.7031 - note_output_loss: 4.8051 - length_output_loss: 4.8980\n",
      "Epoch 5/50\n",
      "5/5 [==============================] - 0s 4ms/step - loss: 9.6713 - note_output_loss: 4.7907 - length_output_loss: 4.8806\n",
      "Epoch 6/50\n",
      "5/5 [==============================] - 0s 4ms/step - loss: 9.6371 - note_output_loss: 4.7757 - length_output_loss: 4.8614\n",
      "Epoch 7/50\n",
      "5/5 [==============================] - 0s 4ms/step - loss: 9.5993 - note_output_loss: 4.7593 - length_output_loss: 4.8401\n",
      "Epoch 8/50\n",
      "5/5 [==============================] - 0s 4ms/step - loss: 9.5572 - note_output_loss: 4.7407 - length_output_loss: 4.8165\n",
      "Epoch 9/50\n",
      "5/5 [==============================] - 0s 3ms/step - loss: 9.5098 - note_output_loss: 4.7199 - length_output_loss: 4.7898\n",
      "Epoch 10/50\n",
      "5/5 [==============================] - 0s 5ms/step - loss: 9.4560 - note_output_loss: 4.6966 - length_output_loss: 4.7594\n",
      "Epoch 11/50\n",
      "5/5 [==============================] - 0s 4ms/step - loss: 9.3943 - note_output_loss: 4.6703 - length_output_loss: 4.7240\n",
      "Epoch 12/50\n",
      "5/5 [==============================] - 0s 3ms/step - loss: 9.3249 - note_output_loss: 4.6404 - length_output_loss: 4.6845\n",
      "Epoch 13/50\n",
      "5/5 [==============================] - 0s 3ms/step - loss: 9.2466 - note_output_loss: 4.6072 - length_output_loss: 4.6394\n",
      "Epoch 14/50\n",
      "5/5 [==============================] - 0s 3ms/step - loss: 9.1564 - note_output_loss: 4.5685 - length_output_loss: 4.5879\n",
      "Epoch 15/50\n",
      "5/5 [==============================] - 0s 3ms/step - loss: 9.0547 - note_output_loss: 4.5254 - length_output_loss: 4.5293\n",
      "Epoch 16/50\n",
      "5/5 [==============================] - 0s 6ms/step - loss: 8.9370 - note_output_loss: 4.4753 - length_output_loss: 4.4617\n",
      "Epoch 17/50\n",
      "5/5 [==============================] - 0s 4ms/step - loss: 8.8037 - note_output_loss: 4.4184 - length_output_loss: 4.3853\n",
      "Epoch 18/50\n",
      "5/5 [==============================] - 0s 3ms/step - loss: 8.6547 - note_output_loss: 4.3542 - length_output_loss: 4.3005\n",
      "Epoch 19/50\n",
      "5/5 [==============================] - 0s 3ms/step - loss: 8.4853 - note_output_loss: 4.2817 - length_output_loss: 4.2036\n",
      "Epoch 20/50\n",
      "5/5 [==============================] - 0s 5ms/step - loss: 8.2971 - note_output_loss: 4.2004 - length_output_loss: 4.0966\n",
      "Epoch 21/50\n",
      "5/5 [==============================] - 0s 5ms/step - loss: 8.0868 - note_output_loss: 4.1108 - length_output_loss: 3.9759\n",
      "Epoch 22/50\n",
      "5/5 [==============================] - 0s 3ms/step - loss: 7.8535 - note_output_loss: 4.0097 - length_output_loss: 3.8438\n",
      "Epoch 23/50\n",
      "5/5 [==============================] - 0s 3ms/step - loss: 7.5962 - note_output_loss: 3.8982 - length_output_loss: 3.6981\n",
      "Epoch 24/50\n",
      "5/5 [==============================] - 0s 4ms/step - loss: 7.3126 - note_output_loss: 3.7758 - length_output_loss: 3.5368\n",
      "Epoch 25/50\n",
      "5/5 [==============================] - 0s 4ms/step - loss: 7.0080 - note_output_loss: 3.6433 - length_output_loss: 3.3647\n",
      "Epoch 26/50\n",
      "5/5 [==============================] - 0s 6ms/step - loss: 6.6793 - note_output_loss: 3.5009 - length_output_loss: 3.1783\n",
      "Epoch 27/50\n",
      "5/5 [==============================] - 0s 3ms/step - loss: 6.3325 - note_output_loss: 3.3503 - length_output_loss: 2.9821\n",
      "Epoch 28/50\n",
      "5/5 [==============================] - 0s 3ms/step - loss: 5.9727 - note_output_loss: 3.1934 - length_output_loss: 2.7792\n",
      "Epoch 29/50\n",
      "5/5 [==============================] - 0s 3ms/step - loss: 5.6091 - note_output_loss: 3.0350 - length_output_loss: 2.5741\n",
      "Epoch 30/50\n",
      "5/5 [==============================] - 0s 3ms/step - loss: 5.2456 - note_output_loss: 2.8743 - length_output_loss: 2.3713\n",
      "Epoch 31/50\n",
      "5/5 [==============================] - 0s 5ms/step - loss: 4.8947 - note_output_loss: 2.7176 - length_output_loss: 2.1771\n",
      "Epoch 32/50\n",
      "5/5 [==============================] - 0s 4ms/step - loss: 4.5702 - note_output_loss: 2.5706 - length_output_loss: 1.9996\n",
      "Epoch 33/50\n",
      "5/5 [==============================] - 0s 3ms/step - loss: 4.2755 - note_output_loss: 2.4345 - length_output_loss: 1.8410\n",
      "Epoch 34/50\n",
      "5/5 [==============================] - 0s 3ms/step - loss: 4.0151 - note_output_loss: 2.3117 - length_output_loss: 1.7034\n",
      "Epoch 35/50\n",
      "5/5 [==============================] - 0s 3ms/step - loss: 3.7932 - note_output_loss: 2.2034 - length_output_loss: 1.5898\n",
      "Epoch 36/50\n",
      "5/5 [==============================] - 0s 5ms/step - loss: 3.6084 - note_output_loss: 2.1107 - length_output_loss: 1.4977\n",
      "Epoch 37/50\n",
      "5/5 [==============================] - 0s 4ms/step - loss: 3.4562 - note_output_loss: 2.0324 - length_output_loss: 1.4237\n",
      "Epoch 38/50\n",
      "5/5 [==============================] - 0s 3ms/step - loss: 3.3327 - note_output_loss: 1.9677 - length_output_loss: 1.3650\n",
      "Epoch 39/50\n",
      "5/5 [==============================] - 0s 3ms/step - loss: 3.2313 - note_output_loss: 1.9135 - length_output_loss: 1.3179\n",
      "Epoch 40/50\n",
      "5/5 [==============================] - 0s 4ms/step - loss: 3.1480 - note_output_loss: 1.8684 - length_output_loss: 1.2796\n",
      "Epoch 41/50\n",
      "5/5 [==============================] - 0s 4ms/step - loss: 3.0779 - note_output_loss: 1.8307 - length_output_loss: 1.2473\n",
      "Epoch 42/50\n",
      "5/5 [==============================] - 0s 4ms/step - loss: 3.0185 - note_output_loss: 1.7990 - length_output_loss: 1.2196\n",
      "Epoch 43/50\n",
      "5/5 [==============================] - 0s 3ms/step - loss: 2.9671 - note_output_loss: 1.7721 - length_output_loss: 1.1950\n",
      "Epoch 44/50\n",
      "5/5 [==============================] - 0s 3ms/step - loss: 2.9217 - note_output_loss: 1.7490 - length_output_loss: 1.1727\n",
      "Epoch 45/50\n",
      "5/5 [==============================] - 0s 6ms/step - loss: 2.8811 - note_output_loss: 1.7289 - length_output_loss: 1.1522\n",
      "Epoch 46/50\n",
      "5/5 [==============================] - 0s 4ms/step - loss: 2.8446 - note_output_loss: 1.7115 - length_output_loss: 1.1331\n",
      "Epoch 47/50\n",
      "5/5 [==============================] - 0s 3ms/step - loss: 2.8112 - note_output_loss: 1.6962 - length_output_loss: 1.1150\n",
      "Epoch 48/50\n",
      "5/5 [==============================] - 0s 3ms/step - loss: 2.7806 - note_output_loss: 1.6827 - length_output_loss: 1.0980\n",
      "Epoch 49/50\n",
      "5/5 [==============================] - 0s 4ms/step - loss: 2.7524 - note_output_loss: 1.6706 - length_output_loss: 1.0818\n",
      "Epoch 50/50\n",
      "5/5 [==============================] - 0s 4ms/step - loss: 2.7262 - note_output_loss: 1.6598 - length_output_loss: 1.0664\n"
     ]
    },
    {
     "data": {
      "text/plain": [
       "<keras.callbacks.History at 0x1a25a217f0>"
      ]
     },
     "execution_count": 24,
     "metadata": {},
     "output_type": "execute_result"
    }
   ],
   "source": [
    "print_callback = LambdaCallback(on_epoch_end=on_epoch_end)\n",
    "\n",
    "model.fit([note_x, length_x], [note_y, length_y],\n",
    "          batch_size=256,\n",
    "          epochs=50,\n",
    "          callbacks=[print_callback]\n",
    "        )"
   ]
  },
  {
   "cell_type": "code",
   "execution_count": 26,
   "metadata": {},
   "outputs": [
    {
     "name": "stdout",
     "output_type": "stream",
     "text": [
      "Saved model to disk\n"
     ]
    }
   ],
   "source": [
    "# serialize model to JSON\n",
    "model_json = model.to_json()\n",
    "with open(\"model.json\", \"w\") as json_file:\n",
    "    json_file.write(model_json)\n",
    "# serialize weights to HDF5\n",
    "model.save_weights(\"model.h5\")\n",
    "print(\"Saved model to disk\")"
   ]
  },
  {
   "cell_type": "code",
   "execution_count": null,
   "metadata": {
    "collapsed": true
   },
   "outputs": [],
   "source": [
    ""
   ]
  },
  {
   "cell_type": "code",
   "execution_count": null,
   "metadata": {
    "collapsed": true
   },
   "outputs": [],
   "source": [
    ""
   ]
  }
 ],
 "metadata": {
  "kernelspec": {
   "display_name": "Python 3",
   "language": "python",
   "name": "python3"
  },
  "language_info": {
   "codemirror_mode": {
    "name": "ipython",
    "version": 3.0
   },
   "file_extension": ".py",
   "mimetype": "text/x-python",
   "name": "python",
   "nbconvert_exporter": "python",
   "pygments_lexer": "ipython3",
   "version": "3.6.4"
  }
 },
 "nbformat": 4,
 "nbformat_minor": 0
}