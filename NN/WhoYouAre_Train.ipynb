{
 "cells": [
  {
   "cell_type": "markdown",
   "metadata": {},
   "source": [
    "## Import dependent libraries"
   ]
  },
  {
   "cell_type": "code",
   "execution_count": 1,
   "metadata": {},
   "outputs": [
    {
     "name": "stderr",
     "output_type": "stream",
     "text": [
      "Using TensorFlow backend.\n"
     ]
    }
   ],
   "source": [
    "from pandas import read_csv\n",
    "from matplotlib import pyplot\n",
    "import math\n",
    "from numpy import concatenate, array\n",
    "from pandas import DataFrame\n",
    "from pandas import concat\n",
    "from keras import optimizers\n",
    "from sklearn.preprocessing import MinMaxScaler\n",
    "from sklearn.preprocessing import LabelEncoder\n",
    "from sklearn.metrics import mean_squared_error\n",
    "from keras.models import Model, model_from_json\n",
    "from keras.layers import Input\n",
    "from keras.layers import Dense, Dropout, BatchNormalization\n",
    "from keras.layers.recurrent import LSTM\n",
    "from keras.utils import to_categorical\n",
    "from keras.models import model_from_json\n",
    "from keras.layers.core import Activation\n",
    "from keras.callbacks import ReduceLROnPlateau\n",
    "from keras.utils import plot_model\n",
    "from sklearn.externals import joblib"
   ]
  },
  {
   "cell_type": "markdown",
   "metadata": {},
   "source": [
    "## Load dataset"
   ]
  },
  {
   "cell_type": "code",
   "execution_count": 2,
   "metadata": {},
   "outputs": [
    {
     "name": "stdout",
     "output_type": "stream",
     "text": [
      "[25456]\n"
     ]
    }
   ],
   "source": [
    "dataset = read_csv('music_data.csv', header=0, index_col=0)\n",
    "values = dataset.values\n",
    "print(values[0])"
   ]
  },
  {
   "cell_type": "markdown",
   "metadata": {},
   "source": [
    "## Specify columns to plot"
   ]
  },
  {
   "cell_type": "code",
   "execution_count": 3,
   "metadata": {},
   "outputs": [
    {
     "data": {
      "image/png": "[encoded data removed]",
      "text/plain": [
       "<matplotlib.figure.Figure at 0x1c197925c0>"
      ]
     },
     "metadata": {},
     "output_type": "display_data"
    }
   ],
   "source": [
    "groups = [-1, 0]\n",
    "i = 1\n",
    "# plot each column\n",
    "pyplot.figure()\n",
    "for group in groups:\n",
    "    pyplot.subplot(len(groups), 1, i)\n",
    "    pyplot.plot(values[:, group])\n",
    "    pyplot.title(dataset.columns[group], y=0.5, loc='right')\n",
    "    i += 1\n",
    "\n",
    "\n",
    "pyplot.show()"
   ]
  },
  {
   "cell_type": "markdown",
   "metadata": {
    "collapsed": true
   },
   "source": [
    "## Convert series to supervised learning"
   ]
  },
  {
   "cell_type": "code",
   "execution_count": 4,
   "metadata": {
    "collapsed": true
   },
   "outputs": [],
   "source": [
    "def series_to_supervised(data, n_in=1, n_out=1, dropnan=True):\n",
    "    n_vars = 1 if type(data) is list else data.shape[1]\n",
    "    df = DataFrame(data)\n",
    "    cols, names = list(), list()\n",
    "    # input sequence (t-n, ... t-1)\n",
    "    for i in range(n_in, 0, -1):\n",
    "        cols.append(df.shift(i))\n",
    "        names += [('var%d(t-%d)' % (j + 1, i)) for j in range(n_vars)]\n",
    "    # forecast sequence (t, t+1, ... t+n)\n",
    "    for i in range(0, n_out):\n",
    "        cols.append(df.shift(-i))\n",
    "        if i == 0:\n",
    "            names += [('var%d(t)' % (j + 1)) for j in range(n_vars)]\n",
    "        else:\n",
    "            names += [('var%d(t+%d)' % (j + 1, i)) for j in range(n_vars)]\n",
    "    # put it all together\n",
    "    agg = concat(cols, axis=1)\n",
    "    agg.columns = names\n",
    "    # drop rows with NaN values\n",
    "    if dropnan:\n",
    "        agg.dropna(inplace=True)\n",
    "    return agg"
   ]
  },
  {
   "cell_type": "code",
   "execution_count": 5,
   "metadata": {
    "collapsed": true
   },
   "outputs": [],
   "source": [
    "dataset = read_csv('music_data.csv', header=0)\n",
    "values = dataset.values\n",
    "values = values.astype('float32')"
   ]
  },
  {
   "cell_type": "markdown",
   "metadata": {},
   "source": [
    "## Scale Data"
   ]
  },
  {
   "cell_type": "code",
   "execution_count": 6,
   "metadata": {},
   "outputs": [
    {
     "name": "stdout",
     "output_type": "stream",
     "text": [
      "Saved scaler to disk.\n"
     ]
    }
   ],
   "source": [
    "scaler = MinMaxScaler(feature_range=(0, 1))\n",
    "scaled = scaler.fit_transform(values)\n",
    "\n",
    "joblib.dump(scaler, 'scaler.pkl')\n",
    "print('Saved scaler to disk.')\n",
    "# frame as supervised learning"
   ]
  },
  {
   "cell_type": "code",
   "execution_count": 7,
   "metadata": {
    "collapsed": true
   },
   "outputs": [],
   "source": [
    "# specify the number of lag hours\n",
    "n_hours = 100\n",
    "n_features = 2\n",
    "# frame as supervised learning\n",
    "reframed = series_to_supervised(scaled, n_hours, 1)"
   ]
  },
  {
   "cell_type": "code",
   "execution_count": 8,
   "metadata": {
    "collapsed": true
   },
   "outputs": [],
   "source": [
    "values = reframed.values\n",
    "n_train_hours = 9000\n",
    "train = values[:n_train_hours, :]\n",
    "test = values[n_train_hours:, :]\n",
    "# split into input and outputs\n",
    "n_obs = n_hours * n_features"
   ]
  },
  {
   "cell_type": "code",
   "execution_count": 9,
   "metadata": {},
   "outputs": [
    {
     "name": "stdout",
     "output_type": "stream",
     "text": [
      "(9000, 100, 2) (9000,) (3146, 100, 2) (3146,)\n"
     ]
    }
   ],
   "source": [
    "train_X, train_y_notes = train[:, :n_obs], train[:, -n_features]\n",
    "train_y_length = train[:, -n_features -1]\n",
    "\n",
    "test_X, test_y_notes = test[:, :n_obs], test[:, -n_features]\n",
    "test_y_length = test[:, -n_features -1]\n",
    "# reshape input to be 3D [samples, timesteps, features]\n",
    "train_X = train_X.reshape((train_X.shape[0], n_hours, n_features))\n",
    "test_X = test_X.reshape((test_X.shape[0], n_hours, n_features))\n",
    "print(train_X.shape, train_y_notes.shape, test_X.shape, test_y_notes.shape)"
   ]
  },
  {
   "cell_type": "code",
   "execution_count": 10,
   "metadata": {
    "collapsed": true
   },
   "outputs": [],
   "source": [
    "visible = Input(name='input_main', shape=(train_X.shape[1], train_X.shape[2]))\n",
    "hidden1 = LSTM(256, return_sequences=True)(visible)\n",
    "batchNorm1 = BatchNormalization()(hidden1)\n",
    "dropout1 = Dropout(0.5)(batchNorm1)\n",
    "\n",
    "hidden2 = LSTM(256, return_sequences=True)(dropout1)\n",
    "batchNorm2 = BatchNormalization()(hidden2)\n",
    "dropout2 = Dropout(0.5)(batchNorm2)\n",
    "\n",
    "hidden3 = LSTM(256, return_sequences=True)(dropout2)\n",
    "batchNorm3 = BatchNormalization()(hidden3)\n",
    "dropout3 = Dropout(0.5)(batchNorm3)\n",
    "\n",
    "# hidden4 = LSTM(256, return_sequences=True)(dropout3)\n",
    "# batchNorm4 = BatchNormalization()(hidden4)\n",
    "# dropout4 = Dropout(0.5)(batchNorm4)\n",
    "\n",
    "# hidden5 = LSTM(128, return_sequences=True)(dropout4)\n",
    "# batchNorm5 = BatchNormalization()(hidden5)\n",
    "# dropout5 = Dropout(0.5)(batchNorm5)\n",
    "\n",
    "# hidden6 = LSTM(128, return_sequences=True)(dropout5)\n",
    "# batchNorm6 = BatchNormalization()(hidden6)\n",
    "# dropout6 = Dropout(0.5)(batchNorm6)\n",
    "\n",
    "hidden11 = LSTM(256)(dropout3)\n",
    "\n",
    "# lstm_notes1 = LSTM(128)(hidden11)\n",
    "output_notes = Dense(1, activation='sigmoid', name='output_notes')(hidden11)\n",
    "\n",
    "# lstm_length1 = LSTM(128)(hidden11)\n",
    "output_length = Dense(1, activation='sigmoid', name='output_length')(hidden11)\n",
    "\n",
    "model = Model(inputs=[visible], outputs=[output_notes, output_length])"
   ]
  },
  {
   "cell_type": "code",
   "execution_count": 11,
   "metadata": {},
   "outputs": [
    {
     "name": "stdout",
     "output_type": "stream",
     "text": [
      "____________________________________________________________________________________________________\n",
      "Layer (type)                     Output Shape          Param #     Connected to                     \n",
      "====================================================================================================\n",
      "input_main (InputLayer)          (None, 100, 2)        0                                            \n",
      "____________________________________________________________________________________________________\n",
      "lstm_1 (LSTM)                    (None, 100, 256)      265216      input_main[0][0]                 \n",
      "____________________________________________________________________________________________________\n",
      "batch_normalization_1 (BatchNorm (None, 100, 256)      1024        lstm_1[0][0]                     \n",
      "____________________________________________________________________________________________________\n",
      "dropout_1 (Dropout)              (None, 100, 256)      0           batch_normalization_1[0][0]      \n",
      "____________________________________________________________________________________________________\n",
      "lstm_2 (LSTM)                    (None, 100, 256)      525312      dropout_1[0][0]                  \n",
      "____________________________________________________________________________________________________\n",
      "batch_normalization_2 (BatchNorm (None, 100, 256)      1024        lstm_2[0][0]                     \n",
      "____________________________________________________________________________________________________\n",
      "dropout_2 (Dropout)              (None, 100, 256)      0           batch_normalization_2[0][0]      \n",
      "____________________________________________________________________________________________________\n",
      "lstm_3 (LSTM)                    (None, 100, 256)      525312      dropout_2[0][0]                  \n",
      "____________________________________________________________________________________________________\n",
      "batch_normalization_3 (BatchNorm (None, 100, 256)      1024        lstm_3[0][0]                     \n",
      "____________________________________________________________________________________________________\n",
      "dropout_3 (Dropout)              (None, 100, 256)      0           batch_normalization_3[0][0]      \n",
      "____________________________________________________________________________________________________\n",
      "lstm_4 (LSTM)                    (None, 256)           525312      dropout_3[0][0]                  \n",
      "____________________________________________________________________________________________________\n",
      "output_notes (Dense)             (None, 1)             257         lstm_4[0][0]                     \n",
      "____________________________________________________________________________________________________\n",
      "output_length (Dense)            (None, 1)             257         lstm_4[0][0]                     \n",
      "====================================================================================================\n",
      "Total params: 1,844,738\n",
      "Trainable params: 1,843,202\n",
      "Non-trainable params: 1,536\n",
      "____________________________________________________________________________________________________\n"
     ]
    }
   ],
   "source": [
    "reduce_lr = ReduceLROnPlateau(monitor='val_loss', factor=0.2,\n",
    "                              patience=5, min_lr=0.0001)\n",
    "\n",
    "callback_list = [reduce_lr]\n",
    "\n",
    "optimizer = optimizers.Adam(lr=0.0001, beta_1=0.9, beta_2=0.999, epsilon=1e-08, decay=0.0)\n",
    "model.compile(loss='mae', optimizer=optimizer)\n",
    "model.summary()"
   ]
  },
  {
   "cell_type": "code",
   "execution_count": 12,
   "metadata": {
    "scrolled": true
   },
   "outputs": [
    {
     "name": "stdout",
     "output_type": "stream",
     "text": [
      "Train on 9000 samples, validate on 3146 samples\n",
      "Epoch 1/25\n",
      "701s - loss: 0.3010 - output_notes_loss: 0.1687 - output_length_loss: 0.1323 - val_loss: 0.5591 - val_output_notes_loss: 0.1642 - val_output_length_loss: 0.3949\n",
      "Epoch 2/25\n",
      "626s - loss: 0.2094 - output_notes_loss: 0.1562 - output_length_loss: 0.0532 - val_loss: 0.5393 - val_output_notes_loss: 0.1585 - val_output_length_loss: 0.3808\n",
      "Epoch 3/25\n",
      "581s - loss: 0.2071 - output_notes_loss: 0.1537 - output_length_loss: 0.0533 - val_loss: 0.4985 - val_output_notes_loss: 0.1520 - val_output_length_loss: 0.3465\n",
      "Epoch 4/25\n",
      "579s - loss: 0.2039 - output_notes_loss: 0.1519 - output_length_loss: 0.0521 - val_loss: 0.4358 - val_output_notes_loss: 0.1446 - val_output_length_loss: 0.2912\n",
      "Epoch 5/25\n",
      "577s - loss: 0.2029 - output_notes_loss: 0.1507 - output_length_loss: 0.0521 - val_loss: 0.3755 - val_output_notes_loss: 0.1378 - val_output_length_loss: 0.2377\n",
      "Epoch 6/25\n",
      "576s - loss: 0.2016 - output_notes_loss: 0.1499 - output_length_loss: 0.0517 - val_loss: 0.3140 - val_output_notes_loss: 0.1316 - val_output_length_loss: 0.1824\n",
      "Epoch 7/25\n",
      "578s - loss: 0.2010 - output_notes_loss: 0.1493 - output_length_loss: 0.0517 - val_loss: 0.2695 - val_output_notes_loss: 0.1300 - val_output_length_loss: 0.1395\n",
      "Epoch 8/25\n",
      "564s - loss: 0.2001 - output_notes_loss: 0.1488 - output_length_loss: 0.0513 - val_loss: 0.2288 - val_output_notes_loss: 0.1302 - val_output_length_loss: 0.0986\n",
      "Epoch 9/25\n",
      "564s - loss: 0.1997 - output_notes_loss: 0.1486 - output_length_loss: 0.0511 - val_loss: 0.2123 - val_output_notes_loss: 0.1315 - val_output_length_loss: 0.0808\n",
      "Epoch 10/25\n",
      "566s - loss: 0.1991 - output_notes_loss: 0.1482 - output_length_loss: 0.0509 - val_loss: 0.1947 - val_output_notes_loss: 0.1342 - val_output_length_loss: 0.0605\n",
      "Epoch 11/25\n",
      "566s - loss: 0.1990 - output_notes_loss: 0.1481 - output_length_loss: 0.0509 - val_loss: 0.1879 - val_output_notes_loss: 0.1351 - val_output_length_loss: 0.0528\n",
      "Epoch 12/25\n",
      "565s - loss: 0.1985 - output_notes_loss: 0.1480 - output_length_loss: 0.0505 - val_loss: 0.1823 - val_output_notes_loss: 0.1338 - val_output_length_loss: 0.0485\n",
      "Epoch 13/25\n",
      "565s - loss: 0.1987 - output_notes_loss: 0.1482 - output_length_loss: 0.0505 - val_loss: 0.1803 - val_output_notes_loss: 0.1346 - val_output_length_loss: 0.0457\n",
      "Epoch 14/25\n",
      "562s - loss: 0.1980 - output_notes_loss: 0.1477 - output_length_loss: 0.0503 - val_loss: 0.1763 - val_output_notes_loss: 0.1330 - val_output_length_loss: 0.0433\n",
      "Epoch 15/25\n",
      "564s - loss: 0.1974 - output_notes_loss: 0.1473 - output_length_loss: 0.0501 - val_loss: 0.1747 - val_output_notes_loss: 0.1318 - val_output_length_loss: 0.0429\n",
      "Epoch 16/25\n",
      "561s - loss: 0.1969 - output_notes_loss: 0.1469 - output_length_loss: 0.0500 - val_loss: 0.1745 - val_output_notes_loss: 0.1309 - val_output_length_loss: 0.0437\n",
      "Epoch 17/25\n",
      "570s - loss: 0.1968 - output_notes_loss: 0.1468 - output_length_loss: 0.0500 - val_loss: 0.1721 - val_output_notes_loss: 0.1293 - val_output_length_loss: 0.0428\n",
      "Epoch 18/25\n",
      "562s - loss: 0.1959 - output_notes_loss: 0.1464 - output_length_loss: 0.0496 - val_loss: 0.1735 - val_output_notes_loss: 0.1304 - val_output_length_loss: 0.0431\n",
      "Epoch 19/25\n",
      "566s - loss: 0.1959 - output_notes_loss: 0.1462 - output_length_loss: 0.0497 - val_loss: 0.1734 - val_output_notes_loss: 0.1302 - val_output_length_loss: 0.0432\n",
      "Epoch 20/25\n",
      "564s - loss: 0.1960 - output_notes_loss: 0.1465 - output_length_loss: 0.0495 - val_loss: 0.1732 - val_output_notes_loss: 0.1303 - val_output_length_loss: 0.0429\n",
      "Epoch 21/25\n",
      "571s - loss: 0.1950 - output_notes_loss: 0.1456 - output_length_loss: 0.0494 - val_loss: 0.1729 - val_output_notes_loss: 0.1299 - val_output_length_loss: 0.0429\n",
      "Epoch 22/25\n",
      "565s - loss: 0.1947 - output_notes_loss: 0.1454 - output_length_loss: 0.0493 - val_loss: 0.1722 - val_output_notes_loss: 0.1295 - val_output_length_loss: 0.0427\n",
      "Epoch 23/25\n",
      "565s - loss: 0.1950 - output_notes_loss: 0.1456 - output_length_loss: 0.0493 - val_loss: 0.1724 - val_output_notes_loss: 0.1295 - val_output_length_loss: 0.0429\n",
      "Epoch 24/25\n",
      "568s - loss: 0.1950 - output_notes_loss: 0.1458 - output_length_loss: 0.0492 - val_loss: 0.1729 - val_output_notes_loss: 0.1302 - val_output_length_loss: 0.0428\n",
      "Epoch 25/25\n",
      "568s - loss: 0.1944 - output_notes_loss: 0.1454 - output_length_loss: 0.0490 - val_loss: 0.1722 - val_output_notes_loss: 0.1293 - val_output_length_loss: 0.0430\n"
     ]
    }
   ],
   "source": [
    "history = model.fit(\n",
    "            {'input_main': train_X},\n",
    "            {'output_notes': train_y_notes, 'output_length': train_y_length},\n",
    "            validation_data=({'input_main': test_X},\n",
    "                             {'output_notes': test_y_notes, 'output_length': test_y_length}), \n",
    "            verbose=2,\n",
    "            shuffle=False,\n",
    "            epochs=25, \n",
    "            batch_size=256)"
   ]
  },
  {
   "cell_type": "code",
   "execution_count": 13,
   "metadata": {},
   "outputs": [
    {
     "name": "stdout",
     "output_type": "stream",
     "text": [
      "Saved model to disk\n"
     ]
    }
   ],
   "source": [
    "# serialize model to JSON\n",
    "model_json = model.to_json()\n",
    "with open(\"model.json\", \"w\") as json_file:\n",
    "    json_file.write(model_json)\n",
    "# serialize weights to HDF5\n",
    "model.save_weights(\"model.h5\")\n",
    "print(\"Saved model to disk\")"
   ]
  },
  {
   "cell_type": "code",
   "execution_count": 14,
   "metadata": {},
   "outputs": [
    {
     "data": {
      "image/png": "[encoded data removed]",
      "text/plain": [
       "<matplotlib.figure.Figure at 0x1c1ee78c18>"
      ]
     },
     "metadata": {},
     "output_type": "display_data"
    }
   ],
   "source": [
    "# plot history\n",
    "pyplot.plot(history.history['loss'], label='train')\n",
    "pyplot.plot(history.history['val_loss'], label='test')\n",
    "pyplot.legend()\n",
    "pyplot.show()"
   ]
  },
  {
   "cell_type": "code",
   "execution_count": null,
   "metadata": {
    "collapsed": true
   },
   "outputs": [],
   "source": [
    ""
   ]
  },
  {
   "cell_type": "code",
   "execution_count": null,
   "metadata": {
    "collapsed": true
   },
   "outputs": [],
   "source": [
    ""
   ]
  },
  {
   "cell_type": "markdown",
   "metadata": {
    "collapsed": true
   },
   "source": [
    "###### "
   ]
  }
 ],
 "metadata": {
  "kernelspec": {
   "display_name": "Python 3",
   "language": "python",
   "name": "python3"
  },
  "language_info": {
   "codemirror_mode": {
    "name": "ipython",
    "version": 3.0
   },
   "file_extension": ".py",
   "mimetype": "text/x-python",
   "name": "python",
   "nbconvert_exporter": "python",
   "pygments_lexer": "ipython3",
   "version": "3.6.3"
  }
 },
 "nbformat": 4,
 "nbformat_minor": 0
}
