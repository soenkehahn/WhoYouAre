{
 "cells": [
  {
   "cell_type": "markdown",
   "metadata": {},
   "source": [
    "## Import dependent libraries"
   ]
  },
  {
   "cell_type": "code",
   "execution_count": 1,
   "metadata": {},
   "outputs": [
    {
     "name": "stderr",
     "output_type": "stream",
     "text": [
      "Using TensorFlow backend.\n"
     ]
    }
   ],
   "source": [
    "import time\n",
    "import os\n",
    "import sys\n",
    "import math\n",
    "import random\n",
    "from numpy import concatenate, array, asarray\n",
    "\n",
    "from pandas import read_csv\n",
    "from pandas import DataFrame\n",
    "from pandas import concat\n",
    "\n",
    "from sklearn.preprocessing import MinMaxScaler\n",
    "from sklearn.preprocessing import LabelEncoder\n",
    "from sklearn.metrics import mean_squared_error\n",
    "\n",
    "from matplotlib import pyplot\n",
    "from IPython.display import SVG\n",
    "import pydot\n",
    "import graphviz\n",
    "\n",
    "import tensorflow as tf\n",
    "\n",
    "import keras\n",
    "import keras.backend as K\n",
    "\n",
    "from keras import optimizers\n",
    "from keras.models import Model, model_from_json\n",
    "from keras.layers import Input, Dense, Dropout, BatchNormalization\n",
    "from keras.layers.recurrent import LSTM\n",
    "from keras.utils import to_categorical\n",
    "from keras.models import model_from_json\n",
    "from keras.layers.core import Activation\n",
    "from keras.callbacks import ReduceLROnPlateau, LambdaCallback\n",
    "from keras.utils import plot_model\n",
    "from sklearn.externals import joblib\n",
    "\n",
    "from keras.utils.vis_utils import model_to_dot\n",
    "\n",
    "from TimeSeriesModel import TimeSeriesModel\n",
    "from MidiPlayer import MidiPlayer"
   ]
  },
  {
   "cell_type": "markdown",
   "metadata": {},
   "source": [
    "## Parameters"
   ]
  },
  {
   "cell_type": "code",
   "execution_count": 2,
   "metadata": {
    "collapsed": true
   },
   "outputs": [],
   "source": [
    "# specify the number of lag hours\n",
    "n_hours = 64\n",
    "n_features = 2\n",
    "n_train_hours = None\n",
    "n_divisions = 4\n",
    "batch_size = n_hours\n",
    "epochs = 100"
   ]
  },
  {
   "cell_type": "markdown",
   "metadata": {},
   "source": [
    "## Load dataset"
   ]
  },
  {
   "cell_type": "code",
   "execution_count": 3,
   "metadata": {
    "collapsed": true
   },
   "outputs": [],
   "source": [
    "dataset = read_csv('music_data.csv', header=0)\n",
    "values = dataset.values\n",
    "values = values.astype('float32')"
   ]
  },
  {
   "cell_type": "markdown",
   "metadata": {},
   "source": [
    "## Specify columns to plot"
   ]
  },
  {
   "cell_type": "code",
   "execution_count": 4,
   "metadata": {},
   "outputs": [
    {
     "data": {
      "image/png": "[encoded data removed]",
      "text/plain": [
       "<matplotlib.figure.Figure at 0x1032b6470>"
      ]
     },
     "metadata": {},
     "output_type": "display_data"
    }
   ],
   "source": [
    "groups = [0, 1]\n",
    "i = 1\n",
    "# plot each column\n",
    "pyplot.figure()\n",
    "for group in groups:\n",
    "    pyplot.subplot(len(groups), 1, i)\n",
    "    pyplot.plot(values[:, group])\n",
    "    pyplot.title(dataset.columns[group], y=0.5, loc='right')\n",
    "    i += 1\n",
    "\n",
    "\n",
    "pyplot.show()"
   ]
  },
  {
   "cell_type": "markdown",
   "metadata": {
    "collapsed": true
   },
   "source": [
    "## Convert series to supervised learning"
   ]
  },
  {
   "cell_type": "code",
   "execution_count": 5,
   "metadata": {
    "collapsed": true
   },
   "outputs": [],
   "source": [
    "dataset = read_csv('music_data.csv', header=1)\n",
    "n_train_hours = int(len(dataset) * 0.75)\n",
    "values = dataset.values\n",
    "values = values.astype('float32')"
   ]
  },
  {
   "cell_type": "code",
   "execution_count": 6,
   "metadata": {
    "collapsed": true
   },
   "outputs": [],
   "source": [
    "def series_to_supervised(data, n_in=1, n_out=1, dropnan=True):\n",
    "    start = time.time()\n",
    "    n_vars = 1 if type(data) is list else data.shape[1]\n",
    "    df = DataFrame(data)\n",
    "    cols, names = list(), list()\n",
    "    # input sequence (t-n, ... t-1)\n",
    "    for i in range(n_in, 0, -1):\n",
    "        cols.append(df.shift(i))\n",
    "        names += [('var%d(t-%d)' % (j + 1, i)) for j in range(n_vars)]\n",
    "    # forecast sequence (t, t+1, ... t+n)\n",
    "    for i in range(0, n_out):\n",
    "        cols.append(df.shift(-i))\n",
    "        if i == 0:\n",
    "            names += [('var%d(t)' % (j + 1)) for j in range(n_vars)]\n",
    "        else:\n",
    "            names += [('var%d(t+%d)' % (j + 1, i)) for j in range(n_vars)]\n",
    "    # put it all together\n",
    "    agg = concat(cols, axis=1)\n",
    "    agg.columns = names\n",
    "    # drop rows with NaN values\n",
    "    if dropnan:\n",
    "        agg.dropna(inplace=True)\n",
    "    end = time.time()\n",
    "    print(end - start)\n",
    "    return agg"
   ]
  },
  {
   "cell_type": "code",
   "execution_count": null,
   "metadata": {
    "collapsed": true
   },
   "outputs": [],
   "source": []
  },
  {
   "cell_type": "markdown",
   "metadata": {},
   "source": [
    "## Scale Data"
   ]
  },
  {
   "cell_type": "code",
   "execution_count": 7,
   "metadata": {
    "scrolled": false
   },
   "outputs": [
    {
     "name": "stdout",
     "output_type": "stream",
     "text": [
      "[[ 0.45454544  1.        ]]\n"
     ]
    }
   ],
   "source": [
    "scaler = MinMaxScaler(feature_range=(0, 1))\n",
    "scaler.fit(values)\n",
    "scaled = scaler.transform(values)\n",
    "print(scaled[20:21])\n"
   ]
  },
  {
   "cell_type": "code",
   "execution_count": 8,
   "metadata": {},
   "outputs": [
    {
     "name": "stdout",
     "output_type": "stream",
     "text": [
      "0.04209589958190918\n"
     ]
    }
   ],
   "source": [
    "# frame as supervised learning\n",
    "reframed = series_to_supervised(scaled, n_hours, 1)"
   ]
  },
  {
   "cell_type": "code",
   "execution_count": 9,
   "metadata": {
    "collapsed": true
   },
   "outputs": [],
   "source": [
    "values = reframed.values\n",
    "train = values[:n_train_hours, :]\n",
    "test = values[n_train_hours:, :]\n",
    "# split into input and outputs\n",
    "n_obs = n_hours * n_features"
   ]
  },
  {
   "cell_type": "code",
   "execution_count": null,
   "metadata": {
    "collapsed": true
   },
   "outputs": [],
   "source": []
  },
  {
   "cell_type": "code",
   "execution_count": 10,
   "metadata": {},
   "outputs": [
    {
     "name": "stdout",
     "output_type": "stream",
     "text": [
      "(5521, 64, 2) (5521,) (1777, 64, 2) (1777,)\n",
      "(1, 64, 2)\n"
     ]
    }
   ],
   "source": [
    "train_X = train[:, :n_obs]\n",
    "# print(train_X)\n",
    "\n",
    "train_y_notes = train[:, -n_features]\n",
    "train_y_volume = train[:, -n_features -1]\n",
    "\n",
    "test_X = test[:, :n_obs]\n",
    "# print(test_X)\n",
    "test_y_notes = test[:, -n_features]\n",
    "test_y_volume = test[:, -n_features -1]\n",
    "\n",
    "# reshape input to be 3D [samples, timesteps, features]\n",
    "train_X = train_X.reshape((train_X.shape[0], n_hours, n_features))\n",
    "# print(train_X[0:10])\n",
    "\n",
    "test_X = test_X.reshape((test_X.shape[0], n_hours, n_features))\n",
    "print(train_X.shape, train_y_notes.shape, test_X.shape, test_y_notes.shape)\n",
    "print(test_X[0:1].shape)\n"
   ]
  },
  {
   "cell_type": "code",
   "execution_count": 11,
   "metadata": {
    "collapsed": true
   },
   "outputs": [],
   "source": [
    "visible = Input(name='input', shape=(n_hours, n_features))\n",
    "ts_model = TimeSeriesModel(visible, n_hours, n_features, n_divisions)"
   ]
  },
  {
   "cell_type": "code",
   "execution_count": 15,
   "metadata": {},
   "outputs": [
    {
     "name": "stdout",
     "output_type": "stream",
     "text": [
      "Tensor(\"input:0\", shape=(?, 64, 2), dtype=float32)\n",
      "num 0\n",
      "0 16\n",
      "Tensor(\"lstm_11/transpose_1:0\", shape=(?, ?, 4), dtype=float32)\n",
      "num 1\n",
      "16 32\n",
      "Tensor(\"lstm_13/transpose_1:0\", shape=(?, ?, 4), dtype=float32)\n",
      "num 2\n",
      "32 48\n",
      "Tensor(\"lstm_15/transpose_1:0\", shape=(?, ?, 4), dtype=float32)\n",
      "num 3\n",
      "48 64\n",
      "Tensor(\"lstm_17/transpose_1:0\", shape=(?, ?, 4), dtype=float32)\n"
     ]
    }
   ],
   "source": [
    "model = ts_model.model()\n",
    "\n",
    "output_notes = Dense(1, activation='sigmoid', name='output_notes')(model)\n",
    "output_volume = Dense(1, activation='sigmoid', name='output_volume')(model)\n",
    "# output_length = Dense(1, activation='sigmoid', name='output_length')(hidden_Z)\n",
    "\n",
    "model = Model(inputs=[visible], outputs=[\n",
    "                                         output_notes, \n",
    "                                         output_volume, \n",
    "#                                          output_length\n",
    "                                        ])"
   ]
  },
  {
   "cell_type": "code",
   "execution_count": 16,
   "metadata": {
    "collapsed": true
   },
   "outputs": [],
   "source": [
    "optimizer = optimizers.Adam(lr=0.0001, beta_1=0.9, beta_2=0.999, epsilon=1e-08, decay=0.0)\n",
    "model.compile(loss='mae', optimizer=optimizer)\n",
    "# model.summary()"
   ]
  },
  {
   "cell_type": "code",
   "execution_count": 17,
   "metadata": {
    "collapsed": true
   },
   "outputs": [],
   "source": [
    "# plot_model(model, to_file='model.png')"
   ]
  },
  {
   "cell_type": "code",
   "execution_count": 18,
   "metadata": {},
   "outputs": [
    {
     "data": {
      "image/svg+xml": [
       "<svg height=\"702pt\" viewBox=\"0.00 0.00 1125.98 702.00\" width=\"1126pt\" xmlns=\"http://www.w3.org/2000/svg\" xmlns:xlink=\"http://www.w3.org/1999/xlink\">\n",
       "<g class=\"graph\" id=\"graph0\" transform=\"scale(1 1) rotate(0) translate(4 698)\">\n",
       "<title>G</title>\n",
       "<polygon fill=\"#ffffff\" points=\"-4,4 -4,-698 1121.9766,-698 1121.9766,4 -4,4\" stroke=\"transparent\"/>\n",
       "<!-- 4303422072 -->\n",
       "<g class=\"node\" id=\"node1\">\n",
       "<title>4303422072</title>\n",
       "<polygon fill=\"none\" points=\"483.8071,-657.5 483.8071,-693.5 598.1694,-693.5 598.1694,-657.5 483.8071,-657.5\" stroke=\"#000000\"/>\n",
       "<text fill=\"#000000\" font-family=\"Times,serif\" font-size=\"14.00\" text-anchor=\"middle\" x=\"540.9883\" y=\"-671.3\">input: InputLayer</text>\n",
       "</g>\n",
       "<!-- 4348142536 -->\n",
       "<g class=\"node\" id=\"node2\">\n",
       "<title>4348142536</title>\n",
       "<polygon fill=\"none\" points=\"230.7554,-584.5 230.7554,-620.5 355.2212,-620.5 355.2212,-584.5 230.7554,-584.5\" stroke=\"#000000\"/>\n",
       "<text fill=\"#000000\" font-family=\"Times,serif\" font-size=\"14.00\" text-anchor=\"middle\" x=\"292.9883\" y=\"-598.3\">lambda_5: Lambda</text>\n",
       "</g>\n",
       "<!-- 4303422072&#45;&gt;4348142536 -->\n",
       "<g class=\"edge\" id=\"edge1\">\n",
       "<title>4303422072-&gt;4348142536</title>\n",
       "<path d=\"M483.7807,-658.6607C448.1948,-648.1858 402.1479,-634.6317 364.2066,-623.4635\" fill=\"none\" stroke=\"#000000\"/>\n",
       "<polygon fill=\"#000000\" points=\"364.8239,-619.9968 354.2425,-620.5305 362.8473,-626.7119 364.8239,-619.9968\" stroke=\"#000000\"/>\n",
       "</g>\n",
       "<!-- 120617628280 -->\n",
       "<g class=\"node\" id=\"node3\">\n",
       "<title>120617628280</title>\n",
       "<polygon fill=\"none\" points=\"407.7554,-584.5 407.7554,-620.5 532.2212,-620.5 532.2212,-584.5 407.7554,-584.5\" stroke=\"#000000\"/>\n",
       "<text fill=\"#000000\" font-family=\"Times,serif\" font-size=\"14.00\" text-anchor=\"middle\" x=\"469.9883\" y=\"-598.3\">lambda_6: Lambda</text>\n",
       "</g>\n",
       "<!-- 4303422072&#45;&gt;120617628280 -->\n",
       "<g class=\"edge\" id=\"edge2\">\n",
       "<title>4303422072-&gt;120617628280</title>\n",
       "<path d=\"M523.4377,-657.4551C514.7333,-648.5054 504.0751,-637.547 494.5727,-627.7769\" fill=\"none\" stroke=\"#000000\"/>\n",
       "<polygon fill=\"#000000\" points=\"497.0642,-625.3187 487.583,-620.5904 492.0462,-630.1992 497.0642,-625.3187\" stroke=\"#000000\"/>\n",
       "</g>\n",
       "<!-- 120622751304 -->\n",
       "<g class=\"node\" id=\"node4\">\n",
       "<title>120622751304</title>\n",
       "<polygon fill=\"none\" points=\"620.7554,-584.5 620.7554,-620.5 745.2212,-620.5 745.2212,-584.5 620.7554,-584.5\" stroke=\"#000000\"/>\n",
       "<text fill=\"#000000\" font-family=\"Times,serif\" font-size=\"14.00\" text-anchor=\"middle\" x=\"682.9883\" y=\"-598.3\">lambda_7: Lambda</text>\n",
       "</g>\n",
       "<!-- 4303422072&#45;&gt;120622751304 -->\n",
       "<g class=\"edge\" id=\"edge3\">\n",
       "<title>4303422072-&gt;120622751304</title>\n",
       "<path d=\"M576.0894,-657.4551C595.0344,-647.7157 618.6069,-635.5975 638.7918,-625.2207\" fill=\"none\" stroke=\"#000000\"/>\n",
       "<polygon fill=\"#000000\" points=\"640.5054,-628.2752 647.7988,-620.5904 637.305,-622.0497 640.5054,-628.2752\" stroke=\"#000000\"/>\n",
       "</g>\n",
       "<!-- 120628071056 -->\n",
       "<g class=\"node\" id=\"node5\">\n",
       "<title>120628071056</title>\n",
       "<polygon fill=\"none\" points=\"868.7554,-584.5 868.7554,-620.5 993.2212,-620.5 993.2212,-584.5 868.7554,-584.5\" stroke=\"#000000\"/>\n",
       "<text fill=\"#000000\" font-family=\"Times,serif\" font-size=\"14.00\" text-anchor=\"middle\" x=\"930.9883\" y=\"-598.3\">lambda_8: Lambda</text>\n",
       "</g>\n",
       "<!-- 4303422072&#45;&gt;120628071056 -->\n",
       "<g class=\"edge\" id=\"edge4\">\n",
       "<title>4303422072-&gt;120628071056</title>\n",
       "<path d=\"M598.5341,-664.7286C667.6822,-651.7855 783.7488,-630.0602 858.8291,-616.0067\" fill=\"none\" stroke=\"#000000\"/>\n",
       "<polygon fill=\"#000000\" points=\"859.5008,-619.4419 868.6861,-614.1617 858.2129,-612.5614 859.5008,-619.4419\" stroke=\"#000000\"/>\n",
       "</g>\n",
       "<!-- 4302587720 -->\n",
       "<g class=\"node\" id=\"node6\">\n",
       "<title>4302587720</title>\n",
       "<polygon fill=\"none\" points=\"169.0659,-511.5 169.0659,-547.5 274.9106,-547.5 274.9106,-511.5 169.0659,-511.5\" stroke=\"#000000\"/>\n",
       "<text fill=\"#000000\" font-family=\"Times,serif\" font-size=\"14.00\" text-anchor=\"middle\" x=\"221.9883\" y=\"-525.3\">lstm_10: LSTM</text>\n",
       "</g>\n",
       "<!-- 4348142536&#45;&gt;4302587720 -->\n",
       "<g class=\"edge\" id=\"edge5\">\n",
       "<title>4348142536-&gt;4302587720</title>\n",
       "<path d=\"M275.4377,-584.4551C266.7333,-575.5054 256.0751,-564.547 246.5727,-554.7769\" fill=\"none\" stroke=\"#000000\"/>\n",
       "<polygon fill=\"#000000\" points=\"249.0642,-552.3187 239.583,-547.5904 244.0462,-557.1992 249.0642,-552.3187\" stroke=\"#000000\"/>\n",
       "</g>\n",
       "<!-- 120618167264 -->\n",
       "<g class=\"node\" id=\"node7\">\n",
       "<title>120618167264</title>\n",
       "<polygon fill=\"none\" points=\"382.0659,-511.5 382.0659,-547.5 487.9106,-547.5 487.9106,-511.5 382.0659,-511.5\" stroke=\"#000000\"/>\n",
       "<text fill=\"#000000\" font-family=\"Times,serif\" font-size=\"14.00\" text-anchor=\"middle\" x=\"434.9883\" y=\"-525.3\">lstm_12: LSTM</text>\n",
       "</g>\n",
       "<!-- 120617628280&#45;&gt;120618167264 -->\n",
       "<g class=\"edge\" id=\"edge6\">\n",
       "<title>120617628280-&gt;120618167264</title>\n",
       "<path d=\"M461.3366,-584.4551C457.3401,-576.1196 452.5082,-566.0416 448.0793,-556.8042\" fill=\"none\" stroke=\"#000000\"/>\n",
       "<polygon fill=\"#000000\" points=\"451.1411,-555.0944 443.6617,-547.5904 444.8291,-558.1207 451.1411,-555.0944\" stroke=\"#000000\"/>\n",
       "</g>\n",
       "<!-- 120622664952 -->\n",
       "<g class=\"node\" id=\"node8\">\n",
       "<title>120622664952</title>\n",
       "<polygon fill=\"none\" points=\"639.0659,-511.5 639.0659,-547.5 744.9106,-547.5 744.9106,-511.5 639.0659,-511.5\" stroke=\"#000000\"/>\n",
       "<text fill=\"#000000\" font-family=\"Times,serif\" font-size=\"14.00\" text-anchor=\"middle\" x=\"691.9883\" y=\"-525.3\">lstm_14: LSTM</text>\n",
       "</g>\n",
       "<!-- 120622751304&#45;&gt;120622664952 -->\n",
       "<g class=\"edge\" id=\"edge7\">\n",
       "<title>120622751304-&gt;120622664952</title>\n",
       "<path d=\"M685.213,-584.4551C686.2082,-576.3828 687.4049,-566.6764 688.5138,-557.6817\" fill=\"none\" stroke=\"#000000\"/>\n",
       "<polygon fill=\"#000000\" points=\"692.008,-557.9435 689.758,-547.5904 685.0606,-557.0869 692.008,-557.9435\" stroke=\"#000000\"/>\n",
       "</g>\n",
       "<!-- 120628165152 -->\n",
       "<g class=\"node\" id=\"node9\">\n",
       "<title>120628165152</title>\n",
       "<polygon fill=\"none\" points=\"914.0659,-511.5 914.0659,-547.5 1019.9106,-547.5 1019.9106,-511.5 914.0659,-511.5\" stroke=\"#000000\"/>\n",
       "<text fill=\"#000000\" font-family=\"Times,serif\" font-size=\"14.00\" text-anchor=\"middle\" x=\"966.9883\" y=\"-525.3\">lstm_16: LSTM</text>\n",
       "</g>\n",
       "<!-- 120628071056&#45;&gt;120628165152 -->\n",
       "<g class=\"edge\" id=\"edge8\">\n",
       "<title>120628071056-&gt;120628165152</title>\n",
       "<path d=\"M939.8872,-584.4551C943.9978,-576.1196 948.9678,-566.0416 953.5232,-556.8042\" fill=\"none\" stroke=\"#000000\"/>\n",
       "<polygon fill=\"#000000\" points=\"956.7831,-558.1071 958.067,-547.5904 950.505,-555.011 956.7831,-558.1071\" stroke=\"#000000\"/>\n",
       "</g>\n",
       "<!-- 120613372648 -->\n",
       "<g class=\"node\" id=\"node10\">\n",
       "<title>120613372648</title>\n",
       "<polygon fill=\"none\" points=\"0,-438.5 0,-474.5 265.9766,-474.5 265.9766,-438.5 0,-438.5\" stroke=\"#000000\"/>\n",
       "<text fill=\"#000000\" font-family=\"Times,serif\" font-size=\"14.00\" text-anchor=\"middle\" x=\"132.9883\" y=\"-452.3\">batch_normalization_5: BatchNormalization</text>\n",
       "</g>\n",
       "<!-- 4302587720&#45;&gt;120613372648 -->\n",
       "<g class=\"edge\" id=\"edge9\">\n",
       "<title>4302587720-&gt;120613372648</title>\n",
       "<path d=\"M199.9883,-511.4551C188.8631,-502.3299 175.1919,-491.1165 163.1064,-481.2036\" fill=\"none\" stroke=\"#000000\"/>\n",
       "<polygon fill=\"#000000\" points=\"164.9952,-478.2261 155.0437,-474.5904 160.5558,-483.6384 164.9952,-478.2261\" stroke=\"#000000\"/>\n",
       "</g>\n",
       "<!-- 120618485688 -->\n",
       "<g class=\"node\" id=\"node11\">\n",
       "<title>120618485688</title>\n",
       "<polygon fill=\"none\" points=\"284,-438.5 284,-474.5 549.9766,-474.5 549.9766,-438.5 284,-438.5\" stroke=\"#000000\"/>\n",
       "<text fill=\"#000000\" font-family=\"Times,serif\" font-size=\"14.00\" text-anchor=\"middle\" x=\"416.9883\" y=\"-452.3\">batch_normalization_6: BatchNormalization</text>\n",
       "</g>\n",
       "<!-- 120618167264&#45;&gt;120618485688 -->\n",
       "<g class=\"edge\" id=\"edge10\">\n",
       "<title>120618167264-&gt;120618485688</title>\n",
       "<path d=\"M430.5388,-511.4551C428.5268,-503.2951 426.103,-493.4652 423.8649,-484.3887\" fill=\"none\" stroke=\"#000000\"/>\n",
       "<polygon fill=\"#000000\" points=\"427.2413,-483.4616 421.4489,-474.5904 420.4448,-485.1375 427.2413,-483.4616\" stroke=\"#000000\"/>\n",
       "</g>\n",
       "<!-- 120623586608 -->\n",
       "<g class=\"node\" id=\"node12\">\n",
       "<title>120623586608</title>\n",
       "<polygon fill=\"none\" points=\"568,-438.5 568,-474.5 833.9766,-474.5 833.9766,-438.5 568,-438.5\" stroke=\"#000000\"/>\n",
       "<text fill=\"#000000\" font-family=\"Times,serif\" font-size=\"14.00\" text-anchor=\"middle\" x=\"700.9883\" y=\"-452.3\">batch_normalization_7: BatchNormalization</text>\n",
       "</g>\n",
       "<!-- 120622664952&#45;&gt;120623586608 -->\n",
       "<g class=\"edge\" id=\"edge11\">\n",
       "<title>120622664952-&gt;120623586608</title>\n",
       "<path d=\"M694.213,-511.4551C695.2082,-503.3828 696.4049,-493.6764 697.5138,-484.6817\" fill=\"none\" stroke=\"#000000\"/>\n",
       "<polygon fill=\"#000000\" points=\"701.008,-484.9435 698.758,-474.5904 694.0606,-484.0869 701.008,-484.9435\" stroke=\"#000000\"/>\n",
       "</g>\n",
       "<!-- 120629093096 -->\n",
       "<g class=\"node\" id=\"node13\">\n",
       "<title>120629093096</title>\n",
       "<polygon fill=\"none\" points=\"852,-438.5 852,-474.5 1117.9766,-474.5 1117.9766,-438.5 852,-438.5\" stroke=\"#000000\"/>\n",
       "<text fill=\"#000000\" font-family=\"Times,serif\" font-size=\"14.00\" text-anchor=\"middle\" x=\"984.9883\" y=\"-452.3\">batch_normalization_8: BatchNormalization</text>\n",
       "</g>\n",
       "<!-- 120628165152&#45;&gt;120629093096 -->\n",
       "<g class=\"edge\" id=\"edge12\">\n",
       "<title>120628165152-&gt;120629093096</title>\n",
       "<path d=\"M971.4377,-511.4551C973.4498,-503.2951 975.8736,-493.4652 978.1116,-484.3887\" fill=\"none\" stroke=\"#000000\"/>\n",
       "<polygon fill=\"#000000\" points=\"981.5317,-485.1375 980.5276,-474.5904 974.7353,-483.4616 981.5317,-485.1375\" stroke=\"#000000\"/>\n",
       "</g>\n",
       "<!-- 120614714448 -->\n",
       "<g class=\"node\" id=\"node14\">\n",
       "<title>120614714448</title>\n",
       "<polygon fill=\"none\" points=\"172.1865,-365.5 172.1865,-401.5 299.79,-401.5 299.79,-365.5 172.1865,-365.5\" stroke=\"#000000\"/>\n",
       "<text fill=\"#000000\" font-family=\"Times,serif\" font-size=\"14.00\" text-anchor=\"middle\" x=\"235.9883\" y=\"-379.3\">dropout_5: Dropout</text>\n",
       "</g>\n",
       "<!-- 120613372648&#45;&gt;120614714448 -->\n",
       "<g class=\"edge\" id=\"edge13\">\n",
       "<title>120613372648-&gt;120614714448</title>\n",
       "<path d=\"M158.449,-438.4551C171.5717,-429.1545 187.7555,-417.6844 201.9373,-407.6332\" fill=\"none\" stroke=\"#000000\"/>\n",
       "<polygon fill=\"#000000\" points=\"204.3287,-410.2283 210.4635,-401.5904 200.281,-404.5172 204.3287,-410.2283\" stroke=\"#000000\"/>\n",
       "</g>\n",
       "<!-- 120620440320 -->\n",
       "<g class=\"node\" id=\"node15\">\n",
       "<title>120620440320</title>\n",
       "<polygon fill=\"none\" points=\"387.1865,-365.5 387.1865,-401.5 514.79,-401.5 514.79,-365.5 387.1865,-365.5\" stroke=\"#000000\"/>\n",
       "<text fill=\"#000000\" font-family=\"Times,serif\" font-size=\"14.00\" text-anchor=\"middle\" x=\"450.9883\" y=\"-379.3\">dropout_6: Dropout</text>\n",
       "</g>\n",
       "<!-- 120618485688&#45;&gt;120620440320 -->\n",
       "<g class=\"edge\" id=\"edge14\">\n",
       "<title>120618485688-&gt;120620440320</title>\n",
       "<path d=\"M425.3928,-438.4551C429.275,-430.1196 433.9689,-420.0416 438.2713,-410.8042\" fill=\"none\" stroke=\"#000000\"/>\n",
       "<polygon fill=\"#000000\" points=\"441.5133,-412.1331 442.5626,-401.5904 435.1678,-409.1776 441.5133,-412.1331\" stroke=\"#000000\"/>\n",
       "</g>\n",
       "<!-- 120625749688 -->\n",
       "<g class=\"node\" id=\"node16\">\n",
       "<title>120625749688</title>\n",
       "<polygon fill=\"none\" points=\"602.1865,-365.5 602.1865,-401.5 729.79,-401.5 729.79,-365.5 602.1865,-365.5\" stroke=\"#000000\"/>\n",
       "<text fill=\"#000000\" font-family=\"Times,serif\" font-size=\"14.00\" text-anchor=\"middle\" x=\"665.9883\" y=\"-379.3\">dropout_7: Dropout</text>\n",
       "</g>\n",
       "<!-- 120623586608&#45;&gt;120625749688 -->\n",
       "<g class=\"edge\" id=\"edge15\">\n",
       "<title>120623586608-&gt;120625749688</title>\n",
       "<path d=\"M692.3366,-438.4551C688.3401,-430.1196 683.5082,-420.0416 679.0793,-410.8042\" fill=\"none\" stroke=\"#000000\"/>\n",
       "<polygon fill=\"#000000\" points=\"682.1411,-409.0944 674.6617,-401.5904 675.8291,-412.1207 682.1411,-409.0944\" stroke=\"#000000\"/>\n",
       "</g>\n",
       "<!-- 120630439048 -->\n",
       "<g class=\"node\" id=\"node17\">\n",
       "<title>120630439048</title>\n",
       "<polygon fill=\"none\" points=\"851.1865,-365.5 851.1865,-401.5 978.79,-401.5 978.79,-365.5 851.1865,-365.5\" stroke=\"#000000\"/>\n",
       "<text fill=\"#000000\" font-family=\"Times,serif\" font-size=\"14.00\" text-anchor=\"middle\" x=\"914.9883\" y=\"-379.3\">dropout_8: Dropout</text>\n",
       "</g>\n",
       "<!-- 120629093096&#45;&gt;120630439048 -->\n",
       "<g class=\"edge\" id=\"edge16\">\n",
       "<title>120629093096-&gt;120630439048</title>\n",
       "<path d=\"M967.6849,-438.4551C959.1872,-429.5932 948.8008,-418.7616 939.5023,-409.0646\" fill=\"none\" stroke=\"#000000\"/>\n",
       "<polygon fill=\"#000000\" points=\"941.7827,-406.3858 932.3352,-401.5904 936.7302,-411.2306 941.7827,-406.3858\" stroke=\"#000000\"/>\n",
       "</g>\n",
       "<!-- 120614623552 -->\n",
       "<g class=\"node\" id=\"node18\">\n",
       "<title>120614623552</title>\n",
       "<polygon fill=\"none\" points=\"252.3223,-292.5 252.3223,-328.5 357.6543,-328.5 357.6543,-292.5 252.3223,-292.5\" stroke=\"#000000\"/>\n",
       "<text fill=\"#000000\" font-family=\"Times,serif\" font-size=\"14.00\" text-anchor=\"middle\" x=\"304.9883\" y=\"-306.3\">lstm_11: LSTM</text>\n",
       "</g>\n",
       "<!-- 120614714448&#45;&gt;120614623552 -->\n",
       "<g class=\"edge\" id=\"edge17\">\n",
       "<title>120614714448-&gt;120614623552</title>\n",
       "<path d=\"M253.0445,-365.4551C261.4208,-356.5932 271.6588,-345.7616 280.8244,-336.0646\" fill=\"none\" stroke=\"#000000\"/>\n",
       "<polygon fill=\"#000000\" points=\"283.5636,-338.262 287.8892,-328.5904 278.4764,-333.4535 283.5636,-338.262\" stroke=\"#000000\"/>\n",
       "</g>\n",
       "<!-- 120619838880 -->\n",
       "<g class=\"node\" id=\"node19\">\n",
       "<title>120619838880</title>\n",
       "<polygon fill=\"none\" points=\"421.0659,-292.5 421.0659,-328.5 526.9106,-328.5 526.9106,-292.5 421.0659,-292.5\" stroke=\"#000000\"/>\n",
       "<text fill=\"#000000\" font-family=\"Times,serif\" font-size=\"14.00\" text-anchor=\"middle\" x=\"473.9883\" y=\"-306.3\">lstm_13: LSTM</text>\n",
       "</g>\n",
       "<!-- 120620440320&#45;&gt;120619838880 -->\n",
       "<g class=\"edge\" id=\"edge18\">\n",
       "<title>120620440320-&gt;120619838880</title>\n",
       "<path d=\"M456.6737,-365.4551C459.2446,-357.2951 462.3417,-347.4652 465.2014,-338.3887\" fill=\"none\" stroke=\"#000000\"/>\n",
       "<polygon fill=\"#000000\" points=\"468.6217,-339.18 468.2886,-328.5904 461.9452,-337.0764 468.6217,-339.18\" stroke=\"#000000\"/>\n",
       "</g>\n",
       "<!-- 120625018584 -->\n",
       "<g class=\"node\" id=\"node20\">\n",
       "<title>120625018584</title>\n",
       "<polygon fill=\"none\" points=\"590.0659,-292.5 590.0659,-328.5 695.9106,-328.5 695.9106,-292.5 590.0659,-292.5\" stroke=\"#000000\"/>\n",
       "<text fill=\"#000000\" font-family=\"Times,serif\" font-size=\"14.00\" text-anchor=\"middle\" x=\"642.9883\" y=\"-306.3\">lstm_15: LSTM</text>\n",
       "</g>\n",
       "<!-- 120625749688&#45;&gt;120625018584 -->\n",
       "<g class=\"edge\" id=\"edge19\">\n",
       "<title>120625749688-&gt;120625018584</title>\n",
       "<path d=\"M660.3029,-365.4551C657.7319,-357.2951 654.6348,-347.4652 651.7751,-338.3887\" fill=\"none\" stroke=\"#000000\"/>\n",
       "<polygon fill=\"#000000\" points=\"655.0313,-337.0764 648.688,-328.5904 648.3549,-339.18 655.0313,-337.0764\" stroke=\"#000000\"/>\n",
       "</g>\n",
       "<!-- 120630352248 -->\n",
       "<g class=\"node\" id=\"node21\">\n",
       "<title>120630352248</title>\n",
       "<polygon fill=\"none\" points=\"799.0659,-292.5 799.0659,-328.5 904.9106,-328.5 904.9106,-292.5 799.0659,-292.5\" stroke=\"#000000\"/>\n",
       "<text fill=\"#000000\" font-family=\"Times,serif\" font-size=\"14.00\" text-anchor=\"middle\" x=\"851.9883\" y=\"-306.3\">lstm_17: LSTM</text>\n",
       "</g>\n",
       "<!-- 120630439048&#45;&gt;120630352248 -->\n",
       "<g class=\"edge\" id=\"edge20\">\n",
       "<title>120630439048-&gt;120630352248</title>\n",
       "<path d=\"M899.4152,-365.4551C891.843,-356.6809 882.6045,-345.9759 874.2998,-336.353\" fill=\"none\" stroke=\"#000000\"/>\n",
       "<polygon fill=\"#000000\" points=\"876.7837,-333.8742 867.6005,-328.5904 871.4843,-338.4477 876.7837,-333.8742\" stroke=\"#000000\"/>\n",
       "</g>\n",
       "<!-- 120633979512 -->\n",
       "<g class=\"node\" id=\"node22\">\n",
       "<title>120633979512</title>\n",
       "<polygon fill=\"none\" points=\"471.6689,-219.5 471.6689,-255.5 644.3076,-255.5 644.3076,-219.5 471.6689,-219.5\" stroke=\"#000000\"/>\n",
       "<text fill=\"#000000\" font-family=\"Times,serif\" font-size=\"14.00\" text-anchor=\"middle\" x=\"557.9883\" y=\"-233.3\">concatenate_2: Concatenate</text>\n",
       "</g>\n",
       "<!-- 120614623552&#45;&gt;120633979512 -->\n",
       "<g class=\"edge\" id=\"edge21\">\n",
       "<title>120614623552-&gt;120633979512</title>\n",
       "<path d=\"M357.7174,-295.2857C394.8548,-284.5701 445.0313,-270.0923 485.8689,-258.3091\" fill=\"none\" stroke=\"#000000\"/>\n",
       "<polygon fill=\"#000000\" points=\"486.8613,-261.6657 495.499,-255.5305 484.9207,-254.94 486.8613,-261.6657\" stroke=\"#000000\"/>\n",
       "</g>\n",
       "<!-- 120619838880&#45;&gt;120633979512 -->\n",
       "<g class=\"edge\" id=\"edge22\">\n",
       "<title>120619838880-&gt;120633979512</title>\n",
       "<path d=\"M494.7523,-292.4551C505.2525,-283.3299 518.1557,-272.1165 529.5622,-262.2036\" fill=\"none\" stroke=\"#000000\"/>\n",
       "<polygon fill=\"#000000\" points=\"531.9198,-264.7918 537.172,-255.5904 527.3281,-259.5082 531.9198,-264.7918\" stroke=\"#000000\"/>\n",
       "</g>\n",
       "<!-- 120625018584&#45;&gt;120633979512 -->\n",
       "<g class=\"edge\" id=\"edge23\">\n",
       "<title>120625018584-&gt;120633979512</title>\n",
       "<path d=\"M621.977,-292.4551C611.3519,-283.3299 598.2951,-272.1165 586.7528,-262.2036\" fill=\"none\" stroke=\"#000000\"/>\n",
       "<polygon fill=\"#000000\" points=\"588.919,-259.4505 579.0524,-255.5904 584.3583,-264.7609 588.919,-259.4505\" stroke=\"#000000\"/>\n",
       "</g>\n",
       "<!-- 120630352248&#45;&gt;120633979512 -->\n",
       "<g class=\"edge\" id=\"edge24\">\n",
       "<title>120630352248-&gt;120633979512</title>\n",
       "<path d=\"M798.7471,-297.2803C754.6896,-286.3408 691.3476,-270.613 640.6917,-258.0352\" fill=\"none\" stroke=\"#000000\"/>\n",
       "<polygon fill=\"#000000\" points=\"641.2879,-254.577 630.7391,-255.564 639.601,-261.3707 641.2879,-254.577\" stroke=\"#000000\"/>\n",
       "</g>\n",
       "<!-- 120634715944 -->\n",
       "<g class=\"node\" id=\"node23\">\n",
       "<title>120634715944</title>\n",
       "<polygon fill=\"none\" points=\"397.752,-146.5 397.752,-182.5 718.2246,-182.5 718.2246,-146.5 397.752,-146.5\" stroke=\"#000000\"/>\n",
       "<text fill=\"#000000\" font-family=\"Times,serif\" font-size=\"14.00\" text-anchor=\"middle\" x=\"557.9883\" y=\"-160.3\">time_distributed_2(dense_2): TimeDistributed(Dense)</text>\n",
       "</g>\n",
       "<!-- 120633979512&#45;&gt;120634715944 -->\n",
       "<g class=\"edge\" id=\"edge25\">\n",
       "<title>120633979512-&gt;120634715944</title>\n",
       "<path d=\"M557.9883,-219.4551C557.9883,-211.3828 557.9883,-201.6764 557.9883,-192.6817\" fill=\"none\" stroke=\"#000000\"/>\n",
       "<polygon fill=\"#000000\" points=\"561.4884,-192.5903 557.9883,-182.5904 554.4884,-192.5904 561.4884,-192.5903\" stroke=\"#000000\"/>\n",
       "</g>\n",
       "<!-- 120634716056 -->\n",
       "<g class=\"node\" id=\"node24\">\n",
       "<title>120634716056</title>\n",
       "<polygon fill=\"none\" points=\"505.0659,-73.5 505.0659,-109.5 610.9106,-109.5 610.9106,-73.5 505.0659,-73.5\" stroke=\"#000000\"/>\n",
       "<text fill=\"#000000\" font-family=\"Times,serif\" font-size=\"14.00\" text-anchor=\"middle\" x=\"557.9883\" y=\"-87.3\">lstm_18: LSTM</text>\n",
       "</g>\n",
       "<!-- 120634715944&#45;&gt;120634716056 -->\n",
       "<g class=\"edge\" id=\"edge26\">\n",
       "<title>120634715944-&gt;120634716056</title>\n",
       "<path d=\"M557.9883,-146.4551C557.9883,-138.3828 557.9883,-128.6764 557.9883,-119.6817\" fill=\"none\" stroke=\"#000000\"/>\n",
       "<polygon fill=\"#000000\" points=\"561.4884,-119.5903 557.9883,-109.5904 554.4884,-119.5904 561.4884,-119.5903\" stroke=\"#000000\"/>\n",
       "</g>\n",
       "<!-- 120629092872 -->\n",
       "<g class=\"node\" id=\"node25\">\n",
       "<title>120629092872</title>\n",
       "<polygon fill=\"none\" points=\"415.6348,-.5 415.6348,-36.5 546.3418,-36.5 546.3418,-.5 415.6348,-.5\" stroke=\"#000000\"/>\n",
       "<text fill=\"#000000\" font-family=\"Times,serif\" font-size=\"14.00\" text-anchor=\"middle\" x=\"480.9883\" y=\"-14.3\">output_notes: Dense</text>\n",
       "</g>\n",
       "<!-- 120634716056&#45;&gt;120629092872 -->\n",
       "<g class=\"edge\" id=\"edge27\">\n",
       "<title>120634716056-&gt;120629092872</title>\n",
       "<path d=\"M538.9546,-73.4551C529.422,-64.4177 517.7288,-53.3319 507.3475,-43.4899\" fill=\"none\" stroke=\"#000000\"/>\n",
       "<polygon fill=\"#000000\" points=\"509.735,-40.9305 500.0699,-36.5904 504.9189,-46.0104 509.735,-40.9305\" stroke=\"#000000\"/>\n",
       "</g>\n",
       "<!-- 120628163304 -->\n",
       "<g class=\"node\" id=\"node26\">\n",
       "<title>120628163304</title>\n",
       "<polygon fill=\"none\" points=\"564.4141,-.5 564.4141,-36.5 707.5625,-36.5 707.5625,-.5 564.4141,-.5\" stroke=\"#000000\"/>\n",
       "<text fill=\"#000000\" font-family=\"Times,serif\" font-size=\"14.00\" text-anchor=\"middle\" x=\"635.9883\" y=\"-14.3\">output_volume: Dense</text>\n",
       "</g>\n",
       "<!-- 120634716056&#45;&gt;120628163304 -->\n",
       "<g class=\"edge\" id=\"edge28\">\n",
       "<title>120634716056-&gt;120628163304</title>\n",
       "<path d=\"M577.2692,-73.4551C586.9256,-64.4177 598.7706,-53.3319 609.2867,-43.4899\" fill=\"none\" stroke=\"#000000\"/>\n",
       "<polygon fill=\"#000000\" points=\"611.7492,-45.979 616.6589,-36.5904 606.966,-40.8681 611.7492,-45.979\" stroke=\"#000000\"/>\n",
       "</g>\n",
       "</g>\n",
       "</svg>"
      ],
      "text/plain": [
       "<IPython.core.display.SVG object>"
      ]
     },
     "execution_count": 18,
     "metadata": {},
     "output_type": "execute_result"
    }
   ],
   "source": [
    "SVG(model_to_dot(model).create(prog='dot', format='svg'))"
   ]
  },
  {
   "cell_type": "code",
   "execution_count": null,
   "metadata": {
    "collapsed": true
   },
   "outputs": [],
   "source": []
  },
  {
   "cell_type": "code",
   "execution_count": 30,
   "metadata": {
    "collapsed": true
   },
   "outputs": [],
   "source": [
    "test_cache = dataset.values[30:n_hours + 30].tolist()\n",
    "test_data = test_cache[:]\n",
    "array_to_play = test_cache[:]"
   ]
  },
  {
   "cell_type": "code",
   "execution_count": 31,
   "metadata": {},
   "outputs": [
    {
     "name": "stdout",
     "output_type": "stream",
     "text": [
      "[[52, 127], [52, 127], [52, 127], [52, 127], [52, 127], [52, 127], [52, 127], [52, 127], [52, 127], [52, 127], [52, 127], [52, 127], [52, 127], [52, 127], [52, 127], [52, 127], [52, 127], [53, 127], [54, 127], [54, 0], [54, 127], [54, 127], [54, 127], [54, 127], [54, 127], [54, 127], [54, 127], [54, 127], [54, 127], [54, 127], [54, 127], [54, 127], [54, 127], [54, 127], [54, 127], [54, 127], [54, 127], [54, 127], [53, 127], [54, 127], [54, 0], [54, 127], [53, 127], [53, 127], [53, 127], [54, 127], [53, 127], [53, 127], [53, 127], [54, 127], [54, 127], [54, 127], [54, 127], [54, 127], [54, 127], [54, 127], [53, 127], [53, 127], [53, 127], [54, 127], [54, 127], [54, 127], [54, 127], [54, 127]]\n"
     ]
    }
   ],
   "source": [
    "print(test_data)"
   ]
  },
  {
   "cell_type": "code",
   "execution_count": 32,
   "metadata": {
    "collapsed": true
   },
   "outputs": [],
   "source": [
    "def process_data(testx):\n",
    "    testx = DataFrame(data = testx)\n",
    "    testx = testx.values\n",
    "    testx = testx.astype('float32')\n",
    "    testx = scaler.transform(testx)\n",
    "    return(testx)"
   ]
  },
  {
   "cell_type": "code",
   "execution_count": null,
   "metadata": {
    "collapsed": true
   },
   "outputs": [],
   "source": []
  },
  {
   "cell_type": "code",
   "execution_count": 33,
   "metadata": {
    "collapsed": true
   },
   "outputs": [],
   "source": [
    "player = MidiPlayer()"
   ]
  },
  {
   "cell_type": "code",
   "execution_count": 34,
   "metadata": {},
   "outputs": [],
   "source": [
    "def on_epoch_end(epoch, logs):\n",
    "#     if epoch % 5 == 0:\n",
    "    start = time.time()\n",
    "    print('----- Generating sound after: %d' % epoch)\n",
    "    for i in range(300):\n",
    "        data = process_data(test_data)\n",
    "        data = data.reshape(1,n_hours,2)\n",
    "        prediction = model.predict(data)\n",
    "        prediction = asarray(prediction).ravel().reshape(-1,n_features)\n",
    "        prediction = scaler.inverse_transform(prediction)\n",
    "        prediction = prediction.astype('int')\n",
    "        prediction = prediction[0].tolist()\n",
    "        test_data.append(prediction)\n",
    "        test_data.pop(0)\n",
    "        array_to_play.append(prediction)\n",
    "    end = time.time()\n",
    "    print('time:', end - start)\n",
    "    for value in array_to_play:\n",
    "        player.play(value[0], .03, value[1])\n",
    "    test_data = test_cache\n",
    "    array_to_play = test_cache\n",
    "    \n",
    "    \n",
    "play_callback = LambdaCallback(on_epoch_end=on_epoch_end)"
   ]
  },
  {
   "cell_type": "code",
   "execution_count": 35,
   "metadata": {
    "scrolled": false
   },
   "outputs": [
    {
     "name": "stdout",
     "output_type": "stream",
     "text": [
      "Train on 5521 samples, validate on 1777 samples\n",
      "Epoch 1/100\n",
      "5504/5521 [============================>.] - ETA: 0s - loss: 0.3909 - output_notes_loss: 0.1226 - output_volume_loss: 0.2684----- Generating sound after: 0\n"
     ]
    },
    {
     "ename": "UnboundLocalError",
     "evalue": "local variable 'test_data' referenced before assignment",
     "output_type": "error",
     "traceback": [
      "\u001b[0;31m---------------------------------------------------------------------------\u001b[0m",
      "\u001b[0;31mUnboundLocalError\u001b[0m                         Traceback (most recent call last)",
      "\u001b[0;32m<ipython-input-35-5bf133fb7bc5>\u001b[0m in \u001b[0;36m<module>\u001b[0;34m()\u001b[0m\n\u001b[1;32m     14\u001b[0m             \u001b[0mepochs\u001b[0m\u001b[0;34m=\u001b[0m\u001b[0mepochs\u001b[0m\u001b[0;34m,\u001b[0m\u001b[0;34m\u001b[0m\u001b[0m\n\u001b[1;32m     15\u001b[0m             \u001b[0mbatch_size\u001b[0m\u001b[0;34m=\u001b[0m\u001b[0mint\u001b[0m\u001b[0;34m(\u001b[0m\u001b[0mbatch_size\u001b[0m\u001b[0;34m)\u001b[0m\u001b[0;34m,\u001b[0m\u001b[0;34m\u001b[0m\u001b[0m\n\u001b[0;32m---> 16\u001b[0;31m             \u001b[0mcallbacks\u001b[0m\u001b[0;34m=\u001b[0m\u001b[0;34m[\u001b[0m\u001b[0mplay_callback\u001b[0m\u001b[0;34m]\u001b[0m\u001b[0;34m\u001b[0m\u001b[0m\n\u001b[0m\u001b[1;32m     17\u001b[0m )\n",
      "\u001b[0;32m~/anaconda3/lib/python3.6/site-packages/keras/engine/training.py\u001b[0m in \u001b[0;36mfit\u001b[0;34m(self, x, y, batch_size, epochs, verbose, callbacks, validation_split, validation_data, shuffle, class_weight, sample_weight, initial_epoch, steps_per_epoch, validation_steps, **kwargs)\u001b[0m\n\u001b[1;32m   1596\u001b[0m                               \u001b[0minitial_epoch\u001b[0m\u001b[0;34m=\u001b[0m\u001b[0minitial_epoch\u001b[0m\u001b[0;34m,\u001b[0m\u001b[0;34m\u001b[0m\u001b[0m\n\u001b[1;32m   1597\u001b[0m                               \u001b[0msteps_per_epoch\u001b[0m\u001b[0;34m=\u001b[0m\u001b[0msteps_per_epoch\u001b[0m\u001b[0;34m,\u001b[0m\u001b[0;34m\u001b[0m\u001b[0m\n\u001b[0;32m-> 1598\u001b[0;31m                               validation_steps=validation_steps)\n\u001b[0m\u001b[1;32m   1599\u001b[0m \u001b[0;34m\u001b[0m\u001b[0m\n\u001b[1;32m   1600\u001b[0m     def evaluate(self, x, y,\n",
      "\u001b[0;32m~/anaconda3/lib/python3.6/site-packages/keras/engine/training.py\u001b[0m in \u001b[0;36m_fit_loop\u001b[0;34m(self, f, ins, out_labels, batch_size, epochs, verbose, callbacks, val_f, val_ins, shuffle, callback_metrics, initial_epoch, steps_per_epoch, validation_steps)\u001b[0m\n\u001b[1;32m   1201\u001b[0m                             \u001b[0;32mfor\u001b[0m \u001b[0ml\u001b[0m\u001b[0;34m,\u001b[0m \u001b[0mo\u001b[0m \u001b[0;32min\u001b[0m \u001b[0mzip\u001b[0m\u001b[0;34m(\u001b[0m\u001b[0mout_labels\u001b[0m\u001b[0;34m,\u001b[0m \u001b[0mval_outs\u001b[0m\u001b[0;34m)\u001b[0m\u001b[0;34m:\u001b[0m\u001b[0;34m\u001b[0m\u001b[0m\n\u001b[1;32m   1202\u001b[0m                                 \u001b[0mepoch_logs\u001b[0m\u001b[0;34m[\u001b[0m\u001b[0;34m'val_'\u001b[0m \u001b[0;34m+\u001b[0m \u001b[0ml\u001b[0m\u001b[0;34m]\u001b[0m \u001b[0;34m=\u001b[0m \u001b[0mo\u001b[0m\u001b[0;34m\u001b[0m\u001b[0m\n\u001b[0;32m-> 1203\u001b[0;31m             \u001b[0mcallbacks\u001b[0m\u001b[0;34m.\u001b[0m\u001b[0mon_epoch_end\u001b[0m\u001b[0;34m(\u001b[0m\u001b[0mepoch\u001b[0m\u001b[0;34m,\u001b[0m \u001b[0mepoch_logs\u001b[0m\u001b[0;34m)\u001b[0m\u001b[0;34m\u001b[0m\u001b[0m\n\u001b[0m\u001b[1;32m   1204\u001b[0m             \u001b[0;32mif\u001b[0m \u001b[0mcallback_model\u001b[0m\u001b[0;34m.\u001b[0m\u001b[0mstop_training\u001b[0m\u001b[0;34m:\u001b[0m\u001b[0;34m\u001b[0m\u001b[0m\n\u001b[1;32m   1205\u001b[0m                 \u001b[0;32mbreak\u001b[0m\u001b[0;34m\u001b[0m\u001b[0m\n",
      "\u001b[0;32m~/anaconda3/lib/python3.6/site-packages/keras/callbacks.py\u001b[0m in \u001b[0;36mon_epoch_end\u001b[0;34m(self, epoch, logs)\u001b[0m\n\u001b[1;32m     75\u001b[0m         \u001b[0mlogs\u001b[0m \u001b[0;34m=\u001b[0m \u001b[0mlogs\u001b[0m \u001b[0;32mor\u001b[0m \u001b[0;34m{\u001b[0m\u001b[0;34m}\u001b[0m\u001b[0;34m\u001b[0m\u001b[0m\n\u001b[1;32m     76\u001b[0m         \u001b[0;32mfor\u001b[0m \u001b[0mcallback\u001b[0m \u001b[0;32min\u001b[0m \u001b[0mself\u001b[0m\u001b[0;34m.\u001b[0m\u001b[0mcallbacks\u001b[0m\u001b[0;34m:\u001b[0m\u001b[0;34m\u001b[0m\u001b[0m\n\u001b[0;32m---> 77\u001b[0;31m             \u001b[0mcallback\u001b[0m\u001b[0;34m.\u001b[0m\u001b[0mon_epoch_end\u001b[0m\u001b[0;34m(\u001b[0m\u001b[0mepoch\u001b[0m\u001b[0;34m,\u001b[0m \u001b[0mlogs\u001b[0m\u001b[0;34m)\u001b[0m\u001b[0;34m\u001b[0m\u001b[0m\n\u001b[0m\u001b[1;32m     78\u001b[0m \u001b[0;34m\u001b[0m\u001b[0m\n\u001b[1;32m     79\u001b[0m     \u001b[0;32mdef\u001b[0m \u001b[0mon_batch_begin\u001b[0m\u001b[0;34m(\u001b[0m\u001b[0mself\u001b[0m\u001b[0;34m,\u001b[0m \u001b[0mbatch\u001b[0m\u001b[0;34m,\u001b[0m \u001b[0mlogs\u001b[0m\u001b[0;34m=\u001b[0m\u001b[0;32mNone\u001b[0m\u001b[0;34m)\u001b[0m\u001b[0;34m:\u001b[0m\u001b[0;34m\u001b[0m\u001b[0m\n",
      "\u001b[0;32m<ipython-input-34-6e95a0f267d5>\u001b[0m in \u001b[0;36mon_epoch_end\u001b[0;34m(epoch, logs)\u001b[0m\n\u001b[1;32m      4\u001b[0m     \u001b[0mprint\u001b[0m\u001b[0;34m(\u001b[0m\u001b[0;34m'----- Generating sound after: %d'\u001b[0m \u001b[0;34m%\u001b[0m \u001b[0mepoch\u001b[0m\u001b[0;34m)\u001b[0m\u001b[0;34m\u001b[0m\u001b[0m\n\u001b[1;32m      5\u001b[0m     \u001b[0;32mfor\u001b[0m \u001b[0mi\u001b[0m \u001b[0;32min\u001b[0m \u001b[0mrange\u001b[0m\u001b[0;34m(\u001b[0m\u001b[0;36m300\u001b[0m\u001b[0;34m)\u001b[0m\u001b[0;34m:\u001b[0m\u001b[0;34m\u001b[0m\u001b[0m\n\u001b[0;32m----> 6\u001b[0;31m         \u001b[0mdata\u001b[0m \u001b[0;34m=\u001b[0m \u001b[0mprocess_data\u001b[0m\u001b[0;34m(\u001b[0m\u001b[0mtest_data\u001b[0m\u001b[0;34m)\u001b[0m\u001b[0;34m\u001b[0m\u001b[0m\n\u001b[0m\u001b[1;32m      7\u001b[0m         \u001b[0mdata\u001b[0m \u001b[0;34m=\u001b[0m \u001b[0mdata\u001b[0m\u001b[0;34m.\u001b[0m\u001b[0mreshape\u001b[0m\u001b[0;34m(\u001b[0m\u001b[0;36m1\u001b[0m\u001b[0;34m,\u001b[0m\u001b[0mn_hours\u001b[0m\u001b[0;34m,\u001b[0m\u001b[0;36m2\u001b[0m\u001b[0;34m)\u001b[0m\u001b[0;34m\u001b[0m\u001b[0m\n\u001b[1;32m      8\u001b[0m         \u001b[0mprediction\u001b[0m \u001b[0;34m=\u001b[0m \u001b[0mmodel\u001b[0m\u001b[0;34m.\u001b[0m\u001b[0mpredict\u001b[0m\u001b[0;34m(\u001b[0m\u001b[0mdata\u001b[0m\u001b[0;34m)\u001b[0m\u001b[0;34m\u001b[0m\u001b[0m\n",
      "\u001b[0;31mUnboundLocalError\u001b[0m: local variable 'test_data' referenced before assignment"
     ]
    }
   ],
   "source": [
    "history = model.fit(\n",
    "            {'input': train_X},\n",
    "            {\n",
    "                'output_notes': train_y_notes, \n",
    "                'output_volume': train_y_volume, \n",
    "            },\n",
    "            validation_data=({'input': test_X},\n",
    "                             {\n",
    "                                 'output_notes': test_y_notes, \n",
    "                                 'output_volume': test_y_volume, \n",
    "                             }), \n",
    "            verbose=1,\n",
    "            shuffle=False,\n",
    "            epochs=epochs, \n",
    "            batch_size=int(batch_size),\n",
    "            callbacks=[play_callback]\n",
    ")"
   ]
  },
  {
   "cell_type": "code",
   "execution_count": null,
   "metadata": {},
   "outputs": [],
   "source": [
    "# serialize model to JSON\n",
    "model_json = model.to_json()\n",
    "with open(\"model.json\", \"w\") as json_file:\n",
    "    json_file.write(model_json)\n",
    "# serialize weights to HDF5\n",
    "model.save_weights(\"model.h5\")\n",
    "print(\"Saved model to disk\")"
   ]
  },
  {
   "cell_type": "code",
   "execution_count": null,
   "metadata": {},
   "outputs": [],
   "source": [
    "# plot history\n",
    "pyplot.plot(history.history['loss'], label='train')\n",
    "pyplot.plot(history.history['val_loss'], label='test')\n",
    "pyplot.legend()\n",
    "pyplot.show()"
   ]
  },
  {
   "cell_type": "code",
   "execution_count": null,
   "metadata": {
    "collapsed": true
   },
   "outputs": [],
   "source": [
    "joblib.dump(scaler, 'scaler.pkl')\n",
    "print('Saved scaler to disk.')\n",
    "frame as supervised learning"
   ]
  },
  {
   "cell_type": "code",
   "execution_count": null,
   "metadata": {
    "collapsed": true
   },
   "outputs": [],
   "source": []
  }
 ],
 "metadata": {
  "kernelspec": {
   "display_name": "Python 3",
   "language": "python",
   "name": "python3"
  },
  "language_info": {
   "codemirror_mode": {
    "name": "ipython",
    "version": 3
   },
   "file_extension": ".py",
   "mimetype": "text/x-python",
   "name": "python",
   "nbconvert_exporter": "python",
   "pygments_lexer": "ipython3",
   "version": "3.6.4"
  }
 },
 "nbformat": 4,
 "nbformat_minor": 1
}
