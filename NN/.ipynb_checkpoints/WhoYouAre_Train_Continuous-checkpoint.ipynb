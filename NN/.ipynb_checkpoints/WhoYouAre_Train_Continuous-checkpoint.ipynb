{
 "cells": [
  {
   "cell_type": "markdown",
   "metadata": {},
   "source": [
    "## Import dependent libraries"
   ]
  },
  {
   "cell_type": "code",
   "execution_count": 1,
   "metadata": {},
   "outputs": [
    {
     "name": "stderr",
     "output_type": "stream",
     "text": [
      "Using TensorFlow backend.\n"
     ]
    }
   ],
   "source": [
    "import time\n",
    "import os\n",
    "import sys\n",
    "import math\n",
    "import random\n",
    "from numpy import concatenate, array, asarray\n",
    "\n",
    "from pandas import read_csv\n",
    "from pandas import DataFrame\n",
    "from pandas import concat\n",
    "\n",
    "from sklearn.preprocessing import MinMaxScaler\n",
    "from sklearn.preprocessing import LabelEncoder\n",
    "from sklearn.metrics import mean_squared_error\n",
    "\n",
    "from matplotlib import pyplot\n",
    "from IPython.display import SVG\n",
    "import pydot\n",
    "import graphviz\n",
    "\n",
    "import tensorflow as tf\n",
    "\n",
    "import keras\n",
    "import keras.backend as K\n",
    "\n",
    "from keras import optimizers\n",
    "from keras.models import Model, model_from_json\n",
    "from keras.layers import Input, Dense, Dropout, BatchNormalization\n",
    "from keras.layers.recurrent import LSTM\n",
    "from keras.utils import to_categorical\n",
    "from keras.models import model_from_json\n",
    "from keras.layers.core import Activation\n",
    "from keras.callbacks import ReduceLROnPlateau, LambdaCallback\n",
    "from keras.utils import plot_model\n",
    "from sklearn.externals import joblib\n",
    "\n",
    "from keras.utils.vis_utils import model_to_dot\n",
    "\n",
    "from TimeSeriesModel import TimeSeriesModel\n",
    "from MidiPlayer import MidiPlayer\n"
   ]
  },
  {
   "cell_type": "markdown",
   "metadata": {},
   "source": [
    "## Parameters"
   ]
  },
  {
   "cell_type": "code",
   "execution_count": 2,
   "metadata": {
    "collapsed": true
   },
   "outputs": [],
   "source": [
    "# specify the number of lag hours\n",
    "n_hours = 64\n",
    "n_features = 2\n",
    "n_train_hours = None\n",
    "n_divisions = 4\n",
    "batch_size = n_hours\n",
    "epochs = 100\n",
    "player = MidiPlayer()"
   ]
  },
  {
   "cell_type": "markdown",
   "metadata": {},
   "source": [
    "## Load dataset"
   ]
  },
  {
   "cell_type": "code",
   "execution_count": 3,
   "metadata": {},
   "outputs": [],
   "source": [
    "dataset = read_csv('music_data.csv', header=0)\n",
    "values = dataset.values\n",
    "values = values.astype('float32')"
   ]
  },
  {
   "cell_type": "markdown",
   "metadata": {},
   "source": [
    "## Specify columns to plot"
   ]
  },
  {
   "cell_type": "code",
   "execution_count": 4,
   "metadata": {},
   "outputs": [
    {
     "data": {
      "image/png": "[encoded data removed]",
      "text/plain": [
       "<matplotlib.figure.Figure at 0x10dbb5518>"
      ]
     },
     "metadata": {},
     "output_type": "display_data"
    }
   ],
   "source": [
    "groups = [0, 1]\n",
    "i = 1\n",
    "# plot each column\n",
    "pyplot.figure()\n",
    "for group in groups:\n",
    "    pyplot.subplot(len(groups), 1, i)\n",
    "    pyplot.plot(values[:, group])\n",
    "    pyplot.title(dataset.columns[group], y=0.5, loc='right')\n",
    "    i += 1\n",
    "\n",
    "\n",
    "pyplot.show()"
   ]
  },
  {
   "cell_type": "markdown",
   "metadata": {
    "collapsed": true
   },
   "source": [
    "## Convert series to supervised learning"
   ]
  },
  {
   "cell_type": "code",
   "execution_count": 5,
   "metadata": {
    "collapsed": true
   },
   "outputs": [],
   "source": [
    "dataset = read_csv('music_data.csv', header=1)\n",
    "n_train_hours = int(len(dataset) * 0.75)\n",
    "values = dataset.values\n",
    "values = values.astype('float32')"
   ]
  },
  {
   "cell_type": "code",
   "execution_count": 6,
   "metadata": {
    "collapsed": true
   },
   "outputs": [],
   "source": [
    "def series_to_supervised(data, n_in=1, n_out=1, dropnan=True):\n",
    "    start = time.time()\n",
    "    n_vars = 1 if type(data) is list else data.shape[1]\n",
    "    df = DataFrame(data)\n",
    "    cols, names = list(), list()\n",
    "    # input sequence (t-n, ... t-1)\n",
    "    for i in range(n_in, 0, -1):\n",
    "        cols.append(df.shift(i))\n",
    "        names += [('var%d(t-%d)' % (j + 1, i)) for j in range(n_vars)]\n",
    "    # forecast sequence (t, t+1, ... t+n)\n",
    "    for i in range(0, n_out):\n",
    "        cols.append(df.shift(-i))\n",
    "        if i == 0:\n",
    "            names += [('var%d(t)' % (j + 1)) for j in range(n_vars)]\n",
    "        else:\n",
    "            names += [('var%d(t+%d)' % (j + 1, i)) for j in range(n_vars)]\n",
    "    # put it all together\n",
    "    agg = concat(cols, axis=1)\n",
    "    agg.columns = names\n",
    "    # drop rows with NaN values\n",
    "    if dropnan:\n",
    "        agg.dropna(inplace=True)\n",
    "    end = time.time()\n",
    "    print(end - start)\n",
    "    return agg"
   ]
  },
  {
   "cell_type": "code",
   "execution_count": null,
   "metadata": {
    "collapsed": true
   },
   "outputs": [],
   "source": []
  },
  {
   "cell_type": "markdown",
   "metadata": {},
   "source": [
    "## Scale Data"
   ]
  },
  {
   "cell_type": "code",
   "execution_count": 7,
   "metadata": {
    "scrolled": false
   },
   "outputs": [
    {
     "name": "stdout",
     "output_type": "stream",
     "text": [
      "[[ 0.54285717  0.44881889]]\n"
     ]
    }
   ],
   "source": [
    "scaler = MinMaxScaler(feature_range=(0, 1))\n",
    "scaler.fit(values)\n",
    "scaled = scaler.transform(values)\n",
    "print(scaled[20:21])\n"
   ]
  },
  {
   "cell_type": "code",
   "execution_count": 8,
   "metadata": {},
   "outputs": [
    {
     "name": "stdout",
     "output_type": "stream",
     "text": [
      "0.16420507431030273\n"
     ]
    }
   ],
   "source": [
    "# frame as supervised learning\n",
    "reframed = series_to_supervised(scaled, n_hours, 1)"
   ]
  },
  {
   "cell_type": "code",
   "execution_count": 9,
   "metadata": {
    "collapsed": true
   },
   "outputs": [],
   "source": [
    "values = reframed.values\n",
    "train = values[:n_train_hours, :]\n",
    "test = values[n_train_hours:, :]\n",
    "# split into input and outputs\n",
    "n_obs = n_hours * n_features"
   ]
  },
  {
   "cell_type": "code",
   "execution_count": null,
   "metadata": {
    "collapsed": true
   },
   "outputs": [],
   "source": []
  },
  {
   "cell_type": "code",
   "execution_count": 10,
   "metadata": {},
   "outputs": [
    {
     "name": "stdout",
     "output_type": "stream",
     "text": [
      "[ 0.54285717]\n",
      "(17097, 64, 2) (17097,) (5635, 64, 2) (5635,)\n",
      "(1, 64, 2)\n"
     ]
    }
   ],
   "source": [
    "train_X = train[:, :n_obs]\n",
    "# print(train_X)\n",
    "\n",
    "train_y_notes = train[:, -n_features]\n",
    "print(train_y_notes[0:1])\n",
    "train_y_volume = train[:, -n_features -1]\n",
    "\n",
    "test_X = test[:, :n_obs]\n",
    "# print(test_X)\n",
    "test_y_notes = test[:, -n_features]\n",
    "test_y_volume = test[:, -n_features -1]\n",
    "\n",
    "# reshape input to be 3D [samples, timesteps, features]\n",
    "train_X = train_X.reshape((train_X.shape[0], n_hours, n_features))\n",
    "# print(train_X[0:10])\n",
    "\n",
    "test_X = test_X.reshape((test_X.shape[0], n_hours, n_features))\n",
    "print(train_X.shape, train_y_notes.shape, test_X.shape, test_y_notes.shape)\n",
    "print(test_X[0:1].shape)\n"
   ]
  },
  {
   "cell_type": "code",
   "execution_count": 11,
   "metadata": {
    "collapsed": true
   },
   "outputs": [],
   "source": [
    "visible = Input(name='input', shape=(n_hours, n_features))\n",
    "ts_model = TimeSeriesModel(visible, n_hours, n_features, n_divisions)"
   ]
  },
  {
   "cell_type": "code",
   "execution_count": 12,
   "metadata": {},
   "outputs": [
    {
     "name": "stdout",
     "output_type": "stream",
     "text": [
      "Tensor(\"input:0\", shape=(?, 64, 2), dtype=float32)\n",
      "num 0\n",
      "0 16\n",
      "Tensor(\"lstm_2/transpose_1:0\", shape=(?, ?, 4), dtype=float32)\n",
      "num 1\n",
      "16 32\n",
      "Tensor(\"lstm_4/transpose_1:0\", shape=(?, ?, 4), dtype=float32)\n",
      "num 2\n",
      "32 48\n",
      "Tensor(\"lstm_6/transpose_1:0\", shape=(?, ?, 4), dtype=float32)\n",
      "num 3\n",
      "48 64\n",
      "Tensor(\"lstm_8/transpose_1:0\", shape=(?, ?, 4), dtype=float32)\n"
     ]
    }
   ],
   "source": [
    "model = ts_model.model()\n",
    "\n",
    "output_notes = Dense(1, activation='sigmoid', name='output_notes')(model)\n",
    "output_volume = Dense(1, activation='sigmoid', name='output_volume')(model)\n",
    "# output_length = Dense(1, activation='sigmoid', name='output_length')(hidden_Z)\n",
    "\n",
    "model = Model(inputs=[visible], outputs=[\n",
    "                                         output_notes, \n",
    "                                         output_volume, \n",
    "#                                          output_length\n",
    "                                        ])"
   ]
  },
  {
   "cell_type": "code",
   "execution_count": 13,
   "metadata": {},
   "outputs": [],
   "source": [
    "optimizer = optimizers.Adam(lr=0.0001, beta_1=0.9, beta_2=0.999, epsilon=1e-08, decay=0.0)\n",
    "model.compile(loss='mae', optimizer=optimizer)\n",
    "# model.summary()"
   ]
  },
  {
   "cell_type": "code",
   "execution_count": 14,
   "metadata": {
    "collapsed": true
   },
   "outputs": [],
   "source": [
    "# plot_model(model, to_file='model.png')"
   ]
  },
  {
   "cell_type": "code",
   "execution_count": 15,
   "metadata": {},
   "outputs": [
    {
     "data": {
      "image/svg+xml": [
       "<svg height=\"702pt\" viewBox=\"0.00 0.00 1125.98 702.00\" width=\"1126pt\" xmlns=\"http://www.w3.org/2000/svg\" xmlns:xlink=\"http://www.w3.org/1999/xlink\">\n",
       "<g class=\"graph\" id=\"graph0\" transform=\"scale(1 1) rotate(0) translate(4 698)\">\n",
       "<title>G</title>\n",
       "<polygon fill=\"#ffffff\" points=\"-4,4 -4,-698 1121.9766,-698 1121.9766,4 -4,4\" stroke=\"transparent\"/>\n",
       "<!-- 120763971008 -->\n",
       "<g class=\"node\" id=\"node1\">\n",
       "<title>120763971008</title>\n",
       "<polygon fill=\"none\" points=\"483.8071,-657.5 483.8071,-693.5 598.1694,-693.5 598.1694,-657.5 483.8071,-657.5\" stroke=\"#000000\"/>\n",
       "<text fill=\"#000000\" font-family=\"Times,serif\" font-size=\"14.00\" text-anchor=\"middle\" x=\"540.9883\" y=\"-671.3\">input: InputLayer</text>\n",
       "</g>\n",
       "<!-- 120751269312 -->\n",
       "<g class=\"node\" id=\"node2\">\n",
       "<title>120751269312</title>\n",
       "<polygon fill=\"none\" points=\"230.7554,-584.5 230.7554,-620.5 355.2212,-620.5 355.2212,-584.5 230.7554,-584.5\" stroke=\"#000000\"/>\n",
       "<text fill=\"#000000\" font-family=\"Times,serif\" font-size=\"14.00\" text-anchor=\"middle\" x=\"292.9883\" y=\"-598.3\">lambda_1: Lambda</text>\n",
       "</g>\n",
       "<!-- 120763971008&#45;&gt;120751269312 -->\n",
       "<g class=\"edge\" id=\"edge1\">\n",
       "<title>120763971008-&gt;120751269312</title>\n",
       "<path d=\"M483.7807,-658.6607C448.1948,-648.1858 402.1479,-634.6317 364.2066,-623.4635\" fill=\"none\" stroke=\"#000000\"/>\n",
       "<polygon fill=\"#000000\" points=\"364.8239,-619.9968 354.2425,-620.5305 362.8473,-626.7119 364.8239,-619.9968\" stroke=\"#000000\"/>\n",
       "</g>\n",
       "<!-- 4556017056 -->\n",
       "<g class=\"node\" id=\"node3\">\n",
       "<title>4556017056</title>\n",
       "<polygon fill=\"none\" points=\"407.7554,-584.5 407.7554,-620.5 532.2212,-620.5 532.2212,-584.5 407.7554,-584.5\" stroke=\"#000000\"/>\n",
       "<text fill=\"#000000\" font-family=\"Times,serif\" font-size=\"14.00\" text-anchor=\"middle\" x=\"469.9883\" y=\"-598.3\">lambda_2: Lambda</text>\n",
       "</g>\n",
       "<!-- 120763971008&#45;&gt;4556017056 -->\n",
       "<g class=\"edge\" id=\"edge2\">\n",
       "<title>120763971008-&gt;4556017056</title>\n",
       "<path d=\"M523.4377,-657.4551C514.7333,-648.5054 504.0751,-637.547 494.5727,-627.7769\" fill=\"none\" stroke=\"#000000\"/>\n",
       "<polygon fill=\"#000000\" points=\"497.0642,-625.3187 487.583,-620.5904 492.0462,-630.1992 497.0642,-625.3187\" stroke=\"#000000\"/>\n",
       "</g>\n",
       "<!-- 120763526000 -->\n",
       "<g class=\"node\" id=\"node4\">\n",
       "<title>120763526000</title>\n",
       "<polygon fill=\"none\" points=\"620.7554,-584.5 620.7554,-620.5 745.2212,-620.5 745.2212,-584.5 620.7554,-584.5\" stroke=\"#000000\"/>\n",
       "<text fill=\"#000000\" font-family=\"Times,serif\" font-size=\"14.00\" text-anchor=\"middle\" x=\"682.9883\" y=\"-598.3\">lambda_3: Lambda</text>\n",
       "</g>\n",
       "<!-- 120763971008&#45;&gt;120763526000 -->\n",
       "<g class=\"edge\" id=\"edge3\">\n",
       "<title>120763971008-&gt;120763526000</title>\n",
       "<path d=\"M576.0894,-657.4551C595.0344,-647.7157 618.6069,-635.5975 638.7918,-625.2207\" fill=\"none\" stroke=\"#000000\"/>\n",
       "<polygon fill=\"#000000\" points=\"640.5054,-628.2752 647.7988,-620.5904 637.305,-622.0497 640.5054,-628.2752\" stroke=\"#000000\"/>\n",
       "</g>\n",
       "<!-- 120775142536 -->\n",
       "<g class=\"node\" id=\"node5\">\n",
       "<title>120775142536</title>\n",
       "<polygon fill=\"none\" points=\"868.7554,-584.5 868.7554,-620.5 993.2212,-620.5 993.2212,-584.5 868.7554,-584.5\" stroke=\"#000000\"/>\n",
       "<text fill=\"#000000\" font-family=\"Times,serif\" font-size=\"14.00\" text-anchor=\"middle\" x=\"930.9883\" y=\"-598.3\">lambda_4: Lambda</text>\n",
       "</g>\n",
       "<!-- 120763971008&#45;&gt;120775142536 -->\n",
       "<g class=\"edge\" id=\"edge4\">\n",
       "<title>120763971008-&gt;120775142536</title>\n",
       "<path d=\"M598.5341,-664.7286C667.6822,-651.7855 783.7488,-630.0602 858.8291,-616.0067\" fill=\"none\" stroke=\"#000000\"/>\n",
       "<polygon fill=\"#000000\" points=\"859.5008,-619.4419 868.6861,-614.1617 858.2129,-612.5614 859.5008,-619.4419\" stroke=\"#000000\"/>\n",
       "</g>\n",
       "<!-- 120762106040 -->\n",
       "<g class=\"node\" id=\"node6\">\n",
       "<title>120762106040</title>\n",
       "<polygon fill=\"none\" points=\"172.5659,-511.5 172.5659,-547.5 271.4106,-547.5 271.4106,-511.5 172.5659,-511.5\" stroke=\"#000000\"/>\n",
       "<text fill=\"#000000\" font-family=\"Times,serif\" font-size=\"14.00\" text-anchor=\"middle\" x=\"221.9883\" y=\"-525.3\">lstm_1: LSTM</text>\n",
       "</g>\n",
       "<!-- 120751269312&#45;&gt;120762106040 -->\n",
       "<g class=\"edge\" id=\"edge5\">\n",
       "<title>120751269312-&gt;120762106040</title>\n",
       "<path d=\"M275.4377,-584.4551C266.7333,-575.5054 256.0751,-564.547 246.5727,-554.7769\" fill=\"none\" stroke=\"#000000\"/>\n",
       "<polygon fill=\"#000000\" points=\"249.0642,-552.3187 239.583,-547.5904 244.0462,-557.1992 249.0642,-552.3187\" stroke=\"#000000\"/>\n",
       "</g>\n",
       "<!-- 4556189648 -->\n",
       "<g class=\"node\" id=\"node7\">\n",
       "<title>4556189648</title>\n",
       "<polygon fill=\"none\" points=\"385.5659,-511.5 385.5659,-547.5 484.4106,-547.5 484.4106,-511.5 385.5659,-511.5\" stroke=\"#000000\"/>\n",
       "<text fill=\"#000000\" font-family=\"Times,serif\" font-size=\"14.00\" text-anchor=\"middle\" x=\"434.9883\" y=\"-525.3\">lstm_3: LSTM</text>\n",
       "</g>\n",
       "<!-- 4556017056&#45;&gt;4556189648 -->\n",
       "<g class=\"edge\" id=\"edge6\">\n",
       "<title>4556017056-&gt;4556189648</title>\n",
       "<path d=\"M461.3366,-584.4551C457.3401,-576.1196 452.5082,-566.0416 448.0793,-556.8042\" fill=\"none\" stroke=\"#000000\"/>\n",
       "<polygon fill=\"#000000\" points=\"451.1411,-555.0944 443.6617,-547.5904 444.8291,-558.1207 451.1411,-555.0944\" stroke=\"#000000\"/>\n",
       "</g>\n",
       "<!-- 120763616000 -->\n",
       "<g class=\"node\" id=\"node8\">\n",
       "<title>120763616000</title>\n",
       "<polygon fill=\"none\" points=\"642.5659,-511.5 642.5659,-547.5 741.4106,-547.5 741.4106,-511.5 642.5659,-511.5\" stroke=\"#000000\"/>\n",
       "<text fill=\"#000000\" font-family=\"Times,serif\" font-size=\"14.00\" text-anchor=\"middle\" x=\"691.9883\" y=\"-525.3\">lstm_5: LSTM</text>\n",
       "</g>\n",
       "<!-- 120763526000&#45;&gt;120763616000 -->\n",
       "<g class=\"edge\" id=\"edge7\">\n",
       "<title>120763526000-&gt;120763616000</title>\n",
       "<path d=\"M685.213,-584.4551C686.2082,-576.3828 687.4049,-566.6764 688.5138,-557.6817\" fill=\"none\" stroke=\"#000000\"/>\n",
       "<polygon fill=\"#000000\" points=\"692.008,-557.9435 689.758,-547.5904 685.0606,-557.0869 692.008,-557.9435\" stroke=\"#000000\"/>\n",
       "</g>\n",
       "<!-- 120771774840 -->\n",
       "<g class=\"node\" id=\"node9\">\n",
       "<title>120771774840</title>\n",
       "<polygon fill=\"none\" points=\"917.5659,-511.5 917.5659,-547.5 1016.4106,-547.5 1016.4106,-511.5 917.5659,-511.5\" stroke=\"#000000\"/>\n",
       "<text fill=\"#000000\" font-family=\"Times,serif\" font-size=\"14.00\" text-anchor=\"middle\" x=\"966.9883\" y=\"-525.3\">lstm_7: LSTM</text>\n",
       "</g>\n",
       "<!-- 120775142536&#45;&gt;120771774840 -->\n",
       "<g class=\"edge\" id=\"edge8\">\n",
       "<title>120775142536-&gt;120771774840</title>\n",
       "<path d=\"M939.8872,-584.4551C943.9978,-576.1196 948.9678,-566.0416 953.5232,-556.8042\" fill=\"none\" stroke=\"#000000\"/>\n",
       "<polygon fill=\"#000000\" points=\"956.7831,-558.1071 958.067,-547.5904 950.505,-555.011 956.7831,-558.1071\" stroke=\"#000000\"/>\n",
       "</g>\n",
       "<!-- 4525361136 -->\n",
       "<g class=\"node\" id=\"node10\">\n",
       "<title>4525361136</title>\n",
       "<polygon fill=\"none\" points=\"0,-438.5 0,-474.5 265.9766,-474.5 265.9766,-438.5 0,-438.5\" stroke=\"#000000\"/>\n",
       "<text fill=\"#000000\" font-family=\"Times,serif\" font-size=\"14.00\" text-anchor=\"middle\" x=\"132.9883\" y=\"-452.3\">batch_normalization_1: BatchNormalization</text>\n",
       "</g>\n",
       "<!-- 120762106040&#45;&gt;4525361136 -->\n",
       "<g class=\"edge\" id=\"edge9\">\n",
       "<title>120762106040-&gt;4525361136</title>\n",
       "<path d=\"M199.9883,-511.4551C188.8631,-502.3299 175.1919,-491.1165 163.1064,-481.2036\" fill=\"none\" stroke=\"#000000\"/>\n",
       "<polygon fill=\"#000000\" points=\"164.9952,-478.2261 155.0437,-474.5904 160.5558,-483.6384 164.9952,-478.2261\" stroke=\"#000000\"/>\n",
       "</g>\n",
       "<!-- 120760399184 -->\n",
       "<g class=\"node\" id=\"node11\">\n",
       "<title>120760399184</title>\n",
       "<polygon fill=\"none\" points=\"284,-438.5 284,-474.5 549.9766,-474.5 549.9766,-438.5 284,-438.5\" stroke=\"#000000\"/>\n",
       "<text fill=\"#000000\" font-family=\"Times,serif\" font-size=\"14.00\" text-anchor=\"middle\" x=\"416.9883\" y=\"-452.3\">batch_normalization_2: BatchNormalization</text>\n",
       "</g>\n",
       "<!-- 4556189648&#45;&gt;120760399184 -->\n",
       "<g class=\"edge\" id=\"edge10\">\n",
       "<title>4556189648-&gt;120760399184</title>\n",
       "<path d=\"M430.5388,-511.4551C428.5268,-503.2951 426.103,-493.4652 423.8649,-484.3887\" fill=\"none\" stroke=\"#000000\"/>\n",
       "<polygon fill=\"#000000\" points=\"427.2413,-483.4616 421.4489,-474.5904 420.4448,-485.1375 427.2413,-483.4616\" stroke=\"#000000\"/>\n",
       "</g>\n",
       "<!-- 120766014408 -->\n",
       "<g class=\"node\" id=\"node12\">\n",
       "<title>120766014408</title>\n",
       "<polygon fill=\"none\" points=\"568,-438.5 568,-474.5 833.9766,-474.5 833.9766,-438.5 568,-438.5\" stroke=\"#000000\"/>\n",
       "<text fill=\"#000000\" font-family=\"Times,serif\" font-size=\"14.00\" text-anchor=\"middle\" x=\"700.9883\" y=\"-452.3\">batch_normalization_3: BatchNormalization</text>\n",
       "</g>\n",
       "<!-- 120763616000&#45;&gt;120766014408 -->\n",
       "<g class=\"edge\" id=\"edge11\">\n",
       "<title>120763616000-&gt;120766014408</title>\n",
       "<path d=\"M694.213,-511.4551C695.2082,-503.3828 696.4049,-493.6764 697.5138,-484.6817\" fill=\"none\" stroke=\"#000000\"/>\n",
       "<polygon fill=\"#000000\" points=\"701.008,-484.9435 698.758,-474.5904 694.0606,-484.0869 701.008,-484.9435\" stroke=\"#000000\"/>\n",
       "</g>\n",
       "<!-- 120775248136 -->\n",
       "<g class=\"node\" id=\"node13\">\n",
       "<title>120775248136</title>\n",
       "<polygon fill=\"none\" points=\"852,-438.5 852,-474.5 1117.9766,-474.5 1117.9766,-438.5 852,-438.5\" stroke=\"#000000\"/>\n",
       "<text fill=\"#000000\" font-family=\"Times,serif\" font-size=\"14.00\" text-anchor=\"middle\" x=\"984.9883\" y=\"-452.3\">batch_normalization_4: BatchNormalization</text>\n",
       "</g>\n",
       "<!-- 120771774840&#45;&gt;120775248136 -->\n",
       "<g class=\"edge\" id=\"edge12\">\n",
       "<title>120771774840-&gt;120775248136</title>\n",
       "<path d=\"M971.4377,-511.4551C973.4498,-503.2951 975.8736,-493.4652 978.1116,-484.3887\" fill=\"none\" stroke=\"#000000\"/>\n",
       "<polygon fill=\"#000000\" points=\"981.5317,-485.1375 980.5276,-474.5904 974.7353,-483.4616 981.5317,-485.1375\" stroke=\"#000000\"/>\n",
       "</g>\n",
       "<!-- 4553876312 -->\n",
       "<g class=\"node\" id=\"node14\">\n",
       "<title>4553876312</title>\n",
       "<polygon fill=\"none\" points=\"172.1865,-365.5 172.1865,-401.5 299.79,-401.5 299.79,-365.5 172.1865,-365.5\" stroke=\"#000000\"/>\n",
       "<text fill=\"#000000\" font-family=\"Times,serif\" font-size=\"14.00\" text-anchor=\"middle\" x=\"235.9883\" y=\"-379.3\">dropout_1: Dropout</text>\n",
       "</g>\n",
       "<!-- 4525361136&#45;&gt;4553876312 -->\n",
       "<g class=\"edge\" id=\"edge13\">\n",
       "<title>4525361136-&gt;4553876312</title>\n",
       "<path d=\"M158.449,-438.4551C171.5717,-429.1545 187.7555,-417.6844 201.9373,-407.6332\" fill=\"none\" stroke=\"#000000\"/>\n",
       "<polygon fill=\"#000000\" points=\"204.3287,-410.2283 210.4635,-401.5904 200.281,-404.5172 204.3287,-410.2283\" stroke=\"#000000\"/>\n",
       "</g>\n",
       "<!-- 120762602720 -->\n",
       "<g class=\"node\" id=\"node15\">\n",
       "<title>120762602720</title>\n",
       "<polygon fill=\"none\" points=\"387.1865,-365.5 387.1865,-401.5 514.79,-401.5 514.79,-365.5 387.1865,-365.5\" stroke=\"#000000\"/>\n",
       "<text fill=\"#000000\" font-family=\"Times,serif\" font-size=\"14.00\" text-anchor=\"middle\" x=\"450.9883\" y=\"-379.3\">dropout_2: Dropout</text>\n",
       "</g>\n",
       "<!-- 120760399184&#45;&gt;120762602720 -->\n",
       "<g class=\"edge\" id=\"edge14\">\n",
       "<title>120760399184-&gt;120762602720</title>\n",
       "<path d=\"M425.3928,-438.4551C429.275,-430.1196 433.9689,-420.0416 438.2713,-410.8042\" fill=\"none\" stroke=\"#000000\"/>\n",
       "<polygon fill=\"#000000\" points=\"441.5133,-412.1331 442.5626,-401.5904 435.1678,-409.1776 441.5133,-412.1331\" stroke=\"#000000\"/>\n",
       "</g>\n",
       "<!-- 120767556128 -->\n",
       "<g class=\"node\" id=\"node16\">\n",
       "<title>120767556128</title>\n",
       "<polygon fill=\"none\" points=\"602.1865,-365.5 602.1865,-401.5 729.79,-401.5 729.79,-365.5 602.1865,-365.5\" stroke=\"#000000\"/>\n",
       "<text fill=\"#000000\" font-family=\"Times,serif\" font-size=\"14.00\" text-anchor=\"middle\" x=\"665.9883\" y=\"-379.3\">dropout_3: Dropout</text>\n",
       "</g>\n",
       "<!-- 120766014408&#45;&gt;120767556128 -->\n",
       "<g class=\"edge\" id=\"edge15\">\n",
       "<title>120766014408-&gt;120767556128</title>\n",
       "<path d=\"M692.3366,-438.4551C688.3401,-430.1196 683.5082,-420.0416 679.0793,-410.8042\" fill=\"none\" stroke=\"#000000\"/>\n",
       "<polygon fill=\"#000000\" points=\"682.1411,-409.0944 674.6617,-401.5904 675.8291,-412.1207 682.1411,-409.0944\" stroke=\"#000000\"/>\n",
       "</g>\n",
       "<!-- 120777178192 -->\n",
       "<g class=\"node\" id=\"node17\">\n",
       "<title>120777178192</title>\n",
       "<polygon fill=\"none\" points=\"851.1865,-365.5 851.1865,-401.5 978.79,-401.5 978.79,-365.5 851.1865,-365.5\" stroke=\"#000000\"/>\n",
       "<text fill=\"#000000\" font-family=\"Times,serif\" font-size=\"14.00\" text-anchor=\"middle\" x=\"914.9883\" y=\"-379.3\">dropout_4: Dropout</text>\n",
       "</g>\n",
       "<!-- 120775248136&#45;&gt;120777178192 -->\n",
       "<g class=\"edge\" id=\"edge16\">\n",
       "<title>120775248136-&gt;120777178192</title>\n",
       "<path d=\"M967.6849,-438.4551C959.1872,-429.5932 948.8008,-418.7616 939.5023,-409.0646\" fill=\"none\" stroke=\"#000000\"/>\n",
       "<polygon fill=\"#000000\" points=\"941.7827,-406.3858 932.3352,-401.5904 936.7302,-411.2306 941.7827,-406.3858\" stroke=\"#000000\"/>\n",
       "</g>\n",
       "<!-- 4553146264 -->\n",
       "<g class=\"node\" id=\"node18\">\n",
       "<title>4553146264</title>\n",
       "<polygon fill=\"none\" points=\"259.5659,-292.5 259.5659,-328.5 358.4106,-328.5 358.4106,-292.5 259.5659,-292.5\" stroke=\"#000000\"/>\n",
       "<text fill=\"#000000\" font-family=\"Times,serif\" font-size=\"14.00\" text-anchor=\"middle\" x=\"308.9883\" y=\"-306.3\">lstm_2: LSTM</text>\n",
       "</g>\n",
       "<!-- 4553876312&#45;&gt;4553146264 -->\n",
       "<g class=\"edge\" id=\"edge17\">\n",
       "<title>4553876312-&gt;4553146264</title>\n",
       "<path d=\"M254.0332,-365.4551C262.9829,-356.5054 273.9413,-345.547 283.7113,-335.7769\" fill=\"none\" stroke=\"#000000\"/>\n",
       "<polygon fill=\"#000000\" points=\"286.3017,-338.1363 290.8979,-328.5904 281.3519,-333.1866 286.3017,-338.1363\" stroke=\"#000000\"/>\n",
       "</g>\n",
       "<!-- 120762514568 -->\n",
       "<g class=\"node\" id=\"node19\">\n",
       "<title>120762514568</title>\n",
       "<polygon fill=\"none\" points=\"425.5659,-292.5 425.5659,-328.5 524.4106,-328.5 524.4106,-292.5 425.5659,-292.5\" stroke=\"#000000\"/>\n",
       "<text fill=\"#000000\" font-family=\"Times,serif\" font-size=\"14.00\" text-anchor=\"middle\" x=\"474.9883\" y=\"-306.3\">lstm_4: LSTM</text>\n",
       "</g>\n",
       "<!-- 120762602720&#45;&gt;120762514568 -->\n",
       "<g class=\"edge\" id=\"edge18\">\n",
       "<title>120762602720-&gt;120762514568</title>\n",
       "<path d=\"M456.9209,-365.4551C459.6324,-357.2074 462.9049,-347.2536 465.9156,-338.0962\" fill=\"none\" stroke=\"#000000\"/>\n",
       "<polygon fill=\"#000000\" points=\"469.2424,-339.1833 469.0408,-328.5904 462.5926,-336.997 469.2424,-339.1833\" stroke=\"#000000\"/>\n",
       "</g>\n",
       "<!-- 120767457936 -->\n",
       "<g class=\"node\" id=\"node20\">\n",
       "<title>120767457936</title>\n",
       "<polygon fill=\"none\" points=\"591.5659,-292.5 591.5659,-328.5 690.4106,-328.5 690.4106,-292.5 591.5659,-292.5\" stroke=\"#000000\"/>\n",
       "<text fill=\"#000000\" font-family=\"Times,serif\" font-size=\"14.00\" text-anchor=\"middle\" x=\"640.9883\" y=\"-306.3\">lstm_6: LSTM</text>\n",
       "</g>\n",
       "<!-- 120767556128&#45;&gt;120767457936 -->\n",
       "<g class=\"edge\" id=\"edge19\">\n",
       "<title>120767556128-&gt;120767457936</title>\n",
       "<path d=\"M659.8085,-365.4551C656.9839,-357.2074 653.5751,-347.2536 650.439,-338.0962\" fill=\"none\" stroke=\"#000000\"/>\n",
       "<polygon fill=\"#000000\" points=\"653.7348,-336.917 647.1836,-328.5904 647.1124,-339.185 653.7348,-336.917\" stroke=\"#000000\"/>\n",
       "</g>\n",
       "<!-- 120776562840 -->\n",
       "<g class=\"node\" id=\"node21\">\n",
       "<title>120776562840</title>\n",
       "<polygon fill=\"none\" points=\"798.5659,-292.5 798.5659,-328.5 897.4106,-328.5 897.4106,-292.5 798.5659,-292.5\" stroke=\"#000000\"/>\n",
       "<text fill=\"#000000\" font-family=\"Times,serif\" font-size=\"14.00\" text-anchor=\"middle\" x=\"847.9883\" y=\"-306.3\">lstm_8: LSTM</text>\n",
       "</g>\n",
       "<!-- 120777178192&#45;&gt;120776562840 -->\n",
       "<g class=\"edge\" id=\"edge20\">\n",
       "<title>120777178192-&gt;120776562840</title>\n",
       "<path d=\"M898.4265,-365.4551C890.293,-356.5932 880.3517,-345.7616 871.4517,-336.0646\" fill=\"none\" stroke=\"#000000\"/>\n",
       "<polygon fill=\"#000000\" points=\"873.9322,-333.5911 864.5918,-328.5904 868.775,-338.3244 873.9322,-333.5911\" stroke=\"#000000\"/>\n",
       "</g>\n",
       "<!-- 120778747464 -->\n",
       "<g class=\"node\" id=\"node22\">\n",
       "<title>120778747464</title>\n",
       "<polygon fill=\"none\" points=\"471.6689,-219.5 471.6689,-255.5 644.3076,-255.5 644.3076,-219.5 471.6689,-219.5\" stroke=\"#000000\"/>\n",
       "<text fill=\"#000000\" font-family=\"Times,serif\" font-size=\"14.00\" text-anchor=\"middle\" x=\"557.9883\" y=\"-233.3\">concatenate_1: Concatenate</text>\n",
       "</g>\n",
       "<!-- 4553146264&#45;&gt;120778747464 -->\n",
       "<g class=\"edge\" id=\"edge21\">\n",
       "<title>4553146264-&gt;120778747464</title>\n",
       "<path d=\"M358.4804,-295.9903C395.1135,-285.2504 445.5599,-270.4609 486.5594,-258.441\" fill=\"none\" stroke=\"#000000\"/>\n",
       "<polygon fill=\"#000000\" points=\"487.6145,-261.7791 496.2259,-255.607 485.6451,-255.0618 487.6145,-261.7791\" stroke=\"#000000\"/>\n",
       "</g>\n",
       "<!-- 120762514568&#45;&gt;120778747464 -->\n",
       "<g class=\"edge\" id=\"edge22\">\n",
       "<title>120762514568-&gt;120778747464</title>\n",
       "<path d=\"M495.5051,-292.4551C505.8803,-283.3299 518.6298,-272.1165 529.9006,-262.2036\" fill=\"none\" stroke=\"#000000\"/>\n",
       "<polygon fill=\"#000000\" points=\"532.2223,-264.8228 537.4198,-255.5904 527.5993,-259.5665 532.2223,-264.8228\" stroke=\"#000000\"/>\n",
       "</g>\n",
       "<!-- 120767457936&#45;&gt;120778747464 -->\n",
       "<g class=\"edge\" id=\"edge23\">\n",
       "<title>120767457936-&gt;120778747464</title>\n",
       "<path d=\"M620.4714,-292.4551C610.0963,-283.3299 597.3467,-272.1165 586.076,-262.2036\" fill=\"none\" stroke=\"#000000\"/>\n",
       "<polygon fill=\"#000000\" points=\"588.3772,-259.5665 578.5568,-255.5904 583.7542,-264.8228 588.3772,-259.5665\" stroke=\"#000000\"/>\n",
       "</g>\n",
       "<!-- 120776562840&#45;&gt;120778747464 -->\n",
       "<g class=\"edge\" id=\"edge24\">\n",
       "<title>120776562840-&gt;120778747464</title>\n",
       "<path d=\"M798.465,-298.0338C754.8475,-287.0542 690.4806,-270.8515 639.3138,-257.9716\" fill=\"none\" stroke=\"#000000\"/>\n",
       "<polygon fill=\"#000000\" points=\"640.1463,-254.572 629.5944,-255.525 638.4375,-261.3603 640.1463,-254.572\" stroke=\"#000000\"/>\n",
       "</g>\n",
       "<!-- 120780306752 -->\n",
       "<g class=\"node\" id=\"node23\">\n",
       "<title>120780306752</title>\n",
       "<polygon fill=\"none\" points=\"397.752,-146.5 397.752,-182.5 718.2246,-182.5 718.2246,-146.5 397.752,-146.5\" stroke=\"#000000\"/>\n",
       "<text fill=\"#000000\" font-family=\"Times,serif\" font-size=\"14.00\" text-anchor=\"middle\" x=\"557.9883\" y=\"-160.3\">time_distributed_1(dense_1): TimeDistributed(Dense)</text>\n",
       "</g>\n",
       "<!-- 120778747464&#45;&gt;120780306752 -->\n",
       "<g class=\"edge\" id=\"edge25\">\n",
       "<title>120778747464-&gt;120780306752</title>\n",
       "<path d=\"M557.9883,-219.4551C557.9883,-211.3828 557.9883,-201.6764 557.9883,-192.6817\" fill=\"none\" stroke=\"#000000\"/>\n",
       "<polygon fill=\"#000000\" points=\"561.4884,-192.5903 557.9883,-182.5904 554.4884,-192.5904 561.4884,-192.5903\" stroke=\"#000000\"/>\n",
       "</g>\n",
       "<!-- 120780306080 -->\n",
       "<g class=\"node\" id=\"node24\">\n",
       "<title>120780306080</title>\n",
       "<polygon fill=\"none\" points=\"508.5659,-73.5 508.5659,-109.5 607.4106,-109.5 607.4106,-73.5 508.5659,-73.5\" stroke=\"#000000\"/>\n",
       "<text fill=\"#000000\" font-family=\"Times,serif\" font-size=\"14.00\" text-anchor=\"middle\" x=\"557.9883\" y=\"-87.3\">lstm_9: LSTM</text>\n",
       "</g>\n",
       "<!-- 120780306752&#45;&gt;120780306080 -->\n",
       "<g class=\"edge\" id=\"edge26\">\n",
       "<title>120780306752-&gt;120780306080</title>\n",
       "<path d=\"M557.9883,-146.4551C557.9883,-138.3828 557.9883,-128.6764 557.9883,-119.6817\" fill=\"none\" stroke=\"#000000\"/>\n",
       "<polygon fill=\"#000000\" points=\"561.4884,-119.5903 557.9883,-109.5904 554.4884,-119.5904 561.4884,-119.5903\" stroke=\"#000000\"/>\n",
       "</g>\n",
       "<!-- 120751268808 -->\n",
       "<g class=\"node\" id=\"node25\">\n",
       "<title>120751268808</title>\n",
       "<polygon fill=\"none\" points=\"415.6348,-.5 415.6348,-36.5 546.3418,-36.5 546.3418,-.5 415.6348,-.5\" stroke=\"#000000\"/>\n",
       "<text fill=\"#000000\" font-family=\"Times,serif\" font-size=\"14.00\" text-anchor=\"middle\" x=\"480.9883\" y=\"-14.3\">output_notes: Dense</text>\n",
       "</g>\n",
       "<!-- 120780306080&#45;&gt;120751268808 -->\n",
       "<g class=\"edge\" id=\"edge27\">\n",
       "<title>120780306080-&gt;120751268808</title>\n",
       "<path d=\"M538.9546,-73.4551C529.422,-64.4177 517.7288,-53.3319 507.3475,-43.4899\" fill=\"none\" stroke=\"#000000\"/>\n",
       "<polygon fill=\"#000000\" points=\"509.735,-40.9305 500.0699,-36.5904 504.9189,-46.0104 509.735,-40.9305\" stroke=\"#000000\"/>\n",
       "</g>\n",
       "<!-- 120775248640 -->\n",
       "<g class=\"node\" id=\"node26\">\n",
       "<title>120775248640</title>\n",
       "<polygon fill=\"none\" points=\"564.4141,-.5 564.4141,-36.5 707.5625,-36.5 707.5625,-.5 564.4141,-.5\" stroke=\"#000000\"/>\n",
       "<text fill=\"#000000\" font-family=\"Times,serif\" font-size=\"14.00\" text-anchor=\"middle\" x=\"635.9883\" y=\"-14.3\">output_volume: Dense</text>\n",
       "</g>\n",
       "<!-- 120780306080&#45;&gt;120775248640 -->\n",
       "<g class=\"edge\" id=\"edge28\">\n",
       "<title>120780306080-&gt;120775248640</title>\n",
       "<path d=\"M577.2692,-73.4551C586.9256,-64.4177 598.7706,-53.3319 609.2867,-43.4899\" fill=\"none\" stroke=\"#000000\"/>\n",
       "<polygon fill=\"#000000\" points=\"611.7492,-45.979 616.6589,-36.5904 606.966,-40.8681 611.7492,-45.979\" stroke=\"#000000\"/>\n",
       "</g>\n",
       "</g>\n",
       "</svg>"
      ],
      "text/plain": [
       "<IPython.core.display.SVG object>"
      ]
     },
     "execution_count": 15,
     "metadata": {},
     "output_type": "execute_result"
    }
   ],
   "source": [
    "SVG(model_to_dot(model).create(prog='dot', format='svg'))"
   ]
  },
  {
   "cell_type": "code",
   "execution_count": null,
   "metadata": {
    "collapsed": true
   },
   "outputs": [],
   "source": []
  },
  {
   "cell_type": "code",
   "execution_count": 16,
   "metadata": {
    "collapsed": true
   },
   "outputs": [],
   "source": [
    "test_cache = dataset.values[30:n_hours + 30].tolist()\n",
    "test_data = test_cache.copy()\n",
    "array_to_play = test_cache.copy()"
   ]
  },
  {
   "cell_type": "code",
   "execution_count": 17,
   "metadata": {},
   "outputs": [
    {
     "name": "stdout",
     "output_type": "stream",
     "text": [
      "[[57, 45], [57, 45], [76, 55], [76, 66], [57, 48], [57, 0], [57, 51], [81, 57], [57, 40], [57, 0], [57, 40], [80, 53], [80, 0], [80, 64], [80, 48], [69, 47], [69, 0], [81, 58], [80, 43], [80, 21], [80, 21], [84, 40], [84, 61], [84, 61], [84, 60], [83, 55], [53, 38], [53, 0], [69, 27], [53, 2], [50, 13], [50, 0], [57, 15], [57, 14], [57, 14], [57, 7], [57, 4], [69, 7], [69, 0], [69, 5], [57, 2], [57, 0], [57, 0], [57, 0], [72, 2], [72, 0], [72, 7], [72, 4], [72, 3], [72, 3], [64, 3], [76, 15], [64, 0], [64, 0], [64, 0], [77, 11], [77, 0], [77, 17], [76, 8], [76, 0], [76, 0], [67, 3], [67, 0], [67, 0]]\n"
     ]
    }
   ],
   "source": [
    "print(test_data)"
   ]
  },
  {
   "cell_type": "code",
   "execution_count": 18,
   "metadata": {
    "collapsed": true
   },
   "outputs": [],
   "source": [
    "def process_data(testx):\n",
    "    testx = DataFrame(data = testx)\n",
    "    testx = testx.values\n",
    "    testx = testx.astype('float32')\n",
    "    testx = scaler.transform(testx)\n",
    "    return(testx)"
   ]
  },
  {
   "cell_type": "code",
   "execution_count": null,
   "metadata": {
    "collapsed": true
   },
   "outputs": [],
   "source": []
  },
  {
   "cell_type": "code",
   "execution_count": null,
   "metadata": {
    "collapsed": true
   },
   "outputs": [],
   "source": []
  },
  {
   "cell_type": "code",
   "execution_count": null,
   "metadata": {},
   "outputs": [],
   "source": [
    "def on_epoch_end(epoch, logs):\n",
    "    global test_cache\n",
    "    global test_data\n",
    "    global array_to_play\n",
    "#     if epoch % 5 == 0:\n",
    "    start = time.time()\n",
    "    print('----- Generating sound after: %d' % epoch)\n",
    "    for i in range(500):\n",
    "#         if i == 50 or i == 250:\n",
    "#             for i in range(15):\n",
    "#                 to_add = [59, 67]\n",
    "#                 array_to_play.append(to_add)\n",
    "#                 test_data.append(to_add)\n",
    "#             for i in range(15):\n",
    "#                 test_data.pop(0)\n",
    "        if i == 100 or i == 300:    \n",
    "            for i in range(15):\n",
    "                to_add = [0, 0]\n",
    "                array_to_play.append(to_add)\n",
    "                test_data.append(to_add)\n",
    "            for i in range(15):\n",
    "                test_data.pop(0)\n",
    "        \n",
    "        data = process_data(test_data)\n",
    "        data = data.reshape(1,n_hours,2)\n",
    "        prediction = model.predict(data)\n",
    "        prediction = asarray(prediction).ravel().reshape(-1,n_features)\n",
    "        prediction = scaler.inverse_transform(prediction)\n",
    "        prediction = prediction.astype('int')\n",
    "        prediction = prediction[0].tolist()\n",
    "        test_data.append(prediction)\n",
    "        test_data.pop(0)\n",
    "        array_to_play.append(prediction)\n",
    "    end = time.time()\n",
    "    print('time:', end - start)\n",
    "    print('len array_to_play', len(array_to_play))\n",
    "    print(array_to_play)\n",
    "    for value in array_to_play:\n",
    "        player.play(value[0], .03, value[1])\n",
    "    test_data = test_cache.copy()\n",
    "    array_to_play = test_cache.copy()\n",
    "\n",
    "    \n",
    "play_callback = LambdaCallback(on_epoch_end=on_epoch_end)"
   ]
  },
  {
   "cell_type": "code",
   "execution_count": null,
   "metadata": {
    "scrolled": false
   },
   "outputs": [
    {
     "name": "stdout",
     "output_type": "stream",
     "text": [
      "Train on 17097 samples, validate on 5635 samples\n",
      "Epoch 1/100\n",
      "17088/17097 [============================>.] - ETA: 0s - loss: 0.3255 - output_notes_loss: 0.1345 - output_volume_loss: 0.1910----- Generating sound after: 0\n",
      "time: 14.592933893203735\n",
      "len array_to_play 624\n",
      "[[57, 45], [57, 45], [76, 55], [76, 66], [57, 48], [57, 0], [57, 51], [81, 57], [57, 40], [57, 0], [57, 40], [80, 53], [80, 0], [80, 64], [80, 48], [69, 47], [69, 0], [81, 58], [80, 43], [80, 21], [80, 21], [84, 40], [84, 61], [84, 61], [84, 60], [83, 55], [53, 38], [53, 0], [69, 27], [53, 2], [50, 13], [50, 0], [57, 15], [57, 14], [57, 14], [57, 7], [57, 4], [69, 7], [69, 0], [69, 5], [57, 2], [57, 0], [57, 0], [57, 0], [72, 2], [72, 0], [72, 7], [72, 4], [72, 3], [72, 3], [64, 3], [76, 15], [64, 0], [64, 0], [64, 0], [77, 11], [77, 0], [77, 17], [76, 8], [76, 0], [76, 0], [67, 3], [67, 0], [67, 0], [62, 45], [62, 45], [62, 45], [61, 46], [61, 46], [61, 47], [60, 48], [60, 49], [60, 50], [60, 50], [60, 51], [60, 52], [60, 52], [60, 53], [60, 53], [60, 53], [60, 54], [60, 54], [60, 54], [60, 54], [59, 55], [59, 55], [59, 55], [59, 56], [59, 56], [59, 57], [59, 57], [59, 57], [59, 57], [59, 57], [59, 57], [59, 58], [59, 58], [59, 58], [59, 58], [59, 58], [59, 58], [59, 58], [59, 58], [60, 58], [60, 58], [60, 58], [60, 58], [60, 58], [60, 58], [60, 58], [60, 58], [60, 58], [60, 58], [60, 58], [59, 67], [59, 67], [59, 67], [59, 67], [59, 67], [59, 67], [59, 67], [59, 67], [59, 67], [59, 67], [59, 67], [59, 67], [59, 67], [59, 67], [59, 67], [60, 61], [60, 61], [60, 61], [60, 61], [60, 61], [60, 61], [60, 61], [60, 61], [60, 61], [60, 61], [60, 61], [60, 61], [60, 60], [60, 60], [60, 60], [60, 60], [60, 60], [60, 60], [60, 60], [60, 60], [60, 60], [60, 60], [60, 60], [60, 60], [60, 60], [60, 60], [60, 60], [60, 60], [60, 60], [60, 60], [60, 60], [60, 60], [60, 60], [60, 60], [60, 60], [60, 60], [60, 60], [60, 60], [60, 60], [60, 60], [60, 60], [60, 60], [60, 60], [60, 60], [60, 60], [60, 60], [60, 60], [60, 60], [60, 60], [60, 60], [0, 0], [0, 0], [0, 0], [0, 0], [0, 0], [0, 0], [0, 0], [0, 0], [0, 0], [0, 0], [0, 0], [0, 0], [0, 0], [0, 0], [0, 0], [55, 58], [55, 58], [54, 59], [55, 59], [55, 59], [55, 60], [55, 60], [55, 60], [55, 61], [56, 61], [56, 61], [56, 61], [57, 61], [57, 61], [57, 61], [58, 61], [58, 61], [58, 61], [58, 61], [58, 61], [58, 62], [58, 62], [57, 62], [57, 62], [57, 63], [57, 63], [57, 63], [57, 63], [57, 63], [57, 63], [57, 63], [57, 63], [57, 63], [57, 63], [57, 63], [57, 63], [58, 63], [58, 63], [58, 63], [58, 63], [58, 63], [58, 62], [58, 62], [58, 62], [58, 62], [58, 62], [58, 63], [58, 63], [58, 63], [58, 63], [59, 63], [59, 63], [59, 63], [59, 63], [59, 63], [59, 62], [59, 62], [59, 62], [59, 62], [60, 62], [60, 62], [60, 61], [60, 61], [60, 61], [60, 61], [60, 61], [60, 61], [60, 61], [60, 61], [60, 61], [60, 61], [60, 61], [60, 61], [60, 61], [60, 61], [60, 61], [60, 61], [60, 60], [60, 60], [60, 60], [60, 60], [60, 60], [60, 60], [60, 60], [60, 60], [60, 60], [60, 60], [60, 60], [60, 60], [60, 60], [60, 60], [60, 60], [60, 60], [60, 60], [60, 60], [60, 60], [60, 60], [60, 60], [60, 60], [60, 60], [60, 60], [60, 60], [60, 60], [60, 60], [60, 60], [60, 60], [60, 60], [60, 60], [60, 60], [60, 60], [60, 60], [60, 60], [60, 60], [60, 60], [60, 60], [60, 60], [60, 60], [60, 60], [60, 60], [60, 60], [60, 60], [60, 60], [60, 60], [60, 60], [60, 60], [60, 60], [60, 60], [60, 60], [60, 60], [60, 60], [60, 60], [60, 60], [60, 60], [60, 60], [60, 60], [60, 60], [60, 60], [60, 60], [60, 60], [60, 60], [60, 60], [60, 60], [60, 60], [60, 60], [60, 60], [60, 60], [60, 60], [60, 60], [60, 60], [60, 60], [59, 67], [59, 67], [59, 67], [59, 67], [59, 67], [59, 67], [59, 67], [59, 67], [59, 67], [59, 67], [59, 67], [59, 67], [59, 67], [59, 67], [59, 67], [60, 61], [60, 61], [60, 61], [60, 61], [60, 61], [60, 61], [60, 61], [60, 61], [60, 61], [60, 61], [60, 61], [60, 61], [60, 61], [60, 60], [60, 60], [60, 60], [60, 60], [60, 60], [60, 60], [60, 60], [60, 60], [60, 60], [60, 60], [60, 60], [60, 60], [60, 60], [60, 60], [60, 60], [60, 60], [60, 60], [60, 60], [60, 60], [60, 60], [60, 60], [60, 60], [60, 60], [60, 60], [60, 60], [60, 60], [60, 60], [60, 60], [60, 60], [60, 60], [60, 60], [60, 60], [60, 60], [60, 60], [60, 60], [60, 60], [60, 60], [0, 0], [0, 0], [0, 0], [0, 0], [0, 0], [0, 0], [0, 0], [0, 0], [0, 0], [0, 0], [0, 0], [0, 0], [0, 0], [0, 0], [0, 0], [55, 58], [55, 58], [54, 59], [55, 59], [55, 59], [55, 60], [55, 60], [55, 60], [55, 61], [56, 61], [56, 61], [56, 61], [57, 61], [57, 61], [57, 61], [58, 61], [58, 61], [58, 61], [58, 61], [58, 61], [58, 62], [58, 62], [57, 62], [57, 62], [57, 63], [57, 63], [57, 63], [57, 63], [57, 63], [57, 63], [57, 63], [57, 63], [57, 63], [57, 63], [57, 63], [57, 63], [58, 63], [58, 63], [58, 63], [58, 63], [58, 63], [58, 62], [58, 62], [58, 62], [58, 62], [58, 62], [58, 63], [58, 63], [58, 63], [58, 63], [59, 63], [59, 63], [59, 63], [59, 63], [59, 63], [59, 62], [59, 62], [59, 62], [59, 62], [60, 62], [60, 62], [60, 61], [60, 61], [60, 61], [60, 61], [60, 61], [60, 61], [60, 61], [60, 61], [60, 61], [60, 61], [60, 61], [60, 61], [60, 61], [60, 61], [60, 61], [60, 61], [60, 60], [60, 60], [60, 60], [60, 60], [60, 60], [60, 60], [60, 60], [60, 60], [60, 60], [60, 60], [60, 60], [60, 60], [60, 60], [60, 60], [60, 60], [60, 60], [60, 60], [60, 60], [60, 60], [60, 60], [60, 60], [60, 60], [60, 60], [60, 60], [60, 60], [60, 60], [60, 60], [60, 60], [60, 60], [60, 60], [60, 60], [60, 60], [60, 60], [60, 60], [60, 60], [60, 60], [60, 60], [60, 60], [60, 60], [60, 60], [60, 60], [60, 60], [60, 60], [60, 60], [60, 60], [60, 60], [60, 60], [60, 60], [60, 60], [60, 60], [60, 60], [60, 60], [60, 60], [60, 60], [60, 60], [60, 60], [60, 60], [60, 60], [60, 60], [60, 60], [60, 60], [60, 60], [60, 60], [60, 60], [60, 60], [60, 60], [60, 60], [60, 60], [60, 60], [60, 60], [60, 60], [60, 60], [60, 60], [60, 60], [60, 60], [60, 60], [60, 60], [60, 60], [60, 60], [60, 60], [60, 60], [60, 60], [60, 60], [60, 60], [60, 60], [60, 60], [60, 60], [60, 60], [60, 60], [60, 60], [60, 60], [60, 60], [60, 60], [60, 60], [60, 60], [60, 60], [60, 60], [60, 60], [60, 60], [60, 60], [60, 60], [60, 60], [60, 60], [60, 60], [60, 60], [60, 60], [60, 60], [60, 60], [60, 60], [60, 60], [60, 60], [60, 60], [60, 60], [60, 60], [60, 60], [60, 60], [60, 60], [60, 60], [60, 60], [60, 60], [60, 60], [60, 60], [60, 60]]\n",
      "17097/17097 [==============================] - 140s - loss: 0.3254 - output_notes_loss: 0.1344 - output_volume_loss: 0.1909 - val_loss: 0.3763 - val_output_notes_loss: 0.1666 - val_output_volume_loss: 0.2097\n",
      "Epoch 2/100\n",
      " 6912/17097 [===========>..................] - ETA: 58s - loss: 0.2978 - output_notes_loss: 0.1244 - output_volume_loss: 0.1734"
     ]
    }
   ],
   "source": [
    "history = model.fit(\n",
    "            {'input': train_X},\n",
    "            {\n",
    "                'output_notes': train_y_notes, \n",
    "                'output_volume': train_y_volume, \n",
    "            },\n",
    "            validation_data=({'input': test_X},\n",
    "                             {\n",
    "                                 'output_notes': test_y_notes, \n",
    "                                 'output_volume': test_y_volume, \n",
    "                             }), \n",
    "            verbose=1,\n",
    "            shuffle=False,\n",
    "            epochs=epochs, \n",
    "            batch_size=int(batch_size),\n",
    "            callbacks=[play_callback]\n",
    ")"
   ]
  },
  {
   "cell_type": "code",
   "execution_count": null,
   "metadata": {},
   "outputs": [],
   "source": [
    "# serialize model to JSON\n",
    "model_json = model.to_json()\n",
    "with open(\"model.json\", \"w\") as json_file:\n",
    "    json_file.write(model_json)\n",
    "# serialize weights to HDF5\n",
    "model.save_weights(\"model.h5\")\n",
    "print(\"Saved model to disk\")"
   ]
  },
  {
   "cell_type": "code",
   "execution_count": null,
   "metadata": {},
   "outputs": [],
   "source": [
    "# plot history\n",
    "pyplot.plot(history.history['loss'], label='train')\n",
    "pyplot.plot(history.history['val_loss'], label='test')\n",
    "pyplot.legend()\n",
    "pyplot.show()"
   ]
  },
  {
   "cell_type": "code",
   "execution_count": null,
   "metadata": {
    "collapsed": true
   },
   "outputs": [],
   "source": [
    "joblib.dump(scaler, 'scaler.pkl')\n",
    "print('Saved scaler to disk.')\n",
    "frame as supervised learning"
   ]
  },
  {
   "cell_type": "code",
   "execution_count": null,
   "metadata": {
    "collapsed": true
   },
   "outputs": [],
   "source": []
  }
 ],
 "metadata": {
  "kernelspec": {
   "display_name": "Python 3",
   "language": "python",
   "name": "python3"
  },
  "language_info": {
   "codemirror_mode": {
    "name": "ipython",
    "version": 3
   },
   "file_extension": ".py",
   "mimetype": "text/x-python",
   "name": "python",
   "nbconvert_exporter": "python",
   "pygments_lexer": "ipython3",
   "version": "3.6.4"
  }
 },
 "nbformat": 4,
 "nbformat_minor": 1
}
